{
 "cells": [
  {
   "cell_type": "markdown",
   "id": "e757cbfe-9f22-4af6-bdf2-a9f016a070c9",
   "metadata": {},
   "source": [
    "# LTV Analysis - Exploratory data analysis\n",
    "Author: Ricardo Raspini Motta"
   ]
  },
  {
   "cell_type": "code",
   "execution_count": 1,
   "id": "27368193-386b-49d6-8112-aaff51f24c4d",
   "metadata": {},
   "outputs": [],
   "source": [
    "import pandas as pd\n",
    "import numpy as np\n",
    "import seaborn as sns\n",
    "import matplotlib.pyplot as plt\n",
    "import sklearn.metrics as metrics\n",
    "from sklearn.preprocessing import OneHotEncoder, StandardScaler\n",
    "from sklearn.compose import ColumnTransformer\n",
    "from sklearn.pipeline import Pipeline\n",
    "from sklearn.ensemble import GradientBoostingClassifier\n",
    "from sklearn.calibration import calibration_curve \n",
    "from sklearn.metrics import brier_score_loss\n",
    "from sklearn.model_selection import train_test_split\n",
    "\n",
    "from xgboost import XGBClassifier\n",
    "import lifelines\n",
    "\n",
    "from sklearn.model_selection import GridSearchCV"
   ]
  },
  {
   "cell_type": "code",
   "execution_count": 2,
   "id": "eac1c7cd-8d22-47b4-95ea-406d2bd45523",
   "metadata": {},
   "outputs": [
    {
     "data": {
      "text/html": [
       "<pre style=\"white-space:pre;overflow-x:auto;line-height:normal;font-family:Menlo,'DejaVu Sans Mono',consolas,'Courier New',monospace\"><span style=\"color: #7fbfbf; text-decoration-color: #7fbfbf\">[11/28/23 00:08:13] </span><span style=\"color: #000080; text-decoration-color: #000080\">INFO    </span> Loading data from <span style=\"color: #008000; text-decoration-color: #008000\">'base'</span> <span style=\"font-weight: bold\">(</span>CSVDataSet<span style=\"font-weight: bold\">)</span><span style=\"color: #808000; text-decoration-color: #808000\">...</span>                           <a href=\"file:///home/ricardormotta/projects/LTV_analysis/venv/lib/python3.10/site-packages/kedro/io/data_catalog.py\" target=\"_blank\"><span style=\"color: #7f7f7f; text-decoration-color: #7f7f7f\">data_catalog.py</span></a><span style=\"color: #7f7f7f; text-decoration-color: #7f7f7f\">:</span><a href=\"file:///home/ricardormotta/projects/LTV_analysis/venv/lib/python3.10/site-packages/kedro/io/data_catalog.py#502\" target=\"_blank\"><span style=\"color: #7f7f7f; text-decoration-color: #7f7f7f\">502</span></a>\n",
       "</pre>\n"
      ],
      "text/plain": [
       "\u001b[2;36m[11/28/23 00:08:13]\u001b[0m\u001b[2;36m \u001b[0m\u001b[34mINFO    \u001b[0m Loading data from \u001b[32m'base'\u001b[0m \u001b[1m(\u001b[0mCSVDataSet\u001b[1m)\u001b[0m\u001b[33m...\u001b[0m                           \u001b]8;id=210379;file:///home/ricardormotta/projects/LTV_analysis/venv/lib/python3.10/site-packages/kedro/io/data_catalog.py\u001b\\\u001b[2mdata_catalog.py\u001b[0m\u001b]8;;\u001b\\\u001b[2m:\u001b[0m\u001b]8;id=169096;file:///home/ricardormotta/projects/LTV_analysis/venv/lib/python3.10/site-packages/kedro/io/data_catalog.py#502\u001b\\\u001b[2m502\u001b[0m\u001b]8;;\u001b\\\n"
      ]
     },
     "metadata": {},
     "output_type": "display_data"
    },
    {
     "data": {
      "text/html": [
       "<pre style=\"white-space:pre;overflow-x:auto;line-height:normal;font-family:Menlo,'DejaVu Sans Mono',consolas,'Courier New',monospace\"><span style=\"color: #7fbfbf; text-decoration-color: #7fbfbf\">                    </span><span style=\"color: #000080; text-decoration-color: #000080\">INFO    </span> Loading data from <span style=\"color: #008000; text-decoration-color: #008000\">'xs'</span> <span style=\"font-weight: bold\">(</span>CSVDataSet<span style=\"font-weight: bold\">)</span><span style=\"color: #808000; text-decoration-color: #808000\">...</span>                             <a href=\"file:///home/ricardormotta/projects/LTV_analysis/venv/lib/python3.10/site-packages/kedro/io/data_catalog.py\" target=\"_blank\"><span style=\"color: #7f7f7f; text-decoration-color: #7f7f7f\">data_catalog.py</span></a><span style=\"color: #7f7f7f; text-decoration-color: #7f7f7f\">:</span><a href=\"file:///home/ricardormotta/projects/LTV_analysis/venv/lib/python3.10/site-packages/kedro/io/data_catalog.py#502\" target=\"_blank\"><span style=\"color: #7f7f7f; text-decoration-color: #7f7f7f\">502</span></a>\n",
       "</pre>\n"
      ],
      "text/plain": [
       "\u001b[2;36m                   \u001b[0m\u001b[2;36m \u001b[0m\u001b[34mINFO    \u001b[0m Loading data from \u001b[32m'xs'\u001b[0m \u001b[1m(\u001b[0mCSVDataSet\u001b[1m)\u001b[0m\u001b[33m...\u001b[0m                             \u001b]8;id=718729;file:///home/ricardormotta/projects/LTV_analysis/venv/lib/python3.10/site-packages/kedro/io/data_catalog.py\u001b\\\u001b[2mdata_catalog.py\u001b[0m\u001b]8;;\u001b\\\u001b[2m:\u001b[0m\u001b]8;id=191029;file:///home/ricardormotta/projects/LTV_analysis/venv/lib/python3.10/site-packages/kedro/io/data_catalog.py#502\u001b\\\u001b[2m502\u001b[0m\u001b]8;;\u001b\\\n"
      ]
     },
     "metadata": {},
     "output_type": "display_data"
    }
   ],
   "source": [
    "base = catalog.load(\"base\")\n",
    "xs = catalog.load(\"xs\")"
   ]
  },
  {
   "cell_type": "markdown",
   "id": "9b405240-7800-4d50-91f3-82187ef88f51",
   "metadata": {},
   "source": [
    "### Base table"
   ]
  },
  {
   "cell_type": "code",
   "execution_count": 3,
   "id": "7ab238a8-15a4-43bd-beb3-2e7eadbe1ee3",
   "metadata": {},
   "outputs": [
    {
     "data": {
      "text/html": [
       "<pre style=\"white-space:pre;overflow-x:auto;line-height:normal;font-family:Menlo,'DejaVu Sans Mono',consolas,'Courier New',monospace\"></pre>\n"
      ],
      "text/plain": []
     },
     "metadata": {},
     "output_type": "display_data"
    },
    {
     "data": {
      "text/html": [
       "<div>\n",
       "<style scoped>\n",
       "    .dataframe tbody tr th:only-of-type {\n",
       "        vertical-align: middle;\n",
       "    }\n",
       "\n",
       "    .dataframe tbody tr th {\n",
       "        vertical-align: top;\n",
       "    }\n",
       "\n",
       "    .dataframe thead th {\n",
       "        text-align: right;\n",
       "    }\n",
       "</style>\n",
       "<table border=\"1\" class=\"dataframe\">\n",
       "  <thead>\n",
       "    <tr style=\"text-align: right;\">\n",
       "      <th></th>\n",
       "      <th>user_id</th>\n",
       "      <th>customer_started_at</th>\n",
       "      <th>customer_churned_at</th>\n",
       "      <th>product</th>\n",
       "      <th>commission</th>\n",
       "      <th>channel</th>\n",
       "      <th>age_bucket</th>\n",
       "      <th>operating_system</th>\n",
       "    </tr>\n",
       "  </thead>\n",
       "  <tbody>\n",
       "    <tr>\n",
       "      <th>0</th>\n",
       "      <td>37d76d441d</td>\n",
       "      <td>2020-12-01</td>\n",
       "      <td>NaN</td>\n",
       "      <td>product_a</td>\n",
       "      <td>12.1775</td>\n",
       "      <td>channel_a</td>\n",
       "      <td>55+</td>\n",
       "      <td>iOS</td>\n",
       "    </tr>\n",
       "    <tr>\n",
       "      <th>1</th>\n",
       "      <td>cdc1327d79</td>\n",
       "      <td>2022-05-09</td>\n",
       "      <td>NaN</td>\n",
       "      <td>product_a</td>\n",
       "      <td>12.4575</td>\n",
       "      <td>channel_a</td>\n",
       "      <td>18-24</td>\n",
       "      <td>iOS</td>\n",
       "    </tr>\n",
       "    <tr>\n",
       "      <th>2</th>\n",
       "      <td>fac8c03aa8</td>\n",
       "      <td>2021-11-20</td>\n",
       "      <td>2023-01-01</td>\n",
       "      <td>product_c</td>\n",
       "      <td>21.6625</td>\n",
       "      <td>channel_a</td>\n",
       "      <td>35-39</td>\n",
       "      <td>Android</td>\n",
       "    </tr>\n",
       "    <tr>\n",
       "      <th>3</th>\n",
       "      <td>b0c703a998</td>\n",
       "      <td>2020-05-21</td>\n",
       "      <td>NaN</td>\n",
       "      <td>product_a</td>\n",
       "      <td>12.0475</td>\n",
       "      <td>channel_b</td>\n",
       "      <td>35-39</td>\n",
       "      <td>Android</td>\n",
       "    </tr>\n",
       "    <tr>\n",
       "      <th>4</th>\n",
       "      <td>0276bcc756</td>\n",
       "      <td>2021-04-15</td>\n",
       "      <td>NaN</td>\n",
       "      <td>product_c</td>\n",
       "      <td>15.7700</td>\n",
       "      <td>channel_b</td>\n",
       "      <td>35-39</td>\n",
       "      <td>Android</td>\n",
       "    </tr>\n",
       "    <tr>\n",
       "      <th>...</th>\n",
       "      <td>...</td>\n",
       "      <td>...</td>\n",
       "      <td>...</td>\n",
       "      <td>...</td>\n",
       "      <td>...</td>\n",
       "      <td>...</td>\n",
       "      <td>...</td>\n",
       "      <td>...</td>\n",
       "    </tr>\n",
       "    <tr>\n",
       "      <th>102618</th>\n",
       "      <td>7df1a34a0d</td>\n",
       "      <td>2021-02-12</td>\n",
       "      <td>NaN</td>\n",
       "      <td>product_a</td>\n",
       "      <td>12.6825</td>\n",
       "      <td>channel_a</td>\n",
       "      <td>45-49</td>\n",
       "      <td>iOS</td>\n",
       "    </tr>\n",
       "    <tr>\n",
       "      <th>102619</th>\n",
       "      <td>58ce7b5a49</td>\n",
       "      <td>2022-11-27</td>\n",
       "      <td>NaN</td>\n",
       "      <td>product_b</td>\n",
       "      <td>13.6975</td>\n",
       "      <td>channel_a</td>\n",
       "      <td>45-49</td>\n",
       "      <td>iOS</td>\n",
       "    </tr>\n",
       "    <tr>\n",
       "      <th>102620</th>\n",
       "      <td>4744036910</td>\n",
       "      <td>2022-07-22</td>\n",
       "      <td>NaN</td>\n",
       "      <td>product_a</td>\n",
       "      <td>12.1925</td>\n",
       "      <td>channel_a</td>\n",
       "      <td>45-49</td>\n",
       "      <td>iOS</td>\n",
       "    </tr>\n",
       "    <tr>\n",
       "      <th>102621</th>\n",
       "      <td>ca58e4734d</td>\n",
       "      <td>2021-07-16</td>\n",
       "      <td>NaN</td>\n",
       "      <td>product_a</td>\n",
       "      <td>13.7525</td>\n",
       "      <td>channel_a</td>\n",
       "      <td>50-54</td>\n",
       "      <td>Android</td>\n",
       "    </tr>\n",
       "    <tr>\n",
       "      <th>102622</th>\n",
       "      <td>b1677c3ae1</td>\n",
       "      <td>2021-09-22</td>\n",
       "      <td>NaN</td>\n",
       "      <td>product_a</td>\n",
       "      <td>13.1950</td>\n",
       "      <td>channel_b</td>\n",
       "      <td>18-24</td>\n",
       "      <td>iOS</td>\n",
       "    </tr>\n",
       "  </tbody>\n",
       "</table>\n",
       "<p>102623 rows × 8 columns</p>\n",
       "</div>"
      ],
      "text/plain": [
       "\n",
       "           user_id customer_started_at customer_churned_at    product  \\\n",
       "\u001b[1;36m0\u001b[0m       37d76d441d          \u001b[1;36m2020\u001b[0m-\u001b[1;36m12\u001b[0m-\u001b[1;36m01\u001b[0m                 NaN  product_a   \n",
       "\u001b[1;36m1\u001b[0m       cdc1327d79          \u001b[1;36m2022\u001b[0m-\u001b[1;36m05\u001b[0m-\u001b[1;36m09\u001b[0m                 NaN  product_a   \n",
       "\u001b[1;36m2\u001b[0m       fac8c03aa8          \u001b[1;36m2021\u001b[0m-\u001b[1;36m11\u001b[0m-\u001b[1;36m20\u001b[0m          \u001b[1;36m2023\u001b[0m-\u001b[1;36m01\u001b[0m-\u001b[1;36m01\u001b[0m  product_c   \n",
       "\u001b[1;36m3\u001b[0m       b0c703a998          \u001b[1;36m2020\u001b[0m-\u001b[1;36m05\u001b[0m-\u001b[1;36m21\u001b[0m                 NaN  product_a   \n",
       "\u001b[1;36m4\u001b[0m       0276bcc756          \u001b[1;36m2021\u001b[0m-\u001b[1;36m04\u001b[0m-\u001b[1;36m15\u001b[0m                 NaN  product_c   \n",
       "\u001b[33m...\u001b[0m            \u001b[33m...\u001b[0m                 \u001b[33m...\u001b[0m                 \u001b[33m...\u001b[0m        \u001b[33m...\u001b[0m   \n",
       "\u001b[1;36m102618\u001b[0m  7df1a34a0d          \u001b[1;36m2021\u001b[0m-\u001b[1;36m02\u001b[0m-\u001b[1;36m12\u001b[0m                 NaN  product_a   \n",
       "\u001b[1;36m102619\u001b[0m  58ce7b5a49          \u001b[1;36m2022\u001b[0m-\u001b[1;36m11\u001b[0m-\u001b[1;36m27\u001b[0m                 NaN  product_b   \n",
       "\u001b[1;36m102620\u001b[0m  \u001b[1;36m4744036910\u001b[0m          \u001b[1;36m2022\u001b[0m-\u001b[1;36m07\u001b[0m-\u001b[1;36m22\u001b[0m                 NaN  product_a   \n",
       "\u001b[1;36m102621\u001b[0m  ca58e4734d          \u001b[1;36m2021\u001b[0m-\u001b[1;36m07\u001b[0m-\u001b[1;36m16\u001b[0m                 NaN  product_a   \n",
       "\u001b[1;36m102622\u001b[0m  b1677c3ae1          \u001b[1;36m2021\u001b[0m-\u001b[1;36m09\u001b[0m-\u001b[1;36m22\u001b[0m                 NaN  product_a   \n",
       "\n",
       "        commission    channel age_bucket operating_system  \n",
       "\u001b[1;36m0\u001b[0m          \u001b[1;36m12.1775\u001b[0m  channel_a        \u001b[1;36m55\u001b[0m+              iOS  \n",
       "\u001b[1;36m1\u001b[0m          \u001b[1;36m12.4575\u001b[0m  channel_a      \u001b[1;36m18\u001b[0m-\u001b[1;36m24\u001b[0m              iOS  \n",
       "\u001b[1;36m2\u001b[0m          \u001b[1;36m21.6625\u001b[0m  channel_a      \u001b[1;36m35\u001b[0m-\u001b[1;36m39\u001b[0m          Android  \n",
       "\u001b[1;36m3\u001b[0m          \u001b[1;36m12.0475\u001b[0m  channel_b      \u001b[1;36m35\u001b[0m-\u001b[1;36m39\u001b[0m          Android  \n",
       "\u001b[1;36m4\u001b[0m          \u001b[1;36m15.7700\u001b[0m  channel_b      \u001b[1;36m35\u001b[0m-\u001b[1;36m39\u001b[0m          Android  \n",
       "\u001b[33m...\u001b[0m            \u001b[33m...\u001b[0m        \u001b[33m...\u001b[0m        \u001b[33m...\u001b[0m              \u001b[33m...\u001b[0m  \n",
       "\u001b[1;36m102618\u001b[0m     \u001b[1;36m12.6825\u001b[0m  channel_a      \u001b[1;36m45\u001b[0m-\u001b[1;36m49\u001b[0m              iOS  \n",
       "\u001b[1;36m102619\u001b[0m     \u001b[1;36m13.6975\u001b[0m  channel_a      \u001b[1;36m45\u001b[0m-\u001b[1;36m49\u001b[0m              iOS  \n",
       "\u001b[1;36m102620\u001b[0m     \u001b[1;36m12.1925\u001b[0m  channel_a      \u001b[1;36m45\u001b[0m-\u001b[1;36m49\u001b[0m              iOS  \n",
       "\u001b[1;36m102621\u001b[0m     \u001b[1;36m13.7525\u001b[0m  channel_a      \u001b[1;36m50\u001b[0m-\u001b[1;36m54\u001b[0m          Android  \n",
       "\u001b[1;36m102622\u001b[0m     \u001b[1;36m13.1950\u001b[0m  channel_b      \u001b[1;36m18\u001b[0m-\u001b[1;36m24\u001b[0m              iOS  \n",
       "\n",
       "\u001b[1m[\u001b[0m\u001b[1;36m102623\u001b[0m rows x \u001b[1;36m8\u001b[0m columns\u001b[1m]\u001b[0m"
      ]
     },
     "execution_count": 3,
     "metadata": {},
     "output_type": "execute_result"
    }
   ],
   "source": [
    "base"
   ]
  },
  {
   "cell_type": "code",
   "execution_count": 4,
   "id": "fed016c7-2191-4f75-ab07-6361265d4305",
   "metadata": {},
   "outputs": [
    {
     "data": {
      "text/html": [
       "<pre style=\"white-space:pre;overflow-x:auto;line-height:normal;font-family:Menlo,'DejaVu Sans Mono',consolas,'Courier New',monospace\"></pre>\n"
      ],
      "text/plain": []
     },
     "metadata": {},
     "output_type": "display_data"
    },
    {
     "data": {
      "text/plain": [
       "\n",
       "age_bucket\n",
       "\u001b[1;36m30\u001b[0m-\u001b[1;36m34\u001b[0m        \u001b[1;36m22731\u001b[0m\n",
       "\u001b[1;36m25\u001b[0m-\u001b[1;36m29\u001b[0m        \u001b[1;36m22346\u001b[0m\n",
       "\u001b[1;36m35\u001b[0m-\u001b[1;36m39\u001b[0m        \u001b[1;36m14100\u001b[0m\n",
       "\u001b[1;36m55\u001b[0m+          \u001b[1;36m11560\u001b[0m\n",
       "\u001b[1;36m18\u001b[0m-\u001b[1;36m24\u001b[0m        \u001b[1;36m10458\u001b[0m\n",
       "\u001b[1;36m40\u001b[0m-\u001b[1;36m44\u001b[0m         \u001b[1;36m9266\u001b[0m\n",
       "\u001b[1;36m45\u001b[0m-\u001b[1;36m49\u001b[0m         \u001b[1;36m6298\u001b[0m\n",
       "\u001b[1;36m50\u001b[0m-\u001b[1;36m54\u001b[0m         \u001b[1;36m5810\u001b[0m\n",
       "undefined       \u001b[1;36m54\u001b[0m\n",
       "Name: count, dtype: int64"
      ]
     },
     "execution_count": 4,
     "metadata": {},
     "output_type": "execute_result"
    }
   ],
   "source": [
    "base[\"age_bucket\"].value_counts()"
   ]
  },
  {
   "cell_type": "code",
   "execution_count": 5,
   "id": "6276239f-edd6-4ed9-b22c-af34f422b97f",
   "metadata": {},
   "outputs": [
    {
     "data": {
      "text/html": [
       "<pre style=\"white-space:pre;overflow-x:auto;line-height:normal;font-family:Menlo,'DejaVu Sans Mono',consolas,'Courier New',monospace\"></pre>\n"
      ],
      "text/plain": []
     },
     "metadata": {},
     "output_type": "display_data"
    },
    {
     "data": {
      "text/plain": [
       "\n",
       "product\n",
       "product_a    \u001b[1;36m82084\u001b[0m\n",
       "product_c    \u001b[1;36m15921\u001b[0m\n",
       "product_b     \u001b[1;36m4618\u001b[0m\n",
       "Name: count, dtype: int64"
      ]
     },
     "execution_count": 5,
     "metadata": {},
     "output_type": "execute_result"
    }
   ],
   "source": [
    "base[\"product\"].value_counts()"
   ]
  },
  {
   "cell_type": "code",
   "execution_count": 6,
   "id": "9f94a16b-23ba-430c-8fd7-4f1447ea40ea",
   "metadata": {},
   "outputs": [
    {
     "data": {
      "text/html": [
       "<pre style=\"white-space:pre;overflow-x:auto;line-height:normal;font-family:Menlo,'DejaVu Sans Mono',consolas,'Courier New',monospace\"></pre>\n"
      ],
      "text/plain": []
     },
     "metadata": {},
     "output_type": "display_data"
    },
    {
     "data": {
      "text/plain": [
       "\n",
       "channel\n",
       "channel_b    \u001b[1;36m56057\u001b[0m\n",
       "channel_a    \u001b[1;36m46566\u001b[0m\n",
       "Name: count, dtype: int64"
      ]
     },
     "execution_count": 6,
     "metadata": {},
     "output_type": "execute_result"
    }
   ],
   "source": [
    "base[\"channel\"].value_counts()"
   ]
  },
  {
   "cell_type": "code",
   "execution_count": 7,
   "id": "8f876728-8085-4762-98ac-c7561feebba6",
   "metadata": {},
   "outputs": [
    {
     "data": {
      "text/html": [
       "<pre style=\"white-space:pre;overflow-x:auto;line-height:normal;font-family:Menlo,'DejaVu Sans Mono',consolas,'Courier New',monospace\"></pre>\n"
      ],
      "text/plain": []
     },
     "metadata": {},
     "output_type": "display_data"
    },
    {
     "data": {
      "text/plain": [
       "\n",
       "count    \u001b[1;36m102623.000000\u001b[0m\n",
       "mean         \u001b[1;36m13.500813\u001b[0m\n",
       "std           \u001b[1;36m3.990741\u001b[0m\n",
       "min          \u001b[1;36m10.000000\u001b[0m\n",
       "\u001b[1;36m25\u001b[0m%          \u001b[1;36m11.905000\u001b[0m\n",
       "\u001b[1;36m50\u001b[0m%          \u001b[1;36m12.557500\u001b[0m\n",
       "\u001b[1;36m75\u001b[0m%          \u001b[1;36m13.447500\u001b[0m\n",
       "max         \u001b[1;36m136.407500\u001b[0m\n",
       "Name: commission, dtype: float64"
      ]
     },
     "execution_count": 7,
     "metadata": {},
     "output_type": "execute_result"
    }
   ],
   "source": [
    "base[\"commission\"].describe()"
   ]
  },
  {
   "cell_type": "code",
   "execution_count": 8,
   "id": "0e74a4be-e40c-4a5b-bbb2-1e3b92f20a10",
   "metadata": {},
   "outputs": [
    {
     "data": {
      "text/html": [
       "<pre style=\"white-space:pre;overflow-x:auto;line-height:normal;font-family:Menlo,'DejaVu Sans Mono',consolas,'Courier New',monospace\"></pre>\n"
      ],
      "text/plain": []
     },
     "metadata": {},
     "output_type": "display_data"
    },
    {
     "data": {
      "text/plain": [
       "\n",
       "operating_system\n",
       "Android      \u001b[1;36m48405\u001b[0m\n",
       "iOS          \u001b[1;36m47520\u001b[0m\n",
       "iPadOS         \u001b[1;36m797\u001b[0m\n",
       "iPhone OS       \u001b[1;36m18\u001b[0m\n",
       "Name: count, dtype: int64"
      ]
     },
     "execution_count": 8,
     "metadata": {},
     "output_type": "execute_result"
    }
   ],
   "source": [
    "base[\"operating_system\"].value_counts()"
   ]
  },
  {
   "cell_type": "code",
   "execution_count": 9,
   "id": "6d31a94f-cd0e-48bf-80cb-26229820547e",
   "metadata": {},
   "outputs": [],
   "source": [
    "base.loc[:, \"operating_system\"] = base[\"operating_system\"].replace({\"iPadOS\": \"iOS\", \"iPhone OS\": \"iOS\"})"
   ]
  },
  {
   "cell_type": "markdown",
   "id": "a4009a08-6189-4e98-95c3-7eb73d114591",
   "metadata": {},
   "source": [
    "### Cross selling table"
   ]
  },
  {
   "cell_type": "code",
   "execution_count": 10,
   "id": "622f5f75-953b-4e48-8522-6fcbd5c9c69e",
   "metadata": {},
   "outputs": [
    {
     "data": {
      "text/html": [
       "<pre style=\"white-space:pre;overflow-x:auto;line-height:normal;font-family:Menlo,'DejaVu Sans Mono',consolas,'Courier New',monospace\"></pre>\n"
      ],
      "text/plain": []
     },
     "metadata": {},
     "output_type": "display_data"
    },
    {
     "data": {
      "text/html": [
       "<div>\n",
       "<style scoped>\n",
       "    .dataframe tbody tr th:only-of-type {\n",
       "        vertical-align: middle;\n",
       "    }\n",
       "\n",
       "    .dataframe tbody tr th {\n",
       "        vertical-align: top;\n",
       "    }\n",
       "\n",
       "    .dataframe thead th {\n",
       "        text-align: right;\n",
       "    }\n",
       "</style>\n",
       "<table border=\"1\" class=\"dataframe\">\n",
       "  <thead>\n",
       "    <tr style=\"text-align: right;\">\n",
       "      <th></th>\n",
       "      <th>user_id</th>\n",
       "      <th>product</th>\n",
       "      <th>commission</th>\n",
       "      <th>date</th>\n",
       "    </tr>\n",
       "  </thead>\n",
       "  <tbody>\n",
       "    <tr>\n",
       "      <th>0</th>\n",
       "      <td>ccc05d82e1</td>\n",
       "      <td>product_y</td>\n",
       "      <td>499.6000</td>\n",
       "      <td>2022-08-05</td>\n",
       "    </tr>\n",
       "    <tr>\n",
       "      <th>1</th>\n",
       "      <td>77a488f223</td>\n",
       "      <td>product_y</td>\n",
       "      <td>821.2950</td>\n",
       "      <td>2022-10-20</td>\n",
       "    </tr>\n",
       "    <tr>\n",
       "      <th>2</th>\n",
       "      <td>e717cb5a0b</td>\n",
       "      <td>product_y</td>\n",
       "      <td>1215.0350</td>\n",
       "      <td>2023-01-19</td>\n",
       "    </tr>\n",
       "    <tr>\n",
       "      <th>3</th>\n",
       "      <td>1e9ca78b5b</td>\n",
       "      <td>product_y</td>\n",
       "      <td>413.1800</td>\n",
       "      <td>2022-12-20</td>\n",
       "    </tr>\n",
       "    <tr>\n",
       "      <th>4</th>\n",
       "      <td>eee1f85c5c</td>\n",
       "      <td>product_y</td>\n",
       "      <td>354.4475</td>\n",
       "      <td>2022-10-06</td>\n",
       "    </tr>\n",
       "    <tr>\n",
       "      <th>...</th>\n",
       "      <td>...</td>\n",
       "      <td>...</td>\n",
       "      <td>...</td>\n",
       "      <td>...</td>\n",
       "    </tr>\n",
       "    <tr>\n",
       "      <th>1313</th>\n",
       "      <td>b46d770837</td>\n",
       "      <td>product_y</td>\n",
       "      <td>579.6650</td>\n",
       "      <td>2022-11-01</td>\n",
       "    </tr>\n",
       "    <tr>\n",
       "      <th>1314</th>\n",
       "      <td>af3b28aac0</td>\n",
       "      <td>product_y</td>\n",
       "      <td>418.3700</td>\n",
       "      <td>2022-10-11</td>\n",
       "    </tr>\n",
       "    <tr>\n",
       "      <th>1315</th>\n",
       "      <td>623b0fe810</td>\n",
       "      <td>product_x</td>\n",
       "      <td>1269.0025</td>\n",
       "      <td>2022-06-30</td>\n",
       "    </tr>\n",
       "    <tr>\n",
       "      <th>1316</th>\n",
       "      <td>3cc2642221</td>\n",
       "      <td>product_y</td>\n",
       "      <td>377.0550</td>\n",
       "      <td>2022-09-22</td>\n",
       "    </tr>\n",
       "    <tr>\n",
       "      <th>1317</th>\n",
       "      <td>c9699ea28e</td>\n",
       "      <td>product_y</td>\n",
       "      <td>1421.0200</td>\n",
       "      <td>2022-09-27</td>\n",
       "    </tr>\n",
       "  </tbody>\n",
       "</table>\n",
       "<p>1318 rows × 4 columns</p>\n",
       "</div>"
      ],
      "text/plain": [
       "\n",
       "         user_id    product  commission        date\n",
       "\u001b[1;36m0\u001b[0m     ccc05d82e1  product_y    \u001b[1;36m499.6000\u001b[0m  \u001b[1;36m2022\u001b[0m-\u001b[1;36m08\u001b[0m-\u001b[1;36m05\u001b[0m\n",
       "\u001b[1;36m1\u001b[0m     77a488f223  product_y    \u001b[1;36m821.2950\u001b[0m  \u001b[1;36m2022\u001b[0m-\u001b[1;36m10\u001b[0m-\u001b[1;36m20\u001b[0m\n",
       "\u001b[1;36m2\u001b[0m     e717cb5a0b  product_y   \u001b[1;36m1215.0350\u001b[0m  \u001b[1;36m2023\u001b[0m-\u001b[1;36m01\u001b[0m-\u001b[1;36m19\u001b[0m\n",
       "\u001b[1;36m3\u001b[0m     1e9ca78b5b  product_y    \u001b[1;36m413.1800\u001b[0m  \u001b[1;36m2022\u001b[0m-\u001b[1;36m12\u001b[0m-\u001b[1;36m20\u001b[0m\n",
       "\u001b[1;36m4\u001b[0m     eee1f85c5c  product_y    \u001b[1;36m354.4475\u001b[0m  \u001b[1;36m2022\u001b[0m-\u001b[1;36m10\u001b[0m-\u001b[1;36m06\u001b[0m\n",
       "\u001b[33m...\u001b[0m          \u001b[33m...\u001b[0m        \u001b[33m...\u001b[0m         \u001b[33m...\u001b[0m         \u001b[33m...\u001b[0m\n",
       "\u001b[1;36m1313\u001b[0m  b46d770837  product_y    \u001b[1;36m579.6650\u001b[0m  \u001b[1;36m2022\u001b[0m-\u001b[1;36m11\u001b[0m-\u001b[1;36m01\u001b[0m\n",
       "\u001b[1;36m1314\u001b[0m  af3b28aac0  product_y    \u001b[1;36m418.3700\u001b[0m  \u001b[1;36m2022\u001b[0m-\u001b[1;36m10\u001b[0m-\u001b[1;36m11\u001b[0m\n",
       "\u001b[1;36m1315\u001b[0m  623b0fe810  product_x   \u001b[1;36m1269.0025\u001b[0m  \u001b[1;36m2022\u001b[0m-\u001b[1;36m06\u001b[0m-\u001b[1;36m30\u001b[0m\n",
       "\u001b[1;36m1316\u001b[0m  3cc2642221  product_y    \u001b[1;36m377.0550\u001b[0m  \u001b[1;36m2022\u001b[0m-\u001b[1;36m09\u001b[0m-\u001b[1;36m22\u001b[0m\n",
       "\u001b[1;36m1317\u001b[0m  c9699ea28e  product_y   \u001b[1;36m1421.0200\u001b[0m  \u001b[1;36m2022\u001b[0m-\u001b[1;36m09\u001b[0m-\u001b[1;36m27\u001b[0m\n",
       "\n",
       "\u001b[1m[\u001b[0m\u001b[1;36m1318\u001b[0m rows x \u001b[1;36m4\u001b[0m columns\u001b[1m]\u001b[0m"
      ]
     },
     "execution_count": 10,
     "metadata": {},
     "output_type": "execute_result"
    }
   ],
   "source": [
    "xs"
   ]
  },
  {
   "cell_type": "markdown",
   "id": "97667835-7989-452b-a014-afc88741e03f",
   "metadata": {},
   "source": [
    "#### All users are unique in the base table"
   ]
  },
  {
   "cell_type": "code",
   "execution_count": 11,
   "id": "c191e1f9-fded-4352-b22d-970c5105ecf6",
   "metadata": {},
   "outputs": [
    {
     "data": {
      "text/html": [
       "<pre style=\"white-space:pre;overflow-x:auto;line-height:normal;font-family:Menlo,'DejaVu Sans Mono',consolas,'Courier New',monospace\"></pre>\n"
      ],
      "text/plain": []
     },
     "metadata": {},
     "output_type": "display_data"
    },
    {
     "data": {
      "text/plain": [
       "\u001b[3;92mTrue\u001b[0m"
      ]
     },
     "execution_count": 11,
     "metadata": {},
     "output_type": "execute_result"
    }
   ],
   "source": [
    "len(base[\"user_id\"].unique()) == len(base)"
   ]
  },
  {
   "cell_type": "markdown",
   "id": "f0af6a1c-b99e-4e49-b4c2-3775e9e3679a",
   "metadata": {},
   "source": [
    "#### That is not the same at the Cross Selling table"
   ]
  },
  {
   "cell_type": "code",
   "execution_count": 12,
   "id": "18d56fb5-0103-41c8-ac28-b8f3e423c764",
   "metadata": {},
   "outputs": [
    {
     "data": {
      "text/html": [
       "<pre style=\"white-space:pre;overflow-x:auto;line-height:normal;font-family:Menlo,'DejaVu Sans Mono',consolas,'Courier New',monospace\"></pre>\n"
      ],
      "text/plain": []
     },
     "metadata": {},
     "output_type": "display_data"
    },
    {
     "data": {
      "text/plain": [
       "\u001b[3;91mFalse\u001b[0m"
      ]
     },
     "execution_count": 12,
     "metadata": {},
     "output_type": "execute_result"
    }
   ],
   "source": [
    "len(xs[\"user_id\"].unique()) == len(xs)"
   ]
  },
  {
   "cell_type": "markdown",
   "id": "23021883-5b9c-4809-8e70-22222326970a",
   "metadata": {},
   "source": [
    "#### Looking for the most frequent client"
   ]
  },
  {
   "cell_type": "code",
   "execution_count": 13,
   "id": "56c3b53d-c311-484d-b254-b4b6498dd093",
   "metadata": {},
   "outputs": [
    {
     "data": {
      "text/html": [
       "<pre style=\"white-space:pre;overflow-x:auto;line-height:normal;font-family:Menlo,'DejaVu Sans Mono',consolas,'Courier New',monospace\"></pre>\n"
      ],
      "text/plain": []
     },
     "metadata": {},
     "output_type": "display_data"
    },
    {
     "data": {
      "text/plain": [
       "\n",
       "user_id\n",
       "995528dadd    \u001b[1;36m5\u001b[0m\n",
       "Name: count, dtype: int64"
      ]
     },
     "execution_count": 13,
     "metadata": {},
     "output_type": "execute_result"
    }
   ],
   "source": [
    "xs[\"user_id\"].value_counts().head(1)"
   ]
  },
  {
   "cell_type": "code",
   "execution_count": 14,
   "id": "b0f8234f-1802-40fb-9d63-494da060ba70",
   "metadata": {},
   "outputs": [
    {
     "data": {
      "text/html": [
       "<pre style=\"white-space:pre;overflow-x:auto;line-height:normal;font-family:Menlo,'DejaVu Sans Mono',consolas,'Courier New',monospace\"></pre>\n"
      ],
      "text/plain": []
     },
     "metadata": {},
     "output_type": "display_data"
    },
    {
     "data": {
      "text/html": [
       "<div>\n",
       "<style scoped>\n",
       "    .dataframe tbody tr th:only-of-type {\n",
       "        vertical-align: middle;\n",
       "    }\n",
       "\n",
       "    .dataframe tbody tr th {\n",
       "        vertical-align: top;\n",
       "    }\n",
       "\n",
       "    .dataframe thead th {\n",
       "        text-align: right;\n",
       "    }\n",
       "</style>\n",
       "<table border=\"1\" class=\"dataframe\">\n",
       "  <thead>\n",
       "    <tr style=\"text-align: right;\">\n",
       "      <th></th>\n",
       "      <th>user_id</th>\n",
       "      <th>customer_started_at</th>\n",
       "      <th>customer_churned_at</th>\n",
       "      <th>product</th>\n",
       "      <th>commission</th>\n",
       "      <th>channel</th>\n",
       "      <th>age_bucket</th>\n",
       "      <th>operating_system</th>\n",
       "    </tr>\n",
       "  </thead>\n",
       "  <tbody>\n",
       "    <tr>\n",
       "      <th>22280</th>\n",
       "      <td>995528dadd</td>\n",
       "      <td>2022-04-24</td>\n",
       "      <td>NaN</td>\n",
       "      <td>product_a</td>\n",
       "      <td>12.925</td>\n",
       "      <td>channel_b</td>\n",
       "      <td>30-34</td>\n",
       "      <td>Android</td>\n",
       "    </tr>\n",
       "  </tbody>\n",
       "</table>\n",
       "</div>"
      ],
      "text/plain": [
       "\n",
       "          user_id customer_started_at customer_churned_at    product  \\\n",
       "\u001b[1;36m22280\u001b[0m  995528dadd          \u001b[1;36m2022\u001b[0m-\u001b[1;36m04\u001b[0m-\u001b[1;36m24\u001b[0m                 NaN  product_a   \n",
       "\n",
       "       commission    channel age_bucket operating_system  \n",
       "\u001b[1;36m22280\u001b[0m      \u001b[1;36m12.925\u001b[0m  channel_b      \u001b[1;36m30\u001b[0m-\u001b[1;36m34\u001b[0m          Android  "
      ]
     },
     "execution_count": 14,
     "metadata": {},
     "output_type": "execute_result"
    }
   ],
   "source": [
    "base.loc[base[\"user_id\"]==\"995528dadd\"]"
   ]
  },
  {
   "cell_type": "code",
   "execution_count": 15,
   "id": "7d6a22f6-eab7-41a0-ae8a-c568d5d83510",
   "metadata": {},
   "outputs": [
    {
     "data": {
      "text/html": [
       "<pre style=\"white-space:pre;overflow-x:auto;line-height:normal;font-family:Menlo,'DejaVu Sans Mono',consolas,'Courier New',monospace\"></pre>\n"
      ],
      "text/plain": []
     },
     "metadata": {},
     "output_type": "display_data"
    },
    {
     "data": {
      "text/html": [
       "<div>\n",
       "<style scoped>\n",
       "    .dataframe tbody tr th:only-of-type {\n",
       "        vertical-align: middle;\n",
       "    }\n",
       "\n",
       "    .dataframe tbody tr th {\n",
       "        vertical-align: top;\n",
       "    }\n",
       "\n",
       "    .dataframe thead th {\n",
       "        text-align: right;\n",
       "    }\n",
       "</style>\n",
       "<table border=\"1\" class=\"dataframe\">\n",
       "  <thead>\n",
       "    <tr style=\"text-align: right;\">\n",
       "      <th></th>\n",
       "      <th>user_id</th>\n",
       "      <th>product</th>\n",
       "      <th>commission</th>\n",
       "      <th>date</th>\n",
       "    </tr>\n",
       "  </thead>\n",
       "  <tbody>\n",
       "    <tr>\n",
       "      <th>163</th>\n",
       "      <td>995528dadd</td>\n",
       "      <td>product_y</td>\n",
       "      <td>262.00</td>\n",
       "      <td>2022-12-30</td>\n",
       "    </tr>\n",
       "    <tr>\n",
       "      <th>164</th>\n",
       "      <td>995528dadd</td>\n",
       "      <td>product_y</td>\n",
       "      <td>1723.60</td>\n",
       "      <td>2022-05-05</td>\n",
       "    </tr>\n",
       "    <tr>\n",
       "      <th>165</th>\n",
       "      <td>995528dadd</td>\n",
       "      <td>product_y</td>\n",
       "      <td>195.46</td>\n",
       "      <td>2022-05-05</td>\n",
       "    </tr>\n",
       "    <tr>\n",
       "      <th>166</th>\n",
       "      <td>995528dadd</td>\n",
       "      <td>product_y</td>\n",
       "      <td>262.00</td>\n",
       "      <td>2022-12-30</td>\n",
       "    </tr>\n",
       "    <tr>\n",
       "      <th>167</th>\n",
       "      <td>995528dadd</td>\n",
       "      <td>product_y</td>\n",
       "      <td>244.60</td>\n",
       "      <td>2023-02-08</td>\n",
       "    </tr>\n",
       "  </tbody>\n",
       "</table>\n",
       "</div>"
      ],
      "text/plain": [
       "\n",
       "        user_id    product  commission        date\n",
       "\u001b[1;36m163\u001b[0m  995528dadd  product_y      \u001b[1;36m262.00\u001b[0m  \u001b[1;36m2022\u001b[0m-\u001b[1;36m12\u001b[0m-\u001b[1;36m30\u001b[0m\n",
       "\u001b[1;36m164\u001b[0m  995528dadd  product_y     \u001b[1;36m1723.60\u001b[0m  \u001b[1;36m2022\u001b[0m-\u001b[1;36m05\u001b[0m-\u001b[1;36m05\u001b[0m\n",
       "\u001b[1;36m165\u001b[0m  995528dadd  product_y      \u001b[1;36m195.46\u001b[0m  \u001b[1;36m2022\u001b[0m-\u001b[1;36m05\u001b[0m-\u001b[1;36m05\u001b[0m\n",
       "\u001b[1;36m166\u001b[0m  995528dadd  product_y      \u001b[1;36m262.00\u001b[0m  \u001b[1;36m2022\u001b[0m-\u001b[1;36m12\u001b[0m-\u001b[1;36m30\u001b[0m\n",
       "\u001b[1;36m167\u001b[0m  995528dadd  product_y      \u001b[1;36m244.60\u001b[0m  \u001b[1;36m2023\u001b[0m-\u001b[1;36m02\u001b[0m-\u001b[1;36m08\u001b[0m"
      ]
     },
     "execution_count": 15,
     "metadata": {},
     "output_type": "execute_result"
    }
   ],
   "source": [
    "xs.loc[xs[\"user_id\"]==\"995528dadd\"]"
   ]
  },
  {
   "cell_type": "markdown",
   "id": "a6dbcb45-956b-415b-b7ef-a62c3ca5afa1",
   "metadata": {},
   "source": [
    "## Commission per product"
   ]
  },
  {
   "cell_type": "code",
   "execution_count": 16,
   "id": "6a079fff-db86-4c7f-b89a-9017b66820d2",
   "metadata": {},
   "outputs": [],
   "source": [
    "def get_commission_per_product(df):\n",
    "    comission_per_product = df.groupby(\"product\").agg({\"commission\": [\"sum\",\"count\"]})\n",
    "    comission_per_product.columns = list(map('_'.join, comission_per_product.columns.values))\n",
    "    \n",
    "    comission_per_product.loc[:,\"commission_per_unit\"] = comission_per_product[\"commission_sum\"] / comission_per_product[\"commission_count\"]\n",
    "    return comission_per_product"
   ]
  },
  {
   "cell_type": "code",
   "execution_count": 17,
   "id": "7c8e192d-be30-4392-8286-56de5c4e475c",
   "metadata": {},
   "outputs": [],
   "source": [
    "comission_per_product_base = get_commission_per_product(base)\n",
    "comission_per_product_xs = get_commission_per_product(xs)\n",
    "comission_per_product = pd.concat([\n",
    "        comission_per_product_base,\n",
    "        comission_per_product_xs\n",
    "    ],\n",
    "     ignore_index=False).reset_index()"
   ]
  },
  {
   "cell_type": "markdown",
   "id": "4d724698-825a-46a6-935f-25c3c0ca29ac",
   "metadata": {},
   "source": [
    "#### The table below shows that the commision per unit is far bigger in the cross selling products.\n",
    "That said, the cross selling brings a big financial opportunity"
   ]
  },
  {
   "cell_type": "code",
   "execution_count": 18,
   "id": "82393ced-6b40-45bd-b5fa-b9197b9c2958",
   "metadata": {},
   "outputs": [
    {
     "data": {
      "text/html": [
       "<pre style=\"white-space:pre;overflow-x:auto;line-height:normal;font-family:Menlo,'DejaVu Sans Mono',consolas,'Courier New',monospace\"></pre>\n"
      ],
      "text/plain": []
     },
     "metadata": {},
     "output_type": "display_data"
    },
    {
     "data": {
      "text/html": [
       "<div>\n",
       "<style scoped>\n",
       "    .dataframe tbody tr th:only-of-type {\n",
       "        vertical-align: middle;\n",
       "    }\n",
       "\n",
       "    .dataframe tbody tr th {\n",
       "        vertical-align: top;\n",
       "    }\n",
       "\n",
       "    .dataframe thead th {\n",
       "        text-align: right;\n",
       "    }\n",
       "</style>\n",
       "<table border=\"1\" class=\"dataframe\">\n",
       "  <thead>\n",
       "    <tr style=\"text-align: right;\">\n",
       "      <th></th>\n",
       "      <th>product</th>\n",
       "      <th>commission_sum</th>\n",
       "      <th>commission_count</th>\n",
       "      <th>commission_per_unit</th>\n",
       "    </tr>\n",
       "  </thead>\n",
       "  <tbody>\n",
       "    <tr>\n",
       "      <th>0</th>\n",
       "      <td>product_a</td>\n",
       "      <td>1.014396e+06</td>\n",
       "      <td>82084</td>\n",
       "      <td>12.358022</td>\n",
       "    </tr>\n",
       "    <tr>\n",
       "      <th>1</th>\n",
       "      <td>product_b</td>\n",
       "      <td>6.470865e+04</td>\n",
       "      <td>4618</td>\n",
       "      <td>14.012268</td>\n",
       "    </tr>\n",
       "    <tr>\n",
       "      <th>2</th>\n",
       "      <td>product_c</td>\n",
       "      <td>3.063894e+05</td>\n",
       "      <td>15921</td>\n",
       "      <td>19.244357</td>\n",
       "    </tr>\n",
       "    <tr>\n",
       "      <th>3</th>\n",
       "      <td>product_x</td>\n",
       "      <td>7.797592e+04</td>\n",
       "      <td>79</td>\n",
       "      <td>987.036930</td>\n",
       "    </tr>\n",
       "    <tr>\n",
       "      <th>4</th>\n",
       "      <td>product_y</td>\n",
       "      <td>6.511947e+05</td>\n",
       "      <td>976</td>\n",
       "      <td>667.207677</td>\n",
       "    </tr>\n",
       "  </tbody>\n",
       "</table>\n",
       "</div>"
      ],
      "text/plain": [
       "\n",
       "     product  commission_sum  commission_count  commission_per_unit\n",
       "\u001b[1;36m0\u001b[0m  product_a    \u001b[1;36m1.014396e+06\u001b[0m             \u001b[1;36m82084\u001b[0m            \u001b[1;36m12.358022\u001b[0m\n",
       "\u001b[1;36m1\u001b[0m  product_b    \u001b[1;36m6.470865e+04\u001b[0m              \u001b[1;36m4618\u001b[0m            \u001b[1;36m14.012268\u001b[0m\n",
       "\u001b[1;36m2\u001b[0m  product_c    \u001b[1;36m3.063894e+05\u001b[0m             \u001b[1;36m15921\u001b[0m            \u001b[1;36m19.244357\u001b[0m\n",
       "\u001b[1;36m3\u001b[0m  product_x    \u001b[1;36m7.797592e+04\u001b[0m                \u001b[1;36m79\u001b[0m           \u001b[1;36m987.036930\u001b[0m\n",
       "\u001b[1;36m4\u001b[0m  product_y    \u001b[1;36m6.511947e+05\u001b[0m               \u001b[1;36m976\u001b[0m           \u001b[1;36m667.207677\u001b[0m"
      ]
     },
     "execution_count": 18,
     "metadata": {},
     "output_type": "execute_result"
    }
   ],
   "source": [
    "comission_per_product"
   ]
  },
  {
   "cell_type": "code",
   "execution_count": 19,
   "id": "0c0e6e22-0b67-47b1-bb72-de0a5df8b5dd",
   "metadata": {},
   "outputs": [],
   "source": [
    "xs = pd.merge(\n",
    "    xs,\n",
    "    pd.get_dummies(xs[\"product\"]),\n",
    "    left_index=True,\n",
    "    right_index=True,\n",
    ")\n",
    "\n",
    "grouped_xs = xs.groupby(\"user_id\").sum()[[\"commission\", \"product_x\", \"product_y\"]].reset_index()\n",
    "\n",
    "df = pd.merge(\n",
    "    base,\n",
    "    grouped_xs,\n",
    "    on=\"user_id\",\n",
    "    how=\"left\",\n",
    "    suffixes=[\"_base\", \"_xs\"]\n",
    ")\n",
    "\n",
    "datetime_cols = [\"customer_churned_at\", \"customer_started_at\"]\n",
    "for col in datetime_cols:\n",
    "    df.loc[:, col] = pd.to_datetime(df[col], errors=\"coerce\", utc=False)\n",
    "\n",
    "df.loc[:,\"is_churn\"] = ~df[\"customer_churned_at\"].isna()"
   ]
  },
  {
   "cell_type": "code",
   "execution_count": 20,
   "id": "d9caa9a6-7d9a-48c2-a7da-520d526749b1",
   "metadata": {},
   "outputs": [
    {
     "data": {
      "text/html": [
       "<pre style=\"white-space:pre;overflow-x:auto;line-height:normal;font-family:Menlo,'DejaVu Sans Mono',consolas,'Courier New',monospace\"></pre>\n"
      ],
      "text/plain": []
     },
     "metadata": {},
     "output_type": "display_data"
    },
    {
     "data": {
      "text/html": [
       "<div>\n",
       "<style scoped>\n",
       "    .dataframe tbody tr th:only-of-type {\n",
       "        vertical-align: middle;\n",
       "    }\n",
       "\n",
       "    .dataframe tbody tr th {\n",
       "        vertical-align: top;\n",
       "    }\n",
       "\n",
       "    .dataframe thead th {\n",
       "        text-align: right;\n",
       "    }\n",
       "</style>\n",
       "<table border=\"1\" class=\"dataframe\">\n",
       "  <thead>\n",
       "    <tr style=\"text-align: right;\">\n",
       "      <th></th>\n",
       "      <th>user_id</th>\n",
       "      <th>customer_started_at</th>\n",
       "      <th>customer_churned_at</th>\n",
       "      <th>product</th>\n",
       "      <th>commission_base</th>\n",
       "      <th>channel</th>\n",
       "      <th>age_bucket</th>\n",
       "      <th>operating_system</th>\n",
       "      <th>commission_xs</th>\n",
       "      <th>product_x</th>\n",
       "      <th>product_y</th>\n",
       "      <th>is_churn</th>\n",
       "    </tr>\n",
       "  </thead>\n",
       "  <tbody>\n",
       "    <tr>\n",
       "      <th>0</th>\n",
       "      <td>37d76d441d</td>\n",
       "      <td>2020-12-01 00:00:00</td>\n",
       "      <td>NaT</td>\n",
       "      <td>product_a</td>\n",
       "      <td>12.1775</td>\n",
       "      <td>channel_a</td>\n",
       "      <td>55+</td>\n",
       "      <td>iOS</td>\n",
       "      <td>NaN</td>\n",
       "      <td>NaN</td>\n",
       "      <td>NaN</td>\n",
       "      <td>False</td>\n",
       "    </tr>\n",
       "    <tr>\n",
       "      <th>1</th>\n",
       "      <td>cdc1327d79</td>\n",
       "      <td>2022-05-09 00:00:00</td>\n",
       "      <td>NaT</td>\n",
       "      <td>product_a</td>\n",
       "      <td>12.4575</td>\n",
       "      <td>channel_a</td>\n",
       "      <td>18-24</td>\n",
       "      <td>iOS</td>\n",
       "      <td>NaN</td>\n",
       "      <td>NaN</td>\n",
       "      <td>NaN</td>\n",
       "      <td>False</td>\n",
       "    </tr>\n",
       "    <tr>\n",
       "      <th>2</th>\n",
       "      <td>fac8c03aa8</td>\n",
       "      <td>2021-11-20 00:00:00</td>\n",
       "      <td>2023-01-01 00:00:00</td>\n",
       "      <td>product_c</td>\n",
       "      <td>21.6625</td>\n",
       "      <td>channel_a</td>\n",
       "      <td>35-39</td>\n",
       "      <td>Android</td>\n",
       "      <td>NaN</td>\n",
       "      <td>NaN</td>\n",
       "      <td>NaN</td>\n",
       "      <td>True</td>\n",
       "    </tr>\n",
       "    <tr>\n",
       "      <th>3</th>\n",
       "      <td>b0c703a998</td>\n",
       "      <td>2020-05-21 00:00:00</td>\n",
       "      <td>NaT</td>\n",
       "      <td>product_a</td>\n",
       "      <td>12.0475</td>\n",
       "      <td>channel_b</td>\n",
       "      <td>35-39</td>\n",
       "      <td>Android</td>\n",
       "      <td>NaN</td>\n",
       "      <td>NaN</td>\n",
       "      <td>NaN</td>\n",
       "      <td>False</td>\n",
       "    </tr>\n",
       "    <tr>\n",
       "      <th>4</th>\n",
       "      <td>0276bcc756</td>\n",
       "      <td>2021-04-15 00:00:00</td>\n",
       "      <td>NaT</td>\n",
       "      <td>product_c</td>\n",
       "      <td>15.7700</td>\n",
       "      <td>channel_b</td>\n",
       "      <td>35-39</td>\n",
       "      <td>Android</td>\n",
       "      <td>NaN</td>\n",
       "      <td>NaN</td>\n",
       "      <td>NaN</td>\n",
       "      <td>False</td>\n",
       "    </tr>\n",
       "    <tr>\n",
       "      <th>...</th>\n",
       "      <td>...</td>\n",
       "      <td>...</td>\n",
       "      <td>...</td>\n",
       "      <td>...</td>\n",
       "      <td>...</td>\n",
       "      <td>...</td>\n",
       "      <td>...</td>\n",
       "      <td>...</td>\n",
       "      <td>...</td>\n",
       "      <td>...</td>\n",
       "      <td>...</td>\n",
       "      <td>...</td>\n",
       "    </tr>\n",
       "    <tr>\n",
       "      <th>102618</th>\n",
       "      <td>7df1a34a0d</td>\n",
       "      <td>2021-02-12 00:00:00</td>\n",
       "      <td>NaT</td>\n",
       "      <td>product_a</td>\n",
       "      <td>12.6825</td>\n",
       "      <td>channel_a</td>\n",
       "      <td>45-49</td>\n",
       "      <td>iOS</td>\n",
       "      <td>NaN</td>\n",
       "      <td>NaN</td>\n",
       "      <td>NaN</td>\n",
       "      <td>False</td>\n",
       "    </tr>\n",
       "    <tr>\n",
       "      <th>102619</th>\n",
       "      <td>58ce7b5a49</td>\n",
       "      <td>2022-11-27 00:00:00</td>\n",
       "      <td>NaT</td>\n",
       "      <td>product_b</td>\n",
       "      <td>13.6975</td>\n",
       "      <td>channel_a</td>\n",
       "      <td>45-49</td>\n",
       "      <td>iOS</td>\n",
       "      <td>NaN</td>\n",
       "      <td>NaN</td>\n",
       "      <td>NaN</td>\n",
       "      <td>False</td>\n",
       "    </tr>\n",
       "    <tr>\n",
       "      <th>102620</th>\n",
       "      <td>4744036910</td>\n",
       "      <td>2022-07-22 00:00:00</td>\n",
       "      <td>NaT</td>\n",
       "      <td>product_a</td>\n",
       "      <td>12.1925</td>\n",
       "      <td>channel_a</td>\n",
       "      <td>45-49</td>\n",
       "      <td>iOS</td>\n",
       "      <td>NaN</td>\n",
       "      <td>NaN</td>\n",
       "      <td>NaN</td>\n",
       "      <td>False</td>\n",
       "    </tr>\n",
       "    <tr>\n",
       "      <th>102621</th>\n",
       "      <td>ca58e4734d</td>\n",
       "      <td>2021-07-16 00:00:00</td>\n",
       "      <td>NaT</td>\n",
       "      <td>product_a</td>\n",
       "      <td>13.7525</td>\n",
       "      <td>channel_a</td>\n",
       "      <td>50-54</td>\n",
       "      <td>Android</td>\n",
       "      <td>NaN</td>\n",
       "      <td>NaN</td>\n",
       "      <td>NaN</td>\n",
       "      <td>False</td>\n",
       "    </tr>\n",
       "    <tr>\n",
       "      <th>102622</th>\n",
       "      <td>b1677c3ae1</td>\n",
       "      <td>2021-09-22 00:00:00</td>\n",
       "      <td>NaT</td>\n",
       "      <td>product_a</td>\n",
       "      <td>13.1950</td>\n",
       "      <td>channel_b</td>\n",
       "      <td>18-24</td>\n",
       "      <td>iOS</td>\n",
       "      <td>NaN</td>\n",
       "      <td>NaN</td>\n",
       "      <td>NaN</td>\n",
       "      <td>False</td>\n",
       "    </tr>\n",
       "  </tbody>\n",
       "</table>\n",
       "<p>102623 rows × 12 columns</p>\n",
       "</div>"
      ],
      "text/plain": [
       "\n",
       "           user_id  customer_started_at  customer_churned_at    product  \\\n",
       "\u001b[1;36m0\u001b[0m       37d76d441d  \u001b[1;36m2020\u001b[0m-\u001b[1;36m12\u001b[0m-\u001b[1;36m01\u001b[0m \u001b[1;92m00:00:00\u001b[0m                  NaT  product_a   \n",
       "\u001b[1;36m1\u001b[0m       cdc1327d79  \u001b[1;36m2022\u001b[0m-\u001b[1;36m05\u001b[0m-\u001b[1;36m09\u001b[0m \u001b[1;92m00:00:00\u001b[0m                  NaT  product_a   \n",
       "\u001b[1;36m2\u001b[0m       fac8c03aa8  \u001b[1;36m2021\u001b[0m-\u001b[1;36m11\u001b[0m-\u001b[1;36m20\u001b[0m \u001b[1;92m00:00:00\u001b[0m  \u001b[1;36m2023\u001b[0m-\u001b[1;36m01\u001b[0m-\u001b[1;36m01\u001b[0m \u001b[1;92m00:00:00\u001b[0m  product_c   \n",
       "\u001b[1;36m3\u001b[0m       b0c703a998  \u001b[1;36m2020\u001b[0m-\u001b[1;36m05\u001b[0m-\u001b[1;36m21\u001b[0m \u001b[1;92m00:00:00\u001b[0m                  NaT  product_a   \n",
       "\u001b[1;36m4\u001b[0m       0276bcc756  \u001b[1;36m2021\u001b[0m-\u001b[1;36m04\u001b[0m-\u001b[1;36m15\u001b[0m \u001b[1;92m00:00:00\u001b[0m                  NaT  product_c   \n",
       "\u001b[33m...\u001b[0m            \u001b[33m...\u001b[0m                  \u001b[33m...\u001b[0m                  \u001b[33m...\u001b[0m        \u001b[33m...\u001b[0m   \n",
       "\u001b[1;36m102618\u001b[0m  7df1a34a0d  \u001b[1;36m2021\u001b[0m-\u001b[1;36m02\u001b[0m-\u001b[1;36m12\u001b[0m \u001b[1;92m00:00:00\u001b[0m                  NaT  product_a   \n",
       "\u001b[1;36m102619\u001b[0m  58ce7b5a49  \u001b[1;36m2022\u001b[0m-\u001b[1;36m11\u001b[0m-\u001b[1;36m27\u001b[0m \u001b[1;92m00:00:00\u001b[0m                  NaT  product_b   \n",
       "\u001b[1;36m102620\u001b[0m  \u001b[1;36m4744036910\u001b[0m  \u001b[1;36m2022\u001b[0m-\u001b[1;36m07\u001b[0m-\u001b[1;36m22\u001b[0m \u001b[1;92m00:00:00\u001b[0m                  NaT  product_a   \n",
       "\u001b[1;36m102621\u001b[0m  ca58e4734d  \u001b[1;36m2021\u001b[0m-\u001b[1;36m07\u001b[0m-\u001b[1;36m16\u001b[0m \u001b[1;92m00:00:00\u001b[0m                  NaT  product_a   \n",
       "\u001b[1;36m102622\u001b[0m  b1677c3ae1  \u001b[1;36m2021\u001b[0m-\u001b[1;36m09\u001b[0m-\u001b[1;36m22\u001b[0m \u001b[1;92m00:00:00\u001b[0m                  NaT  product_a   \n",
       "\n",
       "        commission_base    channel age_bucket operating_system  commission_xs  \\\n",
       "\u001b[1;36m0\u001b[0m               \u001b[1;36m12.1775\u001b[0m  channel_a        \u001b[1;36m55\u001b[0m+              iOS            NaN   \n",
       "\u001b[1;36m1\u001b[0m               \u001b[1;36m12.4575\u001b[0m  channel_a      \u001b[1;36m18\u001b[0m-\u001b[1;36m24\u001b[0m              iOS            NaN   \n",
       "\u001b[1;36m2\u001b[0m               \u001b[1;36m21.6625\u001b[0m  channel_a      \u001b[1;36m35\u001b[0m-\u001b[1;36m39\u001b[0m          Android            NaN   \n",
       "\u001b[1;36m3\u001b[0m               \u001b[1;36m12.0475\u001b[0m  channel_b      \u001b[1;36m35\u001b[0m-\u001b[1;36m39\u001b[0m          Android            NaN   \n",
       "\u001b[1;36m4\u001b[0m               \u001b[1;36m15.7700\u001b[0m  channel_b      \u001b[1;36m35\u001b[0m-\u001b[1;36m39\u001b[0m          Android            NaN   \n",
       "\u001b[33m...\u001b[0m                 \u001b[33m...\u001b[0m        \u001b[33m...\u001b[0m        \u001b[33m...\u001b[0m              \u001b[33m...\u001b[0m            \u001b[33m...\u001b[0m   \n",
       "\u001b[1;36m102618\u001b[0m          \u001b[1;36m12.6825\u001b[0m  channel_a      \u001b[1;36m45\u001b[0m-\u001b[1;36m49\u001b[0m              iOS            NaN   \n",
       "\u001b[1;36m102619\u001b[0m          \u001b[1;36m13.6975\u001b[0m  channel_a      \u001b[1;36m45\u001b[0m-\u001b[1;36m49\u001b[0m              iOS            NaN   \n",
       "\u001b[1;36m102620\u001b[0m          \u001b[1;36m12.1925\u001b[0m  channel_a      \u001b[1;36m45\u001b[0m-\u001b[1;36m49\u001b[0m              iOS            NaN   \n",
       "\u001b[1;36m102621\u001b[0m          \u001b[1;36m13.7525\u001b[0m  channel_a      \u001b[1;36m50\u001b[0m-\u001b[1;36m54\u001b[0m          Android            NaN   \n",
       "\u001b[1;36m102622\u001b[0m          \u001b[1;36m13.1950\u001b[0m  channel_b      \u001b[1;36m18\u001b[0m-\u001b[1;36m24\u001b[0m              iOS            NaN   \n",
       "\n",
       "        product_x  product_y  is_churn  \n",
       "\u001b[1;36m0\u001b[0m             NaN        NaN     \u001b[3;91mFalse\u001b[0m  \n",
       "\u001b[1;36m1\u001b[0m             NaN        NaN     \u001b[3;91mFalse\u001b[0m  \n",
       "\u001b[1;36m2\u001b[0m             NaN        NaN      \u001b[3;92mTrue\u001b[0m  \n",
       "\u001b[1;36m3\u001b[0m             NaN        NaN     \u001b[3;91mFalse\u001b[0m  \n",
       "\u001b[1;36m4\u001b[0m             NaN        NaN     \u001b[3;91mFalse\u001b[0m  \n",
       "\u001b[33m...\u001b[0m           \u001b[33m...\u001b[0m        \u001b[33m...\u001b[0m       \u001b[33m...\u001b[0m  \n",
       "\u001b[1;36m102618\u001b[0m        NaN        NaN     \u001b[3;91mFalse\u001b[0m  \n",
       "\u001b[1;36m102619\u001b[0m        NaN        NaN     \u001b[3;91mFalse\u001b[0m  \n",
       "\u001b[1;36m102620\u001b[0m        NaN        NaN     \u001b[3;91mFalse\u001b[0m  \n",
       "\u001b[1;36m102621\u001b[0m        NaN        NaN     \u001b[3;91mFalse\u001b[0m  \n",
       "\u001b[1;36m102622\u001b[0m        NaN        NaN     \u001b[3;91mFalse\u001b[0m  \n",
       "\n",
       "\u001b[1m[\u001b[0m\u001b[1;36m102623\u001b[0m rows x \u001b[1;36m12\u001b[0m columns\u001b[1m]\u001b[0m"
      ]
     },
     "execution_count": 20,
     "metadata": {},
     "output_type": "execute_result"
    }
   ],
   "source": [
    "df"
   ]
  },
  {
   "cell_type": "code",
   "execution_count": 21,
   "id": "9938e887-a5f2-4725-a61d-9a5781e4f12b",
   "metadata": {},
   "outputs": [],
   "source": [
    "df.loc[:,\"is_xs\"] = np.where(df[[\"product_x\", \"product_x\"]].fillna(0).sum(axis=1) >0, 1, 0)"
   ]
  },
  {
   "cell_type": "markdown",
   "id": "d80b02db-bc1a-4678-adf2-a2b397ce423a",
   "metadata": {},
   "source": [
    "#### Churn rates in relation with categorical values"
   ]
  },
  {
   "cell_type": "code",
   "execution_count": 22,
   "id": "48516d1c-5deb-4836-8163-e1307e7b8507",
   "metadata": {},
   "outputs": [
    {
     "data": {
      "text/html": [
       "<pre style=\"white-space:pre;overflow-x:auto;line-height:normal;font-family:Menlo,'DejaVu Sans Mono',consolas,'Courier New',monospace\"></pre>\n"
      ],
      "text/plain": []
     },
     "metadata": {},
     "output_type": "display_data"
    },
    {
     "data": {
      "text/html": [
       "<div>\n",
       "<style scoped>\n",
       "    .dataframe tbody tr th:only-of-type {\n",
       "        vertical-align: middle;\n",
       "    }\n",
       "\n",
       "    .dataframe tbody tr th {\n",
       "        vertical-align: top;\n",
       "    }\n",
       "\n",
       "    .dataframe thead th {\n",
       "        text-align: right;\n",
       "    }\n",
       "</style>\n",
       "<table border=\"1\" class=\"dataframe\">\n",
       "  <thead>\n",
       "    <tr style=\"text-align: right;\">\n",
       "      <th></th>\n",
       "      <th>is_churn</th>\n",
       "    </tr>\n",
       "    <tr>\n",
       "      <th>product</th>\n",
       "      <th></th>\n",
       "    </tr>\n",
       "  </thead>\n",
       "  <tbody>\n",
       "    <tr>\n",
       "      <th>product_a</th>\n",
       "      <td>0.363749</td>\n",
       "    </tr>\n",
       "    <tr>\n",
       "      <th>product_b</th>\n",
       "      <td>0.295366</td>\n",
       "    </tr>\n",
       "    <tr>\n",
       "      <th>product_c</th>\n",
       "      <td>0.460775</td>\n",
       "    </tr>\n",
       "  </tbody>\n",
       "</table>\n",
       "</div>"
      ],
      "text/plain": [
       "\n",
       "           is_churn\n",
       "product            \n",
       "product_a  \u001b[1;36m0.363749\u001b[0m\n",
       "product_b  \u001b[1;36m0.295366\u001b[0m\n",
       "product_c  \u001b[1;36m0.460775\u001b[0m"
      ]
     },
     "execution_count": 22,
     "metadata": {},
     "output_type": "execute_result"
    }
   ],
   "source": [
    "df.groupby(\"product\").agg({\"is_churn\": \"mean\"})"
   ]
  },
  {
   "cell_type": "code",
   "execution_count": 23,
   "id": "52a18b1c-2d8f-44ec-ae56-83ec42790347",
   "metadata": {},
   "outputs": [
    {
     "data": {
      "text/html": [
       "<pre style=\"white-space:pre;overflow-x:auto;line-height:normal;font-family:Menlo,'DejaVu Sans Mono',consolas,'Courier New',monospace\"></pre>\n"
      ],
      "text/plain": []
     },
     "metadata": {},
     "output_type": "display_data"
    },
    {
     "data": {
      "text/html": [
       "<div>\n",
       "<style scoped>\n",
       "    .dataframe tbody tr th:only-of-type {\n",
       "        vertical-align: middle;\n",
       "    }\n",
       "\n",
       "    .dataframe tbody tr th {\n",
       "        vertical-align: top;\n",
       "    }\n",
       "\n",
       "    .dataframe thead th {\n",
       "        text-align: right;\n",
       "    }\n",
       "</style>\n",
       "<table border=\"1\" class=\"dataframe\">\n",
       "  <thead>\n",
       "    <tr style=\"text-align: right;\">\n",
       "      <th></th>\n",
       "      <th>is_churn</th>\n",
       "    </tr>\n",
       "    <tr>\n",
       "      <th>channel</th>\n",
       "      <th></th>\n",
       "    </tr>\n",
       "  </thead>\n",
       "  <tbody>\n",
       "    <tr>\n",
       "      <th>channel_a</th>\n",
       "      <td>0.405983</td>\n",
       "    </tr>\n",
       "    <tr>\n",
       "      <th>channel_b</th>\n",
       "      <td>0.350590</td>\n",
       "    </tr>\n",
       "  </tbody>\n",
       "</table>\n",
       "</div>"
      ],
      "text/plain": [
       "\n",
       "           is_churn\n",
       "channel            \n",
       "channel_a  \u001b[1;36m0.405983\u001b[0m\n",
       "channel_b  \u001b[1;36m0.350590\u001b[0m"
      ]
     },
     "execution_count": 23,
     "metadata": {},
     "output_type": "execute_result"
    }
   ],
   "source": [
    "df.groupby(\"channel\").agg({\"is_churn\": \"mean\"})"
   ]
  },
  {
   "cell_type": "code",
   "execution_count": 24,
   "id": "7e9e539c-59ae-4bbe-8a16-0e083682d098",
   "metadata": {},
   "outputs": [
    {
     "data": {
      "text/html": [
       "<pre style=\"white-space:pre;overflow-x:auto;line-height:normal;font-family:Menlo,'DejaVu Sans Mono',consolas,'Courier New',monospace\"></pre>\n"
      ],
      "text/plain": []
     },
     "metadata": {},
     "output_type": "display_data"
    },
    {
     "data": {
      "text/html": [
       "<div>\n",
       "<style scoped>\n",
       "    .dataframe tbody tr th:only-of-type {\n",
       "        vertical-align: middle;\n",
       "    }\n",
       "\n",
       "    .dataframe tbody tr th {\n",
       "        vertical-align: top;\n",
       "    }\n",
       "\n",
       "    .dataframe thead th {\n",
       "        text-align: right;\n",
       "    }\n",
       "</style>\n",
       "<table border=\"1\" class=\"dataframe\">\n",
       "  <thead>\n",
       "    <tr style=\"text-align: right;\">\n",
       "      <th></th>\n",
       "      <th>is_churn</th>\n",
       "    </tr>\n",
       "    <tr>\n",
       "      <th>operating_system</th>\n",
       "      <th></th>\n",
       "    </tr>\n",
       "  </thead>\n",
       "  <tbody>\n",
       "    <tr>\n",
       "      <th>Android</th>\n",
       "      <td>0.406115</td>\n",
       "    </tr>\n",
       "    <tr>\n",
       "      <th>iOS</th>\n",
       "      <td>0.316624</td>\n",
       "    </tr>\n",
       "  </tbody>\n",
       "</table>\n",
       "</div>"
      ],
      "text/plain": [
       "\n",
       "                  is_churn\n",
       "operating_system          \n",
       "Android           \u001b[1;36m0.406115\u001b[0m\n",
       "iOS               \u001b[1;36m0.316624\u001b[0m"
      ]
     },
     "execution_count": 24,
     "metadata": {},
     "output_type": "execute_result"
    }
   ],
   "source": [
    "df.groupby(\"operating_system\").agg({\"is_churn\": \"mean\"})"
   ]
  },
  {
   "cell_type": "code",
   "execution_count": 25,
   "id": "1c10cfaa-f934-4112-8deb-c083dd6fd949",
   "metadata": {},
   "outputs": [
    {
     "data": {
      "text/html": [
       "<pre style=\"white-space:pre;overflow-x:auto;line-height:normal;font-family:Menlo,'DejaVu Sans Mono',consolas,'Courier New',monospace\"></pre>\n"
      ],
      "text/plain": []
     },
     "metadata": {},
     "output_type": "display_data"
    },
    {
     "data": {
      "text/html": [
       "<div>\n",
       "<style scoped>\n",
       "    .dataframe tbody tr th:only-of-type {\n",
       "        vertical-align: middle;\n",
       "    }\n",
       "\n",
       "    .dataframe tbody tr th {\n",
       "        vertical-align: top;\n",
       "    }\n",
       "\n",
       "    .dataframe thead th {\n",
       "        text-align: right;\n",
       "    }\n",
       "</style>\n",
       "<table border=\"1\" class=\"dataframe\">\n",
       "  <thead>\n",
       "    <tr style=\"text-align: right;\">\n",
       "      <th></th>\n",
       "      <th>is_churn</th>\n",
       "    </tr>\n",
       "    <tr>\n",
       "      <th>age_bucket</th>\n",
       "      <th></th>\n",
       "    </tr>\n",
       "  </thead>\n",
       "  <tbody>\n",
       "    <tr>\n",
       "      <th>18-24</th>\n",
       "      <td>0.375311</td>\n",
       "    </tr>\n",
       "    <tr>\n",
       "      <th>25-29</th>\n",
       "      <td>0.343820</td>\n",
       "    </tr>\n",
       "    <tr>\n",
       "      <th>30-34</th>\n",
       "      <td>0.368132</td>\n",
       "    </tr>\n",
       "    <tr>\n",
       "      <th>35-39</th>\n",
       "      <td>0.413617</td>\n",
       "    </tr>\n",
       "    <tr>\n",
       "      <th>40-44</th>\n",
       "      <td>0.432981</td>\n",
       "    </tr>\n",
       "    <tr>\n",
       "      <th>45-49</th>\n",
       "      <td>0.410924</td>\n",
       "    </tr>\n",
       "    <tr>\n",
       "      <th>50-54</th>\n",
       "      <td>0.356282</td>\n",
       "    </tr>\n",
       "    <tr>\n",
       "      <th>55+</th>\n",
       "      <td>0.349221</td>\n",
       "    </tr>\n",
       "    <tr>\n",
       "      <th>undefined</th>\n",
       "      <td>0.796296</td>\n",
       "    </tr>\n",
       "  </tbody>\n",
       "</table>\n",
       "</div>"
      ],
      "text/plain": [
       "\n",
       "            is_churn\n",
       "age_bucket          \n",
       "\u001b[1;36m18\u001b[0m-\u001b[1;36m24\u001b[0m       \u001b[1;36m0.375311\u001b[0m\n",
       "\u001b[1;36m25\u001b[0m-\u001b[1;36m29\u001b[0m       \u001b[1;36m0.343820\u001b[0m\n",
       "\u001b[1;36m30\u001b[0m-\u001b[1;36m34\u001b[0m       \u001b[1;36m0.368132\u001b[0m\n",
       "\u001b[1;36m35\u001b[0m-\u001b[1;36m39\u001b[0m       \u001b[1;36m0.413617\u001b[0m\n",
       "\u001b[1;36m40\u001b[0m-\u001b[1;36m44\u001b[0m       \u001b[1;36m0.432981\u001b[0m\n",
       "\u001b[1;36m45\u001b[0m-\u001b[1;36m49\u001b[0m       \u001b[1;36m0.410924\u001b[0m\n",
       "\u001b[1;36m50\u001b[0m-\u001b[1;36m54\u001b[0m       \u001b[1;36m0.356282\u001b[0m\n",
       "\u001b[1;36m55\u001b[0m+         \u001b[1;36m0.349221\u001b[0m\n",
       "undefined   \u001b[1;36m0.796296\u001b[0m"
      ]
     },
     "execution_count": 25,
     "metadata": {},
     "output_type": "execute_result"
    }
   ],
   "source": [
    "df.groupby(\"age_bucket\").agg({\"is_churn\": \"mean\"})"
   ]
  },
  {
   "cell_type": "code",
   "execution_count": 26,
   "id": "d723600f-3223-4b87-92c9-b6f3f5c6df02",
   "metadata": {},
   "outputs": [
    {
     "data": {
      "text/html": [
       "<pre style=\"white-space:pre;overflow-x:auto;line-height:normal;font-family:Menlo,'DejaVu Sans Mono',consolas,'Courier New',monospace\"></pre>\n"
      ],
      "text/plain": []
     },
     "metadata": {},
     "output_type": "display_data"
    },
    {
     "data": {
      "text/html": [
       "<div>\n",
       "<style scoped>\n",
       "    .dataframe tbody tr th:only-of-type {\n",
       "        vertical-align: middle;\n",
       "    }\n",
       "\n",
       "    .dataframe tbody tr th {\n",
       "        vertical-align: top;\n",
       "    }\n",
       "\n",
       "    .dataframe thead th {\n",
       "        text-align: right;\n",
       "    }\n",
       "</style>\n",
       "<table border=\"1\" class=\"dataframe\">\n",
       "  <thead>\n",
       "    <tr style=\"text-align: right;\">\n",
       "      <th></th>\n",
       "      <th>is_churn</th>\n",
       "    </tr>\n",
       "    <tr>\n",
       "      <th>is_xs</th>\n",
       "      <th></th>\n",
       "    </tr>\n",
       "  </thead>\n",
       "  <tbody>\n",
       "    <tr>\n",
       "      <th>0</th>\n",
       "      <td>0.376038</td>\n",
       "    </tr>\n",
       "    <tr>\n",
       "      <th>1</th>\n",
       "      <td>0.041667</td>\n",
       "    </tr>\n",
       "  </tbody>\n",
       "</table>\n",
       "</div>"
      ],
      "text/plain": [
       "\n",
       "       is_churn\n",
       "is_xs          \n",
       "\u001b[1;36m0\u001b[0m      \u001b[1;36m0.376038\u001b[0m\n",
       "\u001b[1;36m1\u001b[0m      \u001b[1;36m0.041667\u001b[0m"
      ]
     },
     "execution_count": 26,
     "metadata": {},
     "output_type": "execute_result"
    }
   ],
   "source": [
    "df.groupby(\"is_xs\").agg({\"is_churn\": \"mean\"})"
   ]
  },
  {
   "cell_type": "code",
   "execution_count": 27,
   "id": "d7da7a87-2e53-414a-9d7b-570914088452",
   "metadata": {},
   "outputs": [],
   "source": [
    "df.loc[:, \"customer_started_at\"] = pd.to_datetime(df[\"customer_started_at\"])\n",
    "df.loc[:, \"is_churn\"] = ~df[\"customer_churned_at\"].isna()\n",
    "df.loc[df[\"is_churn\"], \"days_to_churn\"] = (\n",
    "    pd.to_datetime(df.loc[df[\"is_churn\"], \"customer_churned_at\"])\n",
    "    .subtract(pd.to_datetime(df.loc[df[\"is_churn\"], \"customer_started_at\"]))\n",
    "    .dt.days\n",
    ")\n",
    "df = df.set_index(\"customer_started_at\")\n",
    "\n",
    "plot_users = df.groupby(pd.Grouper(freq=\"M\")).agg(\n",
    "    {\n",
    "        \"user_id\" : \"count\",\n",
    "        \"is_xs\": \"sum\",\n",
    "        \"product_x\": \"sum\",\n",
    "        \"product_y\": \"sum\",\n",
    "    }\n",
    ")"
   ]
  },
  {
   "cell_type": "markdown",
   "id": "a0e800c4-c23b-49ba-8d8f-8edff9ed0cf4",
   "metadata": {},
   "source": [
    "## Sales per time"
   ]
  },
  {
   "cell_type": "code",
   "execution_count": 28,
   "id": "331afe54-2a64-4458-ae5c-a57820ccf795",
   "metadata": {},
   "outputs": [
    {
     "data": {
      "text/html": [
       "<pre style=\"white-space:pre;overflow-x:auto;line-height:normal;font-family:Menlo,'DejaVu Sans Mono',consolas,'Courier New',monospace\"></pre>\n"
      ],
      "text/plain": []
     },
     "metadata": {},
     "output_type": "display_data"
    },
    {
     "data": {
      "image/png": "[encoded data removed]",
      "text/plain": [
       "\u001b[1m<\u001b[0m\u001b[1;95mFigure\u001b[0m\u001b[39m size 150\u001b[0m\u001b[1;36m0x600\u001b[0m\u001b[39m with \u001b[0m\u001b[1;36m2\u001b[0m\u001b[39m Axes\u001b[0m\u001b[1m>\u001b[0m"
      ]
     },
     "metadata": {},
     "output_type": "display_data"
    }
   ],
   "source": [
    "sns.set_style(\"whitegrid\")\n",
    "palette = sns.color_palette()\n",
    "fig,axs = plt.subplots(1,2, figsize = (15,6))\n",
    "sns.lineplot(plot_users[\"user_id\"], ax = axs[0], color = palette[0], label=\"Base Sales\")\n",
    "sns.lineplot(plot_users[\"product_x\"] + plot_users[\"product_y\"], ax = axs[1], color = palette[1], label=\"Cross sales\")\n",
    "plt.suptitle(\"Evolution of sales, base and cross\", fontsize=18)\n",
    "plt.tight_layout()\n",
    "plt.show()"
   ]
  },
  {
   "cell_type": "markdown",
   "id": "8999e11a-bded-428c-a77f-4a430d887085",
   "metadata": {},
   "source": [
    "## Churn related to numerical variables"
   ]
  },
  {
   "cell_type": "code",
   "execution_count": 29,
   "id": "aec723aa-b880-4e71-9af3-64953e6c360e",
   "metadata": {},
   "outputs": [
    {
     "data": {
      "text/html": [
       "<pre style=\"white-space:pre;overflow-x:auto;line-height:normal;font-family:Menlo,'DejaVu Sans Mono',consolas,'Courier New',monospace\"></pre>\n"
      ],
      "text/plain": []
     },
     "metadata": {},
     "output_type": "display_data"
    },
    {
     "data": {
      "image/png": "[encoded data removed]",
      "text/plain": [
       "\u001b[1m<\u001b[0m\u001b[1;95mFigure\u001b[0m\u001b[39m size 64\u001b[0m\u001b[1;36m0x480\u001b[0m\u001b[39m with \u001b[0m\u001b[1;36m1\u001b[0m\u001b[39m Axes\u001b[0m\u001b[1m>\u001b[0m"
      ]
     },
     "metadata": {},
     "output_type": "display_data"
    }
   ],
   "source": [
    "inf_lim, sup_lim = 0,40\n",
    "col_to_plot = \"commission_base\"\n",
    "dataplot = df.loc[(df[col_to_plot]<=sup_lim) & (df[col_to_plot]>=inf_lim)]\n",
    "sns.kdeplot(data = dataplot, x= col_to_plot, hue=dataplot[\"is_churn\"].astype(int))\n",
    "plt.title(\"Distribution of churn in commissions\")\n",
    "plt.show()"
   ]
  },
  {
   "cell_type": "code",
   "execution_count": null,
   "id": "8c9a0ce6-b3ca-4d47-ada6-be74c7aa13cc",
   "metadata": {},
   "outputs": [],
   "source": []
  },
  {
   "cell_type": "code",
   "execution_count": 30,
   "id": "a6bdb813-f04f-4ea4-8103-01f28a688996",
   "metadata": {},
   "outputs": [
    {
     "data": {
      "text/html": [
       "<pre style=\"white-space:pre;overflow-x:auto;line-height:normal;font-family:Menlo,'DejaVu Sans Mono',consolas,'Courier New',monospace\"></pre>\n"
      ],
      "text/plain": []
     },
     "metadata": {},
     "output_type": "display_data"
    },
    {
     "data": {
      "image/png": "[encoded data removed]",
      "text/plain": [
       "\u001b[1m<\u001b[0m\u001b[1;95mFigure\u001b[0m\u001b[39m size 64\u001b[0m\u001b[1;36m0x480\u001b[0m\u001b[39m with \u001b[0m\u001b[1;36m1\u001b[0m\u001b[39m Axes\u001b[0m\u001b[1m>\u001b[0m"
      ]
     },
     "metadata": {},
     "output_type": "display_data"
    }
   ],
   "source": [
    "df.loc[:, \"count_xs\"] = df[\"product_x\"].fillna(0) + df[\"product_y\"].fillna(0)\n",
    "inf_lim, sup_lim = 0,2\n",
    "col_to_plot = \"count_xs\"\n",
    "dataplot = df.loc[(df[col_to_plot]<=sup_lim) & (df[col_to_plot]>=inf_lim)]\n",
    "sns.histplot(data = dataplot, x= col_to_plot, hue=dataplot[\"is_churn\"].astype(int), binwidth=0.5, multiple=\"dodge\")\n",
    "plt.title(\"Distribution of churn in cross selling customers\")\n",
    "plt.show()"
   ]
  },
  {
   "cell_type": "code",
   "execution_count": 31,
   "id": "8103650e-3559-4546-9df5-e4c8e7106ac5",
   "metadata": {},
   "outputs": [],
   "source": [
    "df = df.reset_index()\n",
    "\n",
    "actual_date = max(\n",
    "    df[\"customer_churned_at\"].dropna().max(),\n",
    "    df[\"customer_started_at\"].dropna().max(),\n",
    ")\n",
    "df.loc[df[\"days_to_churn\"] < 0, \"days_to_churn\"] = 0\n",
    "df.loc[~df[\"is_churn\"], \"days_to_churn\"] = (\n",
    "    actual_date - pd.to_datetime(df.loc[~df[\"is_churn\"], \"customer_started_at\"])\n",
    ").dt.days\n",
    "df.loc[:, \"months_as_client\"] = df.loc[:, \"days_to_churn\"] /30\n",
    "\n",
    "df.loc[:, \"LTV\"] = (df.loc[:, \"months_as_client\"] * df[\"commission_base\"]) + df[\"commission_xs\"].fillna(0)"
   ]
  },
  {
   "cell_type": "code",
   "execution_count": 32,
   "id": "ee9ce7fc-09c7-4e8b-a380-d3641bedfeea",
   "metadata": {},
   "outputs": [],
   "source": [
    "df.loc[df[\"is_churn\"], \"days_to_churn\"] = pd.to_datetime(df.loc[df[\"is_churn\"],\"customer_churned_at\"]).subtract(df.loc[df[\"is_churn\"] ,\"customer_started_at\"]).dt.days\n"
   ]
  },
  {
   "cell_type": "code",
   "execution_count": 33,
   "id": "7ffa2c43-da11-4139-9f51-b4450ca60b41",
   "metadata": {},
   "outputs": [
    {
     "data": {
      "text/html": [
       "<pre style=\"white-space:pre;overflow-x:auto;line-height:normal;font-family:Menlo,'DejaVu Sans Mono',consolas,'Courier New',monospace\"></pre>\n"
      ],
      "text/plain": []
     },
     "metadata": {},
     "output_type": "display_data"
    },
    {
     "data": {
      "text/plain": [
       "\u001b[1m<\u001b[0m\u001b[1;95mAxes:\u001b[0m\u001b[39m \u001b[0m\u001b[33mxlabel\u001b[0m\u001b[39m=\u001b[0m\u001b[32m'days_to_churn'\u001b[0m\u001b[39m, \u001b[0m\u001b[33mylabel\u001b[0m\u001b[39m=\u001b[0m\u001b[32m'Count'\u001b[0m\u001b[1m>\u001b[0m"
      ]
     },
     "execution_count": 33,
     "metadata": {},
     "output_type": "execute_result"
    },
    {
     "data": {
      "text/html": [
       "<pre style=\"white-space:pre;overflow-x:auto;line-height:normal;font-family:Menlo,'DejaVu Sans Mono',consolas,'Courier New',monospace\"></pre>\n"
      ],
      "text/plain": []
     },
     "metadata": {},
     "output_type": "display_data"
    },
    {
     "data": {
      "image/png": "[encoded data removed]",
      "text/plain": [
       "\u001b[1m<\u001b[0m\u001b[1;95mFigure\u001b[0m\u001b[39m size 64\u001b[0m\u001b[1;36m0x480\u001b[0m\u001b[39m with \u001b[0m\u001b[1;36m1\u001b[0m\u001b[39m Axes\u001b[0m\u001b[1m>\u001b[0m"
      ]
     },
     "metadata": {},
     "output_type": "display_data"
    }
   ],
   "source": [
    "sns.histplot(df.loc[df[\"is_churn\"], \"days_to_churn\"])"
   ]
  },
  {
   "cell_type": "code",
   "execution_count": 34,
   "id": "eab6761c-df5f-4248-a6b9-cca3d533b70e",
   "metadata": {},
   "outputs": [],
   "source": [
    "users_churn_negative = df.loc[df.loc[:, \"days_to_churn\"] <0][\"user_id\"].to_list()"
   ]
  },
  {
   "cell_type": "markdown",
   "id": "973f1540-f7be-4f1c-82db-48840958bf8f",
   "metadata": {},
   "source": [
    "#### There is also probably the need to investigate why those 1559 users have churn dates after their starting date"
   ]
  },
  {
   "cell_type": "code",
   "execution_count": 35,
   "id": "8d8ae38d-eaf1-4bf7-8d94-6026fb6545ef",
   "metadata": {},
   "outputs": [
    {
     "data": {
      "text/html": [
       "<pre style=\"white-space:pre;overflow-x:auto;line-height:normal;font-family:Menlo,'DejaVu Sans Mono',consolas,'Courier New',monospace\"></pre>\n"
      ],
      "text/plain": []
     },
     "metadata": {},
     "output_type": "display_data"
    },
    {
     "data": {
      "text/html": [
       "<div>\n",
       "<style scoped>\n",
       "    .dataframe tbody tr th:only-of-type {\n",
       "        vertical-align: middle;\n",
       "    }\n",
       "\n",
       "    .dataframe tbody tr th {\n",
       "        vertical-align: top;\n",
       "    }\n",
       "\n",
       "    .dataframe thead th {\n",
       "        text-align: right;\n",
       "    }\n",
       "</style>\n",
       "<table border=\"1\" class=\"dataframe\">\n",
       "  <thead>\n",
       "    <tr style=\"text-align: right;\">\n",
       "      <th></th>\n",
       "      <th>user_id</th>\n",
       "      <th>customer_started_at</th>\n",
       "      <th>customer_churned_at</th>\n",
       "      <th>product</th>\n",
       "      <th>commission</th>\n",
       "      <th>channel</th>\n",
       "      <th>age_bucket</th>\n",
       "      <th>operating_system</th>\n",
       "    </tr>\n",
       "  </thead>\n",
       "  <tbody>\n",
       "    <tr>\n",
       "      <th>24</th>\n",
       "      <td>2be74ed2d0</td>\n",
       "      <td>2020-11-01</td>\n",
       "      <td>2020-10-21</td>\n",
       "      <td>product_c</td>\n",
       "      <td>11.7700</td>\n",
       "      <td>channel_b</td>\n",
       "      <td>30-34</td>\n",
       "      <td>iOS</td>\n",
       "    </tr>\n",
       "    <tr>\n",
       "      <th>138</th>\n",
       "      <td>e2a48eefd4</td>\n",
       "      <td>2019-08-19</td>\n",
       "      <td>2019-08-18</td>\n",
       "      <td>product_a</td>\n",
       "      <td>12.5575</td>\n",
       "      <td>channel_a</td>\n",
       "      <td>30-34</td>\n",
       "      <td>Android</td>\n",
       "    </tr>\n",
       "    <tr>\n",
       "      <th>188</th>\n",
       "      <td>248b96ed87</td>\n",
       "      <td>2022-02-10</td>\n",
       "      <td>2022-02-09</td>\n",
       "      <td>product_b</td>\n",
       "      <td>17.7700</td>\n",
       "      <td>channel_b</td>\n",
       "      <td>30-34</td>\n",
       "      <td>iOS</td>\n",
       "    </tr>\n",
       "    <tr>\n",
       "      <th>235</th>\n",
       "      <td>fd42d75ac6</td>\n",
       "      <td>2020-05-03</td>\n",
       "      <td>2020-05-02</td>\n",
       "      <td>product_a</td>\n",
       "      <td>11.5225</td>\n",
       "      <td>channel_b</td>\n",
       "      <td>40-44</td>\n",
       "      <td>iOS</td>\n",
       "    </tr>\n",
       "    <tr>\n",
       "      <th>239</th>\n",
       "      <td>22fa81cbc6</td>\n",
       "      <td>2019-08-09</td>\n",
       "      <td>2019-08-08</td>\n",
       "      <td>product_a</td>\n",
       "      <td>12.5575</td>\n",
       "      <td>channel_a</td>\n",
       "      <td>25-29</td>\n",
       "      <td>Android</td>\n",
       "    </tr>\n",
       "    <tr>\n",
       "      <th>...</th>\n",
       "      <td>...</td>\n",
       "      <td>...</td>\n",
       "      <td>...</td>\n",
       "      <td>...</td>\n",
       "      <td>...</td>\n",
       "      <td>...</td>\n",
       "      <td>...</td>\n",
       "      <td>...</td>\n",
       "    </tr>\n",
       "    <tr>\n",
       "      <th>102289</th>\n",
       "      <td>e3d3ba4a43</td>\n",
       "      <td>2022-12-24</td>\n",
       "      <td>2022-12-23</td>\n",
       "      <td>product_a</td>\n",
       "      <td>13.4475</td>\n",
       "      <td>channel_b</td>\n",
       "      <td>25-29</td>\n",
       "      <td>iOS</td>\n",
       "    </tr>\n",
       "    <tr>\n",
       "      <th>102298</th>\n",
       "      <td>5a957c1a3f</td>\n",
       "      <td>2019-11-17</td>\n",
       "      <td>2019-11-16</td>\n",
       "      <td>product_a</td>\n",
       "      <td>12.5575</td>\n",
       "      <td>channel_a</td>\n",
       "      <td>18-24</td>\n",
       "      <td>iOS</td>\n",
       "    </tr>\n",
       "    <tr>\n",
       "      <th>102458</th>\n",
       "      <td>32907bbb05</td>\n",
       "      <td>2021-03-11</td>\n",
       "      <td>2021-03-10</td>\n",
       "      <td>product_c</td>\n",
       "      <td>15.7050</td>\n",
       "      <td>channel_b</td>\n",
       "      <td>35-39</td>\n",
       "      <td>iOS</td>\n",
       "    </tr>\n",
       "    <tr>\n",
       "      <th>102528</th>\n",
       "      <td>6d0f098e73</td>\n",
       "      <td>2022-09-29</td>\n",
       "      <td>2022-09-12</td>\n",
       "      <td>product_a</td>\n",
       "      <td>12.4575</td>\n",
       "      <td>channel_a</td>\n",
       "      <td>25-29</td>\n",
       "      <td>iOS</td>\n",
       "    </tr>\n",
       "    <tr>\n",
       "      <th>102588</th>\n",
       "      <td>c5099a65e0</td>\n",
       "      <td>2022-09-14</td>\n",
       "      <td>2022-09-08</td>\n",
       "      <td>product_a</td>\n",
       "      <td>12.0900</td>\n",
       "      <td>channel_a</td>\n",
       "      <td>30-34</td>\n",
       "      <td>iOS</td>\n",
       "    </tr>\n",
       "  </tbody>\n",
       "</table>\n",
       "<p>1559 rows × 8 columns</p>\n",
       "</div>"
      ],
      "text/plain": [
       "\n",
       "           user_id customer_started_at customer_churned_at    product  \\\n",
       "\u001b[1;36m24\u001b[0m      2be74ed2d0          \u001b[1;36m2020\u001b[0m-\u001b[1;36m11\u001b[0m-\u001b[1;36m01\u001b[0m          \u001b[1;36m2020\u001b[0m-\u001b[1;36m10\u001b[0m-\u001b[1;36m21\u001b[0m  product_c   \n",
       "\u001b[1;36m138\u001b[0m     e2a48eefd4          \u001b[1;36m2019\u001b[0m-\u001b[1;36m08\u001b[0m-\u001b[1;36m19\u001b[0m          \u001b[1;36m2019\u001b[0m-\u001b[1;36m08\u001b[0m-\u001b[1;36m18\u001b[0m  product_a   \n",
       "\u001b[1;36m188\u001b[0m     248b96ed87          \u001b[1;36m2022\u001b[0m-\u001b[1;36m02\u001b[0m-\u001b[1;36m10\u001b[0m          \u001b[1;36m2022\u001b[0m-\u001b[1;36m02\u001b[0m-\u001b[1;36m09\u001b[0m  product_b   \n",
       "\u001b[1;36m235\u001b[0m     fd42d75ac6          \u001b[1;36m2020\u001b[0m-\u001b[1;36m05\u001b[0m-\u001b[1;36m03\u001b[0m          \u001b[1;36m2020\u001b[0m-\u001b[1;36m05\u001b[0m-\u001b[1;36m02\u001b[0m  product_a   \n",
       "\u001b[1;36m239\u001b[0m     22fa81cbc6          \u001b[1;36m2019\u001b[0m-\u001b[1;36m08\u001b[0m-\u001b[1;36m09\u001b[0m          \u001b[1;36m2019\u001b[0m-\u001b[1;36m08\u001b[0m-\u001b[1;36m08\u001b[0m  product_a   \n",
       "\u001b[33m...\u001b[0m            \u001b[33m...\u001b[0m                 \u001b[33m...\u001b[0m                 \u001b[33m...\u001b[0m        \u001b[33m...\u001b[0m   \n",
       "\u001b[1;36m102289\u001b[0m  e3d3ba4a43          \u001b[1;36m2022\u001b[0m-\u001b[1;36m12\u001b[0m-\u001b[1;36m24\u001b[0m          \u001b[1;36m2022\u001b[0m-\u001b[1;36m12\u001b[0m-\u001b[1;36m23\u001b[0m  product_a   \n",
       "\u001b[1;36m102298\u001b[0m  5a957c1a3f          \u001b[1;36m2019\u001b[0m-\u001b[1;36m11\u001b[0m-\u001b[1;36m17\u001b[0m          \u001b[1;36m2019\u001b[0m-\u001b[1;36m11\u001b[0m-\u001b[1;36m16\u001b[0m  product_a   \n",
       "\u001b[1;36m102458\u001b[0m  32907bbb05          \u001b[1;36m2021\u001b[0m-\u001b[1;36m03\u001b[0m-\u001b[1;36m11\u001b[0m          \u001b[1;36m2021\u001b[0m-\u001b[1;36m03\u001b[0m-\u001b[1;36m10\u001b[0m  product_c   \n",
       "\u001b[1;36m102528\u001b[0m  6d0f098e73          \u001b[1;36m2022\u001b[0m-\u001b[1;36m09\u001b[0m-\u001b[1;36m29\u001b[0m          \u001b[1;36m2022\u001b[0m-\u001b[1;36m09\u001b[0m-\u001b[1;36m12\u001b[0m  product_a   \n",
       "\u001b[1;36m102588\u001b[0m  c5099a65e0          \u001b[1;36m2022\u001b[0m-\u001b[1;36m09\u001b[0m-\u001b[1;36m14\u001b[0m          \u001b[1;36m2022\u001b[0m-\u001b[1;36m09\u001b[0m-\u001b[1;36m08\u001b[0m  product_a   \n",
       "\n",
       "        commission    channel age_bucket operating_system  \n",
       "\u001b[1;36m24\u001b[0m         \u001b[1;36m11.7700\u001b[0m  channel_b      \u001b[1;36m30\u001b[0m-\u001b[1;36m34\u001b[0m              iOS  \n",
       "\u001b[1;36m138\u001b[0m        \u001b[1;36m12.5575\u001b[0m  channel_a      \u001b[1;36m30\u001b[0m-\u001b[1;36m34\u001b[0m          Android  \n",
       "\u001b[1;36m188\u001b[0m        \u001b[1;36m17.7700\u001b[0m  channel_b      \u001b[1;36m30\u001b[0m-\u001b[1;36m34\u001b[0m              iOS  \n",
       "\u001b[1;36m235\u001b[0m        \u001b[1;36m11.5225\u001b[0m  channel_b      \u001b[1;36m40\u001b[0m-\u001b[1;36m44\u001b[0m              iOS  \n",
       "\u001b[1;36m239\u001b[0m        \u001b[1;36m12.5575\u001b[0m  channel_a      \u001b[1;36m25\u001b[0m-\u001b[1;36m29\u001b[0m          Android  \n",
       "\u001b[33m...\u001b[0m            \u001b[33m...\u001b[0m        \u001b[33m...\u001b[0m        \u001b[33m...\u001b[0m              \u001b[33m...\u001b[0m  \n",
       "\u001b[1;36m102289\u001b[0m     \u001b[1;36m13.4475\u001b[0m  channel_b      \u001b[1;36m25\u001b[0m-\u001b[1;36m29\u001b[0m              iOS  \n",
       "\u001b[1;36m102298\u001b[0m     \u001b[1;36m12.5575\u001b[0m  channel_a      \u001b[1;36m18\u001b[0m-\u001b[1;36m24\u001b[0m              iOS  \n",
       "\u001b[1;36m102458\u001b[0m     \u001b[1;36m15.7050\u001b[0m  channel_b      \u001b[1;36m35\u001b[0m-\u001b[1;36m39\u001b[0m              iOS  \n",
       "\u001b[1;36m102528\u001b[0m     \u001b[1;36m12.4575\u001b[0m  channel_a      \u001b[1;36m25\u001b[0m-\u001b[1;36m29\u001b[0m              iOS  \n",
       "\u001b[1;36m102588\u001b[0m     \u001b[1;36m12.0900\u001b[0m  channel_a      \u001b[1;36m30\u001b[0m-\u001b[1;36m34\u001b[0m              iOS  \n",
       "\n",
       "\u001b[1m[\u001b[0m\u001b[1;36m1559\u001b[0m rows x \u001b[1;36m8\u001b[0m columns\u001b[1m]\u001b[0m"
      ]
     },
     "execution_count": 35,
     "metadata": {},
     "output_type": "execute_result"
    }
   ],
   "source": [
    "base.loc[base[\"user_id\"].isin(users_churn_negative)]"
   ]
  },
  {
   "cell_type": "markdown",
   "id": "db38722e-7664-4c86-b917-233b5360e002",
   "metadata": {},
   "source": [
    "#### The LTV seems to be a lot higher for clients that buys on Cross-selling."
   ]
  },
  {
   "cell_type": "code",
   "execution_count": 36,
   "id": "9c3ce8cb-c53e-4fcf-9a3e-ff3ec55c21c3",
   "metadata": {},
   "outputs": [
    {
     "data": {
      "text/html": [
       "<pre style=\"white-space:pre;overflow-x:auto;line-height:normal;font-family:Menlo,'DejaVu Sans Mono',consolas,'Courier New',monospace\"></pre>\n"
      ],
      "text/plain": []
     },
     "metadata": {},
     "output_type": "display_data"
    },
    {
     "data": {
      "image/png": "[encoded data removed]",
      "text/plain": [
       "\u001b[1m<\u001b[0m\u001b[1;95mFigure\u001b[0m\u001b[39m size 150\u001b[0m\u001b[1;36m0x600\u001b[0m\u001b[39m with \u001b[0m\u001b[1;36m2\u001b[0m\u001b[39m Axes\u001b[0m\u001b[1m>\u001b[0m"
      ]
     },
     "metadata": {},
     "output_type": "display_data"
    }
   ],
   "source": [
    "sns.set_style(\"whitegrid\")\n",
    "palette = sns.color_palette()\n",
    "fig,axs = plt.subplots(1,2, figsize = (15,6))\n",
    "sns.histplot(df.loc[~df[\"is_xs\"].astype(bool),\"LTV\"], ax = axs[0], color = palette[0], label=\"Non XS\",binwidth=100)\n",
    "sns.histplot(df.loc[df[\"is_xs\"].astype(bool),\"LTV\"], ax = axs[1], color = palette[2], label=\"XS\",binwidth=100)\n",
    "axs[0].set_xlim(0,2500)\n",
    "axs[1].set_xlim(0,2500)\n",
    "\n",
    "plt.suptitle(\"LTV between with and without XS\", fontsize=18)\n",
    "plt.tight_layout()\n",
    "plt.show()"
   ]
  },
  {
   "cell_type": "code",
   "execution_count": 37,
   "id": "6e83037e-46d4-46f2-b7f4-1e8999731690",
   "metadata": {},
   "outputs": [
    {
     "data": {
      "text/html": [
       "<pre style=\"white-space:pre;overflow-x:auto;line-height:normal;font-family:Menlo,'DejaVu Sans Mono',consolas,'Courier New',monospace\"></pre>\n"
      ],
      "text/plain": []
     },
     "metadata": {},
     "output_type": "display_data"
    },
    {
     "data": {
      "text/html": [
       "<div>\n",
       "<style scoped>\n",
       "    .dataframe tbody tr th:only-of-type {\n",
       "        vertical-align: middle;\n",
       "    }\n",
       "\n",
       "    .dataframe tbody tr th {\n",
       "        vertical-align: top;\n",
       "    }\n",
       "\n",
       "    .dataframe thead th {\n",
       "        text-align: right;\n",
       "    }\n",
       "</style>\n",
       "<table border=\"1\" class=\"dataframe\">\n",
       "  <thead>\n",
       "    <tr style=\"text-align: right;\">\n",
       "      <th></th>\n",
       "      <th>customer_started_at</th>\n",
       "      <th>user_id</th>\n",
       "      <th>customer_churned_at</th>\n",
       "      <th>product</th>\n",
       "      <th>commission_base</th>\n",
       "      <th>channel</th>\n",
       "      <th>age_bucket</th>\n",
       "      <th>operating_system</th>\n",
       "      <th>commission_xs</th>\n",
       "      <th>product_x</th>\n",
       "      <th>product_y</th>\n",
       "      <th>is_churn</th>\n",
       "      <th>is_xs</th>\n",
       "      <th>days_to_churn</th>\n",
       "      <th>count_xs</th>\n",
       "      <th>months_as_client</th>\n",
       "      <th>LTV</th>\n",
       "    </tr>\n",
       "  </thead>\n",
       "  <tbody>\n",
       "    <tr>\n",
       "      <th>0</th>\n",
       "      <td>2020-12-01</td>\n",
       "      <td>37d76d441d</td>\n",
       "      <td>NaT</td>\n",
       "      <td>product_a</td>\n",
       "      <td>12.1775</td>\n",
       "      <td>channel_a</td>\n",
       "      <td>55+</td>\n",
       "      <td>iOS</td>\n",
       "      <td>NaN</td>\n",
       "      <td>NaN</td>\n",
       "      <td>NaN</td>\n",
       "      <td>False</td>\n",
       "      <td>0</td>\n",
       "      <td>1126.0</td>\n",
       "      <td>0.0</td>\n",
       "      <td>37.533333</td>\n",
       "      <td>457.062167</td>\n",
       "    </tr>\n",
       "    <tr>\n",
       "      <th>1</th>\n",
       "      <td>2022-05-09</td>\n",
       "      <td>cdc1327d79</td>\n",
       "      <td>NaT</td>\n",
       "      <td>product_a</td>\n",
       "      <td>12.4575</td>\n",
       "      <td>channel_a</td>\n",
       "      <td>18-24</td>\n",
       "      <td>iOS</td>\n",
       "      <td>NaN</td>\n",
       "      <td>NaN</td>\n",
       "      <td>NaN</td>\n",
       "      <td>False</td>\n",
       "      <td>0</td>\n",
       "      <td>602.0</td>\n",
       "      <td>0.0</td>\n",
       "      <td>20.066667</td>\n",
       "      <td>249.980500</td>\n",
       "    </tr>\n",
       "    <tr>\n",
       "      <th>2</th>\n",
       "      <td>2021-11-20</td>\n",
       "      <td>fac8c03aa8</td>\n",
       "      <td>2023-01-01 00:00:00</td>\n",
       "      <td>product_c</td>\n",
       "      <td>21.6625</td>\n",
       "      <td>channel_a</td>\n",
       "      <td>35-39</td>\n",
       "      <td>Android</td>\n",
       "      <td>NaN</td>\n",
       "      <td>NaN</td>\n",
       "      <td>NaN</td>\n",
       "      <td>True</td>\n",
       "      <td>0</td>\n",
       "      <td>407.0</td>\n",
       "      <td>0.0</td>\n",
       "      <td>13.566667</td>\n",
       "      <td>293.887917</td>\n",
       "    </tr>\n",
       "    <tr>\n",
       "      <th>3</th>\n",
       "      <td>2020-05-21</td>\n",
       "      <td>b0c703a998</td>\n",
       "      <td>NaT</td>\n",
       "      <td>product_a</td>\n",
       "      <td>12.0475</td>\n",
       "      <td>channel_b</td>\n",
       "      <td>35-39</td>\n",
       "      <td>Android</td>\n",
       "      <td>NaN</td>\n",
       "      <td>NaN</td>\n",
       "      <td>NaN</td>\n",
       "      <td>False</td>\n",
       "      <td>0</td>\n",
       "      <td>1320.0</td>\n",
       "      <td>0.0</td>\n",
       "      <td>44.000000</td>\n",
       "      <td>530.090000</td>\n",
       "    </tr>\n",
       "    <tr>\n",
       "      <th>4</th>\n",
       "      <td>2021-04-15</td>\n",
       "      <td>0276bcc756</td>\n",
       "      <td>NaT</td>\n",
       "      <td>product_c</td>\n",
       "      <td>15.7700</td>\n",
       "      <td>channel_b</td>\n",
       "      <td>35-39</td>\n",
       "      <td>Android</td>\n",
       "      <td>NaN</td>\n",
       "      <td>NaN</td>\n",
       "      <td>NaN</td>\n",
       "      <td>False</td>\n",
       "      <td>0</td>\n",
       "      <td>991.0</td>\n",
       "      <td>0.0</td>\n",
       "      <td>33.033333</td>\n",
       "      <td>520.935667</td>\n",
       "    </tr>\n",
       "    <tr>\n",
       "      <th>...</th>\n",
       "      <td>...</td>\n",
       "      <td>...</td>\n",
       "      <td>...</td>\n",
       "      <td>...</td>\n",
       "      <td>...</td>\n",
       "      <td>...</td>\n",
       "      <td>...</td>\n",
       "      <td>...</td>\n",
       "      <td>...</td>\n",
       "      <td>...</td>\n",
       "      <td>...</td>\n",
       "      <td>...</td>\n",
       "      <td>...</td>\n",
       "      <td>...</td>\n",
       "      <td>...</td>\n",
       "      <td>...</td>\n",
       "      <td>...</td>\n",
       "    </tr>\n",
       "    <tr>\n",
       "      <th>102618</th>\n",
       "      <td>2021-02-12</td>\n",
       "      <td>7df1a34a0d</td>\n",
       "      <td>NaT</td>\n",
       "      <td>product_a</td>\n",
       "      <td>12.6825</td>\n",
       "      <td>channel_a</td>\n",
       "      <td>45-49</td>\n",
       "      <td>iOS</td>\n",
       "      <td>NaN</td>\n",
       "      <td>NaN</td>\n",
       "      <td>NaN</td>\n",
       "      <td>False</td>\n",
       "      <td>0</td>\n",
       "      <td>1053.0</td>\n",
       "      <td>0.0</td>\n",
       "      <td>35.100000</td>\n",
       "      <td>445.155750</td>\n",
       "    </tr>\n",
       "    <tr>\n",
       "      <th>102619</th>\n",
       "      <td>2022-11-27</td>\n",
       "      <td>58ce7b5a49</td>\n",
       "      <td>NaT</td>\n",
       "      <td>product_b</td>\n",
       "      <td>13.6975</td>\n",
       "      <td>channel_a</td>\n",
       "      <td>45-49</td>\n",
       "      <td>iOS</td>\n",
       "      <td>NaN</td>\n",
       "      <td>NaN</td>\n",
       "      <td>NaN</td>\n",
       "      <td>False</td>\n",
       "      <td>0</td>\n",
       "      <td>400.0</td>\n",
       "      <td>0.0</td>\n",
       "      <td>13.333333</td>\n",
       "      <td>182.633333</td>\n",
       "    </tr>\n",
       "    <tr>\n",
       "      <th>102620</th>\n",
       "      <td>2022-07-22</td>\n",
       "      <td>4744036910</td>\n",
       "      <td>NaT</td>\n",
       "      <td>product_a</td>\n",
       "      <td>12.1925</td>\n",
       "      <td>channel_a</td>\n",
       "      <td>45-49</td>\n",
       "      <td>iOS</td>\n",
       "      <td>NaN</td>\n",
       "      <td>NaN</td>\n",
       "      <td>NaN</td>\n",
       "      <td>False</td>\n",
       "      <td>0</td>\n",
       "      <td>528.0</td>\n",
       "      <td>0.0</td>\n",
       "      <td>17.600000</td>\n",
       "      <td>214.588000</td>\n",
       "    </tr>\n",
       "    <tr>\n",
       "      <th>102621</th>\n",
       "      <td>2021-07-16</td>\n",
       "      <td>ca58e4734d</td>\n",
       "      <td>NaT</td>\n",
       "      <td>product_a</td>\n",
       "      <td>13.7525</td>\n",
       "      <td>channel_a</td>\n",
       "      <td>50-54</td>\n",
       "      <td>Android</td>\n",
       "      <td>NaN</td>\n",
       "      <td>NaN</td>\n",
       "      <td>NaN</td>\n",
       "      <td>False</td>\n",
       "      <td>0</td>\n",
       "      <td>899.0</td>\n",
       "      <td>0.0</td>\n",
       "      <td>29.966667</td>\n",
       "      <td>412.116583</td>\n",
       "    </tr>\n",
       "    <tr>\n",
       "      <th>102622</th>\n",
       "      <td>2021-09-22</td>\n",
       "      <td>b1677c3ae1</td>\n",
       "      <td>NaT</td>\n",
       "      <td>product_a</td>\n",
       "      <td>13.1950</td>\n",
       "      <td>channel_b</td>\n",
       "      <td>18-24</td>\n",
       "      <td>iOS</td>\n",
       "      <td>NaN</td>\n",
       "      <td>NaN</td>\n",
       "      <td>NaN</td>\n",
       "      <td>False</td>\n",
       "      <td>0</td>\n",
       "      <td>831.0</td>\n",
       "      <td>0.0</td>\n",
       "      <td>27.700000</td>\n",
       "      <td>365.501500</td>\n",
       "    </tr>\n",
       "  </tbody>\n",
       "</table>\n",
       "<p>102623 rows × 17 columns</p>\n",
       "</div>"
      ],
      "text/plain": [
       "\n",
       "       customer_started_at     user_id  customer_churned_at    product  \\\n",
       "\u001b[1;36m0\u001b[0m               \u001b[1;36m2020\u001b[0m-\u001b[1;36m12\u001b[0m-\u001b[1;36m01\u001b[0m  37d76d441d                  NaT  product_a   \n",
       "\u001b[1;36m1\u001b[0m               \u001b[1;36m2022\u001b[0m-\u001b[1;36m05\u001b[0m-\u001b[1;36m09\u001b[0m  cdc1327d79                  NaT  product_a   \n",
       "\u001b[1;36m2\u001b[0m               \u001b[1;36m2021\u001b[0m-\u001b[1;36m11\u001b[0m-\u001b[1;36m20\u001b[0m  fac8c03aa8  \u001b[1;36m2023\u001b[0m-\u001b[1;36m01\u001b[0m-\u001b[1;36m01\u001b[0m \u001b[1;92m00:00:00\u001b[0m  product_c   \n",
       "\u001b[1;36m3\u001b[0m               \u001b[1;36m2020\u001b[0m-\u001b[1;36m05\u001b[0m-\u001b[1;36m21\u001b[0m  b0c703a998                  NaT  product_a   \n",
       "\u001b[1;36m4\u001b[0m               \u001b[1;36m2021\u001b[0m-\u001b[1;36m04\u001b[0m-\u001b[1;36m15\u001b[0m  0276bcc756                  NaT  product_c   \n",
       "\u001b[33m...\u001b[0m                    \u001b[33m...\u001b[0m         \u001b[33m...\u001b[0m                  \u001b[33m...\u001b[0m        \u001b[33m...\u001b[0m   \n",
       "\u001b[1;36m102618\u001b[0m          \u001b[1;36m2021\u001b[0m-\u001b[1;36m02\u001b[0m-\u001b[1;36m12\u001b[0m  7df1a34a0d                  NaT  product_a   \n",
       "\u001b[1;36m102619\u001b[0m          \u001b[1;36m2022\u001b[0m-\u001b[1;36m11\u001b[0m-\u001b[1;36m27\u001b[0m  58ce7b5a49                  NaT  product_b   \n",
       "\u001b[1;36m102620\u001b[0m          \u001b[1;36m2022\u001b[0m-\u001b[1;36m07\u001b[0m-\u001b[1;36m22\u001b[0m  \u001b[1;36m4744036910\u001b[0m                  NaT  product_a   \n",
       "\u001b[1;36m102621\u001b[0m          \u001b[1;36m2021\u001b[0m-\u001b[1;36m07\u001b[0m-\u001b[1;36m16\u001b[0m  ca58e4734d                  NaT  product_a   \n",
       "\u001b[1;36m102622\u001b[0m          \u001b[1;36m2021\u001b[0m-\u001b[1;36m09\u001b[0m-\u001b[1;36m22\u001b[0m  b1677c3ae1                  NaT  product_a   \n",
       "\n",
       "        commission_base    channel age_bucket operating_system  commission_xs  \\\n",
       "\u001b[1;36m0\u001b[0m               \u001b[1;36m12.1775\u001b[0m  channel_a        \u001b[1;36m55\u001b[0m+              iOS            NaN   \n",
       "\u001b[1;36m1\u001b[0m               \u001b[1;36m12.4575\u001b[0m  channel_a      \u001b[1;36m18\u001b[0m-\u001b[1;36m24\u001b[0m              iOS            NaN   \n",
       "\u001b[1;36m2\u001b[0m               \u001b[1;36m21.6625\u001b[0m  channel_a      \u001b[1;36m35\u001b[0m-\u001b[1;36m39\u001b[0m          Android            NaN   \n",
       "\u001b[1;36m3\u001b[0m               \u001b[1;36m12.0475\u001b[0m  channel_b      \u001b[1;36m35\u001b[0m-\u001b[1;36m39\u001b[0m          Android            NaN   \n",
       "\u001b[1;36m4\u001b[0m               \u001b[1;36m15.7700\u001b[0m  channel_b      \u001b[1;36m35\u001b[0m-\u001b[1;36m39\u001b[0m          Android            NaN   \n",
       "\u001b[33m...\u001b[0m                 \u001b[33m...\u001b[0m        \u001b[33m...\u001b[0m        \u001b[33m...\u001b[0m              \u001b[33m...\u001b[0m            \u001b[33m...\u001b[0m   \n",
       "\u001b[1;36m102618\u001b[0m          \u001b[1;36m12.6825\u001b[0m  channel_a      \u001b[1;36m45\u001b[0m-\u001b[1;36m49\u001b[0m              iOS            NaN   \n",
       "\u001b[1;36m102619\u001b[0m          \u001b[1;36m13.6975\u001b[0m  channel_a      \u001b[1;36m45\u001b[0m-\u001b[1;36m49\u001b[0m              iOS            NaN   \n",
       "\u001b[1;36m102620\u001b[0m          \u001b[1;36m12.1925\u001b[0m  channel_a      \u001b[1;36m45\u001b[0m-\u001b[1;36m49\u001b[0m              iOS            NaN   \n",
       "\u001b[1;36m102621\u001b[0m          \u001b[1;36m13.7525\u001b[0m  channel_a      \u001b[1;36m50\u001b[0m-\u001b[1;36m54\u001b[0m          Android            NaN   \n",
       "\u001b[1;36m102622\u001b[0m          \u001b[1;36m13.1950\u001b[0m  channel_b      \u001b[1;36m18\u001b[0m-\u001b[1;36m24\u001b[0m              iOS            NaN   \n",
       "\n",
       "        product_x  product_y  is_churn  is_xs  days_to_churn  count_xs  \\\n",
       "\u001b[1;36m0\u001b[0m             NaN        NaN     \u001b[3;91mFalse\u001b[0m      \u001b[1;36m0\u001b[0m         \u001b[1;36m1126.0\u001b[0m       \u001b[1;36m0.0\u001b[0m   \n",
       "\u001b[1;36m1\u001b[0m             NaN        NaN     \u001b[3;91mFalse\u001b[0m      \u001b[1;36m0\u001b[0m          \u001b[1;36m602.0\u001b[0m       \u001b[1;36m0.0\u001b[0m   \n",
       "\u001b[1;36m2\u001b[0m             NaN        NaN      \u001b[3;92mTrue\u001b[0m      \u001b[1;36m0\u001b[0m          \u001b[1;36m407.0\u001b[0m       \u001b[1;36m0.0\u001b[0m   \n",
       "\u001b[1;36m3\u001b[0m             NaN        NaN     \u001b[3;91mFalse\u001b[0m      \u001b[1;36m0\u001b[0m         \u001b[1;36m1320.0\u001b[0m       \u001b[1;36m0.0\u001b[0m   \n",
       "\u001b[1;36m4\u001b[0m             NaN        NaN     \u001b[3;91mFalse\u001b[0m      \u001b[1;36m0\u001b[0m          \u001b[1;36m991.0\u001b[0m       \u001b[1;36m0.0\u001b[0m   \n",
       "\u001b[33m...\u001b[0m           \u001b[33m...\u001b[0m        \u001b[33m...\u001b[0m       \u001b[33m...\u001b[0m    \u001b[33m...\u001b[0m            \u001b[33m...\u001b[0m       \u001b[33m...\u001b[0m   \n",
       "\u001b[1;36m102618\u001b[0m        NaN        NaN     \u001b[3;91mFalse\u001b[0m      \u001b[1;36m0\u001b[0m         \u001b[1;36m1053.0\u001b[0m       \u001b[1;36m0.0\u001b[0m   \n",
       "\u001b[1;36m102619\u001b[0m        NaN        NaN     \u001b[3;91mFalse\u001b[0m      \u001b[1;36m0\u001b[0m          \u001b[1;36m400.0\u001b[0m       \u001b[1;36m0.0\u001b[0m   \n",
       "\u001b[1;36m102620\u001b[0m        NaN        NaN     \u001b[3;91mFalse\u001b[0m      \u001b[1;36m0\u001b[0m          \u001b[1;36m528.0\u001b[0m       \u001b[1;36m0.0\u001b[0m   \n",
       "\u001b[1;36m102621\u001b[0m        NaN        NaN     \u001b[3;91mFalse\u001b[0m      \u001b[1;36m0\u001b[0m          \u001b[1;36m899.0\u001b[0m       \u001b[1;36m0.0\u001b[0m   \n",
       "\u001b[1;36m102622\u001b[0m        NaN        NaN     \u001b[3;91mFalse\u001b[0m      \u001b[1;36m0\u001b[0m          \u001b[1;36m831.0\u001b[0m       \u001b[1;36m0.0\u001b[0m   \n",
       "\n",
       "        months_as_client         LTV  \n",
       "\u001b[1;36m0\u001b[0m              \u001b[1;36m37.533333\u001b[0m  \u001b[1;36m457.062167\u001b[0m  \n",
       "\u001b[1;36m1\u001b[0m              \u001b[1;36m20.066667\u001b[0m  \u001b[1;36m249.980500\u001b[0m  \n",
       "\u001b[1;36m2\u001b[0m              \u001b[1;36m13.566667\u001b[0m  \u001b[1;36m293.887917\u001b[0m  \n",
       "\u001b[1;36m3\u001b[0m              \u001b[1;36m44.000000\u001b[0m  \u001b[1;36m530.090000\u001b[0m  \n",
       "\u001b[1;36m4\u001b[0m              \u001b[1;36m33.033333\u001b[0m  \u001b[1;36m520.935667\u001b[0m  \n",
       "\u001b[33m...\u001b[0m                  \u001b[33m...\u001b[0m         \u001b[33m...\u001b[0m  \n",
       "\u001b[1;36m102618\u001b[0m         \u001b[1;36m35.100000\u001b[0m  \u001b[1;36m445.155750\u001b[0m  \n",
       "\u001b[1;36m102619\u001b[0m         \u001b[1;36m13.333333\u001b[0m  \u001b[1;36m182.633333\u001b[0m  \n",
       "\u001b[1;36m102620\u001b[0m         \u001b[1;36m17.600000\u001b[0m  \u001b[1;36m214.588000\u001b[0m  \n",
       "\u001b[1;36m102621\u001b[0m         \u001b[1;36m29.966667\u001b[0m  \u001b[1;36m412.116583\u001b[0m  \n",
       "\u001b[1;36m102622\u001b[0m         \u001b[1;36m27.700000\u001b[0m  \u001b[1;36m365.501500\u001b[0m  \n",
       "\n",
       "\u001b[1m[\u001b[0m\u001b[1;36m102623\u001b[0m rows x \u001b[1;36m17\u001b[0m columns\u001b[1m]\u001b[0m"
      ]
     },
     "execution_count": 37,
     "metadata": {},
     "output_type": "execute_result"
    }
   ],
   "source": [
    "df"
   ]
  },
  {
   "cell_type": "code",
   "execution_count": 38,
   "id": "557e39b8-53fa-4a2e-a156-50b8e793da9c",
   "metadata": {},
   "outputs": [],
   "source": [
    "import pandas as pd\n",
    "import seaborn as sns\n",
    "import matplotlib.pyplot as plt\n",
    "\n",
    "\n",
    "def plot_correlation_heatmap(dataframe):\n",
    "    corr = dataframe.corr()\n",
    "    mask = np.triu(np.ones_like(corr, dtype=bool))\n",
    "    \n",
    "    # Set up the matplotlib figure\n",
    "    f, ax = plt.subplots(figsize=(11, 9))\n",
    "    \n",
    "    # Generate a custom diverging colormap\n",
    "    cmap = sns.diverging_palette(230, 20, as_cmap=True)\n",
    "    \n",
    "    # Draw the heatmap with the mask and correct aspect ratio\n",
    "    sns.heatmap(corr, mask=mask, cmap=cmap, vmax=1, center=0,\n",
    "                square=True, linewidths=.5, cbar_kws={\"shrink\": .5})"
   ]
  },
  {
   "cell_type": "markdown",
   "id": "645832b4-cd95-4a55-91c8-e122c5893b7e",
   "metadata": {},
   "source": [
    "## Correlation matrix\n",
    "\n",
    "As expected, LTV is highly correlated with the cross-selling variable. \n",
    "Out of that, there is no too strong correlation to show. "
   ]
  },
  {
   "cell_type": "code",
   "execution_count": 39,
   "id": "12b443f6-4f45-48ee-b003-ecf54d27871a",
   "metadata": {},
   "outputs": [
    {
     "data": {
      "text/html": [
       "<pre style=\"white-space:pre;overflow-x:auto;line-height:normal;font-family:Menlo,'DejaVu Sans Mono',consolas,'Courier New',monospace\"></pre>\n"
      ],
      "text/plain": []
     },
     "metadata": {},
     "output_type": "display_data"
    },
    {
     "data": {
      "image/png": "[encoded data removed]",
      "text/plain": [
       "\u001b[1m<\u001b[0m\u001b[1;95mFigure\u001b[0m\u001b[39m size 110\u001b[0m\u001b[1;36m0x900\u001b[0m\u001b[39m with \u001b[0m\u001b[1;36m2\u001b[0m\u001b[39m Axes\u001b[0m\u001b[1m>\u001b[0m"
      ]
     },
     "metadata": {},
     "output_type": "display_data"
    }
   ],
   "source": [
    "plot_correlation_heatmap(\n",
    "    pd.get_dummies(\n",
    "        df.drop(columns=[\"customer_started_at\", \"user_id\", \"customer_churned_at\"]))\n",
    ")"
   ]
  },
  {
   "cell_type": "code",
   "execution_count": 40,
   "id": "f962e4e8-11b0-437b-a3c2-2c7649e91ad4",
   "metadata": {},
   "outputs": [],
   "source": [
    "meanprops={\n",
    "    \"marker\":\"o\",\n",
    "    \"markerfacecolor\":\"white\", \n",
    "    \"markeredgecolor\":\"black\",\n",
    "    \"markersize\":\"10\"\n",
    "}"
   ]
  },
  {
   "cell_type": "markdown",
   "id": "9e9fea26-4af1-47f2-9a1c-1beaca35eff2",
   "metadata": {},
   "source": [
    "### LTV Across categorical variables"
   ]
  },
  {
   "cell_type": "markdown",
   "id": "d914929b-0475-4c8b-a232-5f8a720e8e78",
   "metadata": {},
   "source": [
    "The product base C has the biggest LTV, followed by product A."
   ]
  },
  {
   "cell_type": "code",
   "execution_count": 41,
   "id": "25cfd647-5e00-4b5a-b98a-63a6a9bbd745",
   "metadata": {},
   "outputs": [
    {
     "data": {
      "text/html": [
       "<pre style=\"white-space:pre;overflow-x:auto;line-height:normal;font-family:Menlo,'DejaVu Sans Mono',consolas,'Courier New',monospace\"></pre>\n"
      ],
      "text/plain": []
     },
     "metadata": {},
     "output_type": "display_data"
    },
    {
     "data": {
      "text/plain": [
       "\u001b[1m<\u001b[0m\u001b[1;95mAxes:\u001b[0m\u001b[39m \u001b[0m\u001b[33mxlabel\u001b[0m\u001b[39m=\u001b[0m\u001b[32m'product'\u001b[0m\u001b[39m, \u001b[0m\u001b[33mylabel\u001b[0m\u001b[39m=\u001b[0m\u001b[32m'LTV'\u001b[0m\u001b[1m>\u001b[0m"
      ]
     },
     "execution_count": 41,
     "metadata": {},
     "output_type": "execute_result"
    },
    {
     "data": {
      "text/html": [
       "<pre style=\"white-space:pre;overflow-x:auto;line-height:normal;font-family:Menlo,'DejaVu Sans Mono',consolas,'Courier New',monospace\"></pre>\n"
      ],
      "text/plain": []
     },
     "metadata": {},
     "output_type": "display_data"
    },
    {
     "data": {
      "image/png": "[encoded data removed]",
      "text/plain": [
       "\u001b[1m<\u001b[0m\u001b[1;95mFigure\u001b[0m\u001b[39m size 64\u001b[0m\u001b[1;36m0x480\u001b[0m\u001b[39m with \u001b[0m\u001b[1;36m1\u001b[0m\u001b[39m Axes\u001b[0m\u001b[1m>\u001b[0m"
      ]
     },
     "metadata": {},
     "output_type": "display_data"
    }
   ],
   "source": [
    "sns.boxplot(data=df.sort_values(by=\"product\"), y=\"LTV\", x=\"product\", showfliers=False, showmeans=True, meanprops=meanprops)"
   ]
  },
  {
   "cell_type": "markdown",
   "id": "946654ad-8817-4a00-86a1-39355c4246bf",
   "metadata": {},
   "source": [
    "#### Channel does not show a big difference in the mean, but the channel b is a lot more spread."
   ]
  },
  {
   "cell_type": "code",
   "execution_count": 42,
   "id": "606c0e0f-17b3-4b79-9648-bb0556ec19fc",
   "metadata": {},
   "outputs": [
    {
     "data": {
      "text/html": [
       "<pre style=\"white-space:pre;overflow-x:auto;line-height:normal;font-family:Menlo,'DejaVu Sans Mono',consolas,'Courier New',monospace\"></pre>\n"
      ],
      "text/plain": []
     },
     "metadata": {},
     "output_type": "display_data"
    },
    {
     "data": {
      "text/plain": [
       "\u001b[1m<\u001b[0m\u001b[1;95mAxes:\u001b[0m\u001b[39m \u001b[0m\u001b[33mxlabel\u001b[0m\u001b[39m=\u001b[0m\u001b[32m'channel'\u001b[0m\u001b[39m, \u001b[0m\u001b[33mylabel\u001b[0m\u001b[39m=\u001b[0m\u001b[32m'LTV'\u001b[0m\u001b[1m>\u001b[0m"
      ]
     },
     "execution_count": 42,
     "metadata": {},
     "output_type": "execute_result"
    },
    {
     "data": {
      "text/html": [
       "<pre style=\"white-space:pre;overflow-x:auto;line-height:normal;font-family:Menlo,'DejaVu Sans Mono',consolas,'Courier New',monospace\"></pre>\n"
      ],
      "text/plain": []
     },
     "metadata": {},
     "output_type": "display_data"
    },
    {
     "data": {
      "image/png": "[encoded data removed]",
      "text/plain": [
       "\u001b[1m<\u001b[0m\u001b[1;95mFigure\u001b[0m\u001b[39m size 64\u001b[0m\u001b[1;36m0x480\u001b[0m\u001b[39m with \u001b[0m\u001b[1;36m1\u001b[0m\u001b[39m Axes\u001b[0m\u001b[1m>\u001b[0m"
      ]
     },
     "metadata": {},
     "output_type": "display_data"
    }
   ],
   "source": [
    "sns.boxplot(data=df, y=\"LTV\", x=\"channel\", showfliers=False, showmeans=True, meanprops=meanprops)"
   ]
  },
  {
   "cell_type": "markdown",
   "id": "b22ffcb5-d519-4149-b878-179154891990",
   "metadata": {},
   "source": [
    "#### We can see a peak in the 30-34 age group. After that, there is some sort of a plateau. This indicates that this should be a target group."
   ]
  },
  {
   "cell_type": "code",
   "execution_count": 43,
   "id": "073d4fd3-67c5-4ea8-bf52-85b20c114ae9",
   "metadata": {},
   "outputs": [
    {
     "data": {
      "text/html": [
       "<pre style=\"white-space:pre;overflow-x:auto;line-height:normal;font-family:Menlo,'DejaVu Sans Mono',consolas,'Courier New',monospace\"></pre>\n"
      ],
      "text/plain": []
     },
     "metadata": {},
     "output_type": "display_data"
    },
    {
     "data": {
      "text/plain": [
       "\u001b[1m<\u001b[0m\u001b[1;95mAxes:\u001b[0m\u001b[39m \u001b[0m\u001b[33mxlabel\u001b[0m\u001b[39m=\u001b[0m\u001b[32m'age_bucket'\u001b[0m\u001b[39m, \u001b[0m\u001b[33mylabel\u001b[0m\u001b[39m=\u001b[0m\u001b[32m'LTV'\u001b[0m\u001b[1m>\u001b[0m"
      ]
     },
     "execution_count": 43,
     "metadata": {},
     "output_type": "execute_result"
    },
    {
     "data": {
      "text/html": [
       "<pre style=\"white-space:pre;overflow-x:auto;line-height:normal;font-family:Menlo,'DejaVu Sans Mono',consolas,'Courier New',monospace\"></pre>\n"
      ],
      "text/plain": []
     },
     "metadata": {},
     "output_type": "display_data"
    },
    {
     "data": {
      "image/png": "[encoded data removed]",
      "text/plain": [
       "\u001b[1m<\u001b[0m\u001b[1;95mFigure\u001b[0m\u001b[39m size 64\u001b[0m\u001b[1;36m0x480\u001b[0m\u001b[39m with \u001b[0m\u001b[1;36m1\u001b[0m\u001b[39m Axes\u001b[0m\u001b[1m>\u001b[0m"
      ]
     },
     "metadata": {},
     "output_type": "display_data"
    }
   ],
   "source": [
    "sns.boxplot(data=df.sort_values(by=\"age_bucket\"), y=\"LTV\", x=\"age_bucket\", showfliers=False, showmeans=True, meanprops=meanprops)"
   ]
  },
  {
   "cell_type": "markdown",
   "id": "514565bc-a021-4218-aff8-60e762dc0a9b",
   "metadata": {},
   "source": [
    "#### The operating system does not seem to have strong correlation with LTV"
   ]
  },
  {
   "cell_type": "code",
   "execution_count": 44,
   "id": "57d39323-fd01-4ab1-824b-78e55fb44a69",
   "metadata": {},
   "outputs": [
    {
     "data": {
      "text/html": [
       "<pre style=\"white-space:pre;overflow-x:auto;line-height:normal;font-family:Menlo,'DejaVu Sans Mono',consolas,'Courier New',monospace\"></pre>\n"
      ],
      "text/plain": []
     },
     "metadata": {},
     "output_type": "display_data"
    },
    {
     "data": {
      "text/plain": [
       "\u001b[1m<\u001b[0m\u001b[1;95mAxes:\u001b[0m\u001b[39m \u001b[0m\u001b[33mxlabel\u001b[0m\u001b[39m=\u001b[0m\u001b[32m'operating_system'\u001b[0m\u001b[39m, \u001b[0m\u001b[33mylabel\u001b[0m\u001b[39m=\u001b[0m\u001b[32m'LTV'\u001b[0m\u001b[1m>\u001b[0m"
      ]
     },
     "execution_count": 44,
     "metadata": {},
     "output_type": "execute_result"
    },
    {
     "data": {
      "text/html": [
       "<pre style=\"white-space:pre;overflow-x:auto;line-height:normal;font-family:Menlo,'DejaVu Sans Mono',consolas,'Courier New',monospace\"></pre>\n"
      ],
      "text/plain": []
     },
     "metadata": {},
     "output_type": "display_data"
    },
    {
     "data": {
      "image/png": "[encoded data removed]",
      "text/plain": [
       "\u001b[1m<\u001b[0m\u001b[1;95mFigure\u001b[0m\u001b[39m size 64\u001b[0m\u001b[1;36m0x480\u001b[0m\u001b[39m with \u001b[0m\u001b[1;36m1\u001b[0m\u001b[39m Axes\u001b[0m\u001b[1m>\u001b[0m"
      ]
     },
     "metadata": {},
     "output_type": "display_data"
    }
   ],
   "source": [
    "sns.boxplot(data=df, y=\"LTV\", x=\"operating_system\", showfliers=False, showmeans=True, meanprops=meanprops)"
   ]
  },
  {
   "cell_type": "code",
   "execution_count": null,
   "id": "f8b75d7d-19b6-4f09-b95c-29173901f291",
   "metadata": {},
   "outputs": [],
   "source": []
  }
 ],
 "metadata": {
  "kernelspec": {
   "display_name": "Kedro (ltv_ml_project)",
   "language": "python",
   "name": "kedro_ltv_ml_project"
  },
  "language_info": {
   "codemirror_mode": {
    "name": "ipython",
    "version": 3
   },
   "file_extension": ".py",
   "mimetype": "text/x-python",
   "name": "python",
   "nbconvert_exporter": "python",
   "pygments_lexer": "ipython3",
   "version": "3.10.12"
  }
 },
 "nbformat": 4,
 "nbformat_minor": 5
}
