{
 "cells": [
  {
   "cell_type": "code",
   "execution_count": 1,
   "id": "b524a032-c54c-44b3-ad2a-b9fcf65f1847",
   "metadata": {},
   "outputs": [],
   "source": [
    "import os\n",
    "os.environ[\"GOOGLE_APPLICATION_CREDENTIALS\"]=\"/home/ricardormotta/projects/LTV_analysis/ltv-ml-project/conf/local/gcp_token.json\"\n"
   ]
  },
  {
   "cell_type": "code",
   "execution_count": 2,
   "id": "27368193-386b-49d6-8112-aaff51f24c4d",
   "metadata": {},
   "outputs": [],
   "source": [
    "import pandas as pd\n",
    "import numpy as np\n",
    "import seaborn as sns\n",
    "import matplotlib.pyplot as plt\n",
    "import sklearn.metrics as metrics\n",
    "from sklearn.preprocessing import OneHotEncoder, StandardScaler\n",
    "from sklearn.compose import ColumnTransformer\n",
    "from sklearn.pipeline import Pipeline\n",
    "from sklearn.ensemble import GradientBoostingRegressor, RandomForestRegressor\n",
    "from sklearn.calibration import calibration_curve \n",
    "\n",
    "\n",
    "from xgboost import XGBRegressor\n",
    "\n",
    "from sklearn.model_selection import GridSearchCV\n"
   ]
  },
  {
   "cell_type": "code",
   "execution_count": 3,
   "id": "f9b5757e-4b6c-44fa-bf20-d03f168694c2",
   "metadata": {},
   "outputs": [
    {
     "data": {
      "text/html": [
       "<pre style=\"white-space:pre;overflow-x:auto;line-height:normal;font-family:Menlo,'DejaVu Sans Mono',consolas,'Courier New',monospace\"><span style=\"color: #7fbfbf; text-decoration-color: #7fbfbf\">[11/27/23 22:48:02] </span><span style=\"color: #000080; text-decoration-color: #000080\">INFO    </span> Loading data from <span style=\"color: #008000; text-decoration-color: #008000\">'X_train'</span> <span style=\"font-weight: bold\">(</span>CSVDataSet<span style=\"font-weight: bold\">)</span><span style=\"color: #808000; text-decoration-color: #808000\">...</span>                        <a href=\"file:///home/ricardormotta/projects/LTV_analysis/venv/lib/python3.10/site-packages/kedro/io/data_catalog.py\" target=\"_blank\"><span style=\"color: #7f7f7f; text-decoration-color: #7f7f7f\">data_catalog.py</span></a><span style=\"color: #7f7f7f; text-decoration-color: #7f7f7f\">:</span><a href=\"file:///home/ricardormotta/projects/LTV_analysis/venv/lib/python3.10/site-packages/kedro/io/data_catalog.py#502\" target=\"_blank\"><span style=\"color: #7f7f7f; text-decoration-color: #7f7f7f\">502</span></a>\n",
       "</pre>\n"
      ],
      "text/plain": [
       "\u001b[2;36m[11/27/23 22:48:02]\u001b[0m\u001b[2;36m \u001b[0m\u001b[34mINFO    \u001b[0m Loading data from \u001b[32m'X_train'\u001b[0m \u001b[1m(\u001b[0mCSVDataSet\u001b[1m)\u001b[0m\u001b[33m...\u001b[0m                        \u001b]8;id=921778;file:///home/ricardormotta/projects/LTV_analysis/venv/lib/python3.10/site-packages/kedro/io/data_catalog.py\u001b\\\u001b[2mdata_catalog.py\u001b[0m\u001b]8;;\u001b\\\u001b[2m:\u001b[0m\u001b]8;id=771874;file:///home/ricardormotta/projects/LTV_analysis/venv/lib/python3.10/site-packages/kedro/io/data_catalog.py#502\u001b\\\u001b[2m502\u001b[0m\u001b]8;;\u001b\\\n"
      ]
     },
     "metadata": {},
     "output_type": "display_data"
    },
    {
     "data": {
      "text/html": [
       "<pre style=\"white-space:pre;overflow-x:auto;line-height:normal;font-family:Menlo,'DejaVu Sans Mono',consolas,'Courier New',monospace\"><span style=\"color: #7fbfbf; text-decoration-color: #7fbfbf\">                    </span><span style=\"color: #000080; text-decoration-color: #000080\">INFO    </span> Loading data from <span style=\"color: #008000; text-decoration-color: #008000\">'X_test'</span> <span style=\"font-weight: bold\">(</span>CSVDataSet<span style=\"font-weight: bold\">)</span><span style=\"color: #808000; text-decoration-color: #808000\">...</span>                         <a href=\"file:///home/ricardormotta/projects/LTV_analysis/venv/lib/python3.10/site-packages/kedro/io/data_catalog.py\" target=\"_blank\"><span style=\"color: #7f7f7f; text-decoration-color: #7f7f7f\">data_catalog.py</span></a><span style=\"color: #7f7f7f; text-decoration-color: #7f7f7f\">:</span><a href=\"file:///home/ricardormotta/projects/LTV_analysis/venv/lib/python3.10/site-packages/kedro/io/data_catalog.py#502\" target=\"_blank\"><span style=\"color: #7f7f7f; text-decoration-color: #7f7f7f\">502</span></a>\n",
       "</pre>\n"
      ],
      "text/plain": [
       "\u001b[2;36m                   \u001b[0m\u001b[2;36m \u001b[0m\u001b[34mINFO    \u001b[0m Loading data from \u001b[32m'X_test'\u001b[0m \u001b[1m(\u001b[0mCSVDataSet\u001b[1m)\u001b[0m\u001b[33m...\u001b[0m                         \u001b]8;id=652389;file:///home/ricardormotta/projects/LTV_analysis/venv/lib/python3.10/site-packages/kedro/io/data_catalog.py\u001b\\\u001b[2mdata_catalog.py\u001b[0m\u001b]8;;\u001b\\\u001b[2m:\u001b[0m\u001b]8;id=588040;file:///home/ricardormotta/projects/LTV_analysis/venv/lib/python3.10/site-packages/kedro/io/data_catalog.py#502\u001b\\\u001b[2m502\u001b[0m\u001b]8;;\u001b\\\n"
      ]
     },
     "metadata": {},
     "output_type": "display_data"
    },
    {
     "data": {
      "text/html": [
       "<pre style=\"white-space:pre;overflow-x:auto;line-height:normal;font-family:Menlo,'DejaVu Sans Mono',consolas,'Courier New',monospace\"><span style=\"color: #7fbfbf; text-decoration-color: #7fbfbf\">                    </span><span style=\"color: #000080; text-decoration-color: #000080\">INFO    </span> Loading data from <span style=\"color: #008000; text-decoration-color: #008000\">'y_train_ltv'</span> <span style=\"font-weight: bold\">(</span>CSVDataSet<span style=\"font-weight: bold\">)</span><span style=\"color: #808000; text-decoration-color: #808000\">...</span>                    <a href=\"file:///home/ricardormotta/projects/LTV_analysis/venv/lib/python3.10/site-packages/kedro/io/data_catalog.py\" target=\"_blank\"><span style=\"color: #7f7f7f; text-decoration-color: #7f7f7f\">data_catalog.py</span></a><span style=\"color: #7f7f7f; text-decoration-color: #7f7f7f\">:</span><a href=\"file:///home/ricardormotta/projects/LTV_analysis/venv/lib/python3.10/site-packages/kedro/io/data_catalog.py#502\" target=\"_blank\"><span style=\"color: #7f7f7f; text-decoration-color: #7f7f7f\">502</span></a>\n",
       "</pre>\n"
      ],
      "text/plain": [
       "\u001b[2;36m                   \u001b[0m\u001b[2;36m \u001b[0m\u001b[34mINFO    \u001b[0m Loading data from \u001b[32m'y_train_ltv'\u001b[0m \u001b[1m(\u001b[0mCSVDataSet\u001b[1m)\u001b[0m\u001b[33m...\u001b[0m                    \u001b]8;id=816828;file:///home/ricardormotta/projects/LTV_analysis/venv/lib/python3.10/site-packages/kedro/io/data_catalog.py\u001b\\\u001b[2mdata_catalog.py\u001b[0m\u001b]8;;\u001b\\\u001b[2m:\u001b[0m\u001b]8;id=46766;file:///home/ricardormotta/projects/LTV_analysis/venv/lib/python3.10/site-packages/kedro/io/data_catalog.py#502\u001b\\\u001b[2m502\u001b[0m\u001b]8;;\u001b\\\n"
      ]
     },
     "metadata": {},
     "output_type": "display_data"
    },
    {
     "data": {
      "text/html": [
       "<pre style=\"white-space:pre;overflow-x:auto;line-height:normal;font-family:Menlo,'DejaVu Sans Mono',consolas,'Courier New',monospace\"><span style=\"color: #7fbfbf; text-decoration-color: #7fbfbf\">                    </span><span style=\"color: #000080; text-decoration-color: #000080\">INFO    </span> Loading data from <span style=\"color: #008000; text-decoration-color: #008000\">'y_test_ltv'</span> <span style=\"font-weight: bold\">(</span>CSVDataSet<span style=\"font-weight: bold\">)</span><span style=\"color: #808000; text-decoration-color: #808000\">...</span>                     <a href=\"file:///home/ricardormotta/projects/LTV_analysis/venv/lib/python3.10/site-packages/kedro/io/data_catalog.py\" target=\"_blank\"><span style=\"color: #7f7f7f; text-decoration-color: #7f7f7f\">data_catalog.py</span></a><span style=\"color: #7f7f7f; text-decoration-color: #7f7f7f\">:</span><a href=\"file:///home/ricardormotta/projects/LTV_analysis/venv/lib/python3.10/site-packages/kedro/io/data_catalog.py#502\" target=\"_blank\"><span style=\"color: #7f7f7f; text-decoration-color: #7f7f7f\">502</span></a>\n",
       "</pre>\n"
      ],
      "text/plain": [
       "\u001b[2;36m                   \u001b[0m\u001b[2;36m \u001b[0m\u001b[34mINFO    \u001b[0m Loading data from \u001b[32m'y_test_ltv'\u001b[0m \u001b[1m(\u001b[0mCSVDataSet\u001b[1m)\u001b[0m\u001b[33m...\u001b[0m                     \u001b]8;id=341143;file:///home/ricardormotta/projects/LTV_analysis/venv/lib/python3.10/site-packages/kedro/io/data_catalog.py\u001b\\\u001b[2mdata_catalog.py\u001b[0m\u001b]8;;\u001b\\\u001b[2m:\u001b[0m\u001b]8;id=636867;file:///home/ricardormotta/projects/LTV_analysis/venv/lib/python3.10/site-packages/kedro/io/data_catalog.py#502\u001b\\\u001b[2m502\u001b[0m\u001b]8;;\u001b\\\n"
      ]
     },
     "metadata": {},
     "output_type": "display_data"
    },
    {
     "data": {
      "text/html": [
       "<pre style=\"white-space:pre;overflow-x:auto;line-height:normal;font-family:Menlo,'DejaVu Sans Mono',consolas,'Courier New',monospace\"><span style=\"color: #7fbfbf; text-decoration-color: #7fbfbf\">                    </span><span style=\"color: #000080; text-decoration-color: #000080\">INFO    </span> Loading data from <span style=\"color: #008000; text-decoration-color: #008000\">'CT'</span> <span style=\"font-weight: bold\">(</span>PickleDataSet<span style=\"font-weight: bold\">)</span><span style=\"color: #808000; text-decoration-color: #808000\">...</span>                          <a href=\"file:///home/ricardormotta/projects/LTV_analysis/venv/lib/python3.10/site-packages/kedro/io/data_catalog.py\" target=\"_blank\"><span style=\"color: #7f7f7f; text-decoration-color: #7f7f7f\">data_catalog.py</span></a><span style=\"color: #7f7f7f; text-decoration-color: #7f7f7f\">:</span><a href=\"file:///home/ricardormotta/projects/LTV_analysis/venv/lib/python3.10/site-packages/kedro/io/data_catalog.py#502\" target=\"_blank\"><span style=\"color: #7f7f7f; text-decoration-color: #7f7f7f\">502</span></a>\n",
       "</pre>\n"
      ],
      "text/plain": [
       "\u001b[2;36m                   \u001b[0m\u001b[2;36m \u001b[0m\u001b[34mINFO    \u001b[0m Loading data from \u001b[32m'CT'\u001b[0m \u001b[1m(\u001b[0mPickleDataSet\u001b[1m)\u001b[0m\u001b[33m...\u001b[0m                          \u001b]8;id=37342;file:///home/ricardormotta/projects/LTV_analysis/venv/lib/python3.10/site-packages/kedro/io/data_catalog.py\u001b\\\u001b[2mdata_catalog.py\u001b[0m\u001b]8;;\u001b\\\u001b[2m:\u001b[0m\u001b]8;id=777213;file:///home/ricardormotta/projects/LTV_analysis/venv/lib/python3.10/site-packages/kedro/io/data_catalog.py#502\u001b\\\u001b[2m502\u001b[0m\u001b]8;;\u001b\\\n"
      ]
     },
     "metadata": {},
     "output_type": "display_data"
    }
   ],
   "source": [
    "X_train = catalog.load(\"X_train\")\n",
    "X_test = catalog.load(\"X_test\")\n",
    "y_train = catalog.load(\"y_train_ltv\")\n",
    "y_test = catalog.load(\"y_test_ltv\")\n",
    "CT = catalog.load(\"CT\")"
   ]
  },
  {
   "cell_type": "code",
   "execution_count": 4,
   "id": "09ce2220-918a-4ef5-abd5-cb36f013db5c",
   "metadata": {},
   "outputs": [],
   "source": [
    "for X in [X_train, X_test]:\n",
    "    X.loc[:,\"days_to_churn\"]=0"
   ]
  },
  {
   "cell_type": "code",
   "execution_count": 5,
   "id": "31623c58-6293-4ebe-84b8-2cd71fc2d1be",
   "metadata": {},
   "outputs": [],
   "source": [
    "import pandas as pd\n",
    "from sklearn.metrics import mean_absolute_error, mean_squared_error, r2_score\n",
    "import matplotlib.pyplot as plt\n",
    "def regression_metrics(true_values, predicted_values, model_name):\n",
    "    metrics = {\n",
    "        'Mean Absolute Error (MAE)': mean_absolute_error(true_values, predicted_values),\n",
    "        'Mean Squared Error (MSE)': mean_squared_error(true_values, predicted_values),\n",
    "        'Root Mean Squared Error (RMSE)': mean_squared_error(true_values, predicted_values, squared=False),\n",
    "        'R-squared': r2_score(true_values, predicted_values)\n",
    "    }\n",
    "\n",
    "    # Create a Pandas DataFrame from the metrics\n",
    "    metrics_df = pd.DataFrame.from_dict(metrics, orient='index', columns=[model_name])\n",
    "    \n",
    "    return metrics_df\n"
   ]
  },
  {
   "cell_type": "code",
   "execution_count": 6,
   "id": "d1d7c55e-273a-4038-9978-86d55cdced78",
   "metadata": {},
   "outputs": [
    {
     "data": {
      "text/html": [
       "<pre style=\"white-space:pre;overflow-x:auto;line-height:normal;font-family:Menlo,'DejaVu Sans Mono',consolas,'Courier New',monospace\"><span style=\"color: #7fbfbf; text-decoration-color: #7fbfbf\">                    </span><span style=\"color: #800000; text-decoration-color: #800000\">WARNING </span> <span style=\"color: #800080; text-decoration-color: #800080\">/home/ricardormotta/projects/LTV_analysis/venv/lib/python3.10/site-pac</span> <a href=\"file:///usr/lib/python3.10/warnings.py\" target=\"_blank\"><span style=\"color: #7f7f7f; text-decoration-color: #7f7f7f\">warnings.py</span></a><span style=\"color: #7f7f7f; text-decoration-color: #7f7f7f\">:</span><a href=\"file:///usr/lib/python3.10/warnings.py#109\" target=\"_blank\"><span style=\"color: #7f7f7f; text-decoration-color: #7f7f7f\">109</span></a>\n",
       "<span style=\"color: #7fbfbf; text-decoration-color: #7fbfbf\">                    </span>         <span style=\"color: #800080; text-decoration-color: #800080\">kages/sklearn/</span><span style=\"color: #ff00ff; text-decoration-color: #ff00ff\">base.py</span>:<span style=\"color: #008080; text-decoration-color: #008080; font-weight: bold\">1152</span>: DataConversionWarning: A column-vector y   <span style=\"color: #7f7f7f; text-decoration-color: #7f7f7f\">               </span>\n",
       "<span style=\"color: #7fbfbf; text-decoration-color: #7fbfbf\">                    </span>         was passed when a 1d array was expected. Please change the shape of y  <span style=\"color: #7f7f7f; text-decoration-color: #7f7f7f\">               </span>\n",
       "<span style=\"color: #7fbfbf; text-decoration-color: #7fbfbf\">                    </span>         to <span style=\"font-weight: bold\">(</span>n_samples,<span style=\"font-weight: bold\">)</span>, for example using <span style=\"color: #800080; text-decoration-color: #800080; font-weight: bold\">ravel</span><span style=\"font-weight: bold\">()</span>.                            <span style=\"color: #7f7f7f; text-decoration-color: #7f7f7f\">               </span>\n",
       "<span style=\"color: #7fbfbf; text-decoration-color: #7fbfbf\">                    </span>           return <span style=\"color: #800080; text-decoration-color: #800080; font-weight: bold\">fit_method</span><span style=\"font-weight: bold\">(</span>estimator, *args, **kwargs<span style=\"font-weight: bold\">)</span>                        <span style=\"color: #7f7f7f; text-decoration-color: #7f7f7f\">               </span>\n",
       "<span style=\"color: #7fbfbf; text-decoration-color: #7fbfbf\">                    </span>                                                                                <span style=\"color: #7f7f7f; text-decoration-color: #7f7f7f\">               </span>\n",
       "</pre>\n"
      ],
      "text/plain": [
       "\u001b[2;36m                   \u001b[0m\u001b[2;36m \u001b[0m\u001b[31mWARNING \u001b[0m \u001b[35m/home/ricardormotta/projects/LTV_analysis/venv/lib/python3.10/site-pac\u001b[0m \u001b]8;id=9520;file:///usr/lib/python3.10/warnings.py\u001b\\\u001b[2mwarnings.py\u001b[0m\u001b]8;;\u001b\\\u001b[2m:\u001b[0m\u001b]8;id=497211;file:///usr/lib/python3.10/warnings.py#109\u001b\\\u001b[2m109\u001b[0m\u001b]8;;\u001b\\\n",
       "\u001b[2;36m                    \u001b[0m         \u001b[35mkages/sklearn/\u001b[0m\u001b[95mbase.py\u001b[0m:\u001b[1;36m1152\u001b[0m: DataConversionWarning: A column-vector y   \u001b[2m               \u001b[0m\n",
       "\u001b[2;36m                    \u001b[0m         was passed when a 1d array was expected. Please change the shape of y  \u001b[2m               \u001b[0m\n",
       "\u001b[2;36m                    \u001b[0m         to \u001b[1m(\u001b[0mn_samples,\u001b[1m)\u001b[0m, for example using \u001b[1;35mravel\u001b[0m\u001b[1m(\u001b[0m\u001b[1m)\u001b[0m.                            \u001b[2m               \u001b[0m\n",
       "\u001b[2;36m                    \u001b[0m           return \u001b[1;35mfit_method\u001b[0m\u001b[1m(\u001b[0mestimator, *args, **kwargs\u001b[1m)\u001b[0m                        \u001b[2m               \u001b[0m\n",
       "\u001b[2;36m                    \u001b[0m                                                                                \u001b[2m               \u001b[0m\n"
      ]
     },
     "metadata": {},
     "output_type": "display_data"
    },
    {
     "data": {
      "text/html": [
       "<pre style=\"white-space:pre;overflow-x:auto;line-height:normal;font-family:Menlo,'DejaVu Sans Mono',consolas,'Courier New',monospace\"><span style=\"color: #7fbfbf; text-decoration-color: #7fbfbf\">[11/27/23 22:48:06] </span><span style=\"color: #800000; text-decoration-color: #800000\">WARNING </span> <span style=\"color: #800080; text-decoration-color: #800080\">/home/ricardormotta/projects/LTV_analysis/venv/lib/python3.10/site-pac</span> <a href=\"file:///usr/lib/python3.10/warnings.py\" target=\"_blank\"><span style=\"color: #7f7f7f; text-decoration-color: #7f7f7f\">warnings.py</span></a><span style=\"color: #7f7f7f; text-decoration-color: #7f7f7f\">:</span><a href=\"file:///usr/lib/python3.10/warnings.py#109\" target=\"_blank\"><span style=\"color: #7f7f7f; text-decoration-color: #7f7f7f\">109</span></a>\n",
       "<span style=\"color: #7fbfbf; text-decoration-color: #7fbfbf\">                    </span>         <span style=\"color: #800080; text-decoration-color: #800080\">kages/sklearn/ensemble/</span><span style=\"color: #ff00ff; text-decoration-color: #ff00ff\">_gb.py</span>:<span style=\"color: #008080; text-decoration-color: #008080; font-weight: bold\">424</span>: DataConversionWarning: A            <span style=\"color: #7f7f7f; text-decoration-color: #7f7f7f\">               </span>\n",
       "<span style=\"color: #7fbfbf; text-decoration-color: #7fbfbf\">                    </span>         column-vector y was passed when a 1d array was expected. Please change <span style=\"color: #7f7f7f; text-decoration-color: #7f7f7f\">               </span>\n",
       "<span style=\"color: #7fbfbf; text-decoration-color: #7fbfbf\">                    </span>         the shape of y to <span style=\"font-weight: bold\">(</span>n_samples, <span style=\"font-weight: bold\">)</span>, for example using <span style=\"color: #800080; text-decoration-color: #800080; font-weight: bold\">ravel</span><span style=\"font-weight: bold\">()</span>.            <span style=\"color: #7f7f7f; text-decoration-color: #7f7f7f\">               </span>\n",
       "<span style=\"color: #7fbfbf; text-decoration-color: #7fbfbf\">                    </span>           y = <span style=\"color: #800080; text-decoration-color: #800080; font-weight: bold\">column_or_1d</span><span style=\"font-weight: bold\">(</span>y, <span style=\"color: #808000; text-decoration-color: #808000\">warn</span>=<span style=\"color: #00ff00; text-decoration-color: #00ff00; font-style: italic\">True</span><span style=\"font-weight: bold\">)</span>                                       <span style=\"color: #7f7f7f; text-decoration-color: #7f7f7f\">               </span>\n",
       "<span style=\"color: #7fbfbf; text-decoration-color: #7fbfbf\">                    </span>                                                                                <span style=\"color: #7f7f7f; text-decoration-color: #7f7f7f\">               </span>\n",
       "</pre>\n"
      ],
      "text/plain": [
       "\u001b[2;36m[11/27/23 22:48:06]\u001b[0m\u001b[2;36m \u001b[0m\u001b[31mWARNING \u001b[0m \u001b[35m/home/ricardormotta/projects/LTV_analysis/venv/lib/python3.10/site-pac\u001b[0m \u001b]8;id=973050;file:///usr/lib/python3.10/warnings.py\u001b\\\u001b[2mwarnings.py\u001b[0m\u001b]8;;\u001b\\\u001b[2m:\u001b[0m\u001b]8;id=774653;file:///usr/lib/python3.10/warnings.py#109\u001b\\\u001b[2m109\u001b[0m\u001b]8;;\u001b\\\n",
       "\u001b[2;36m                    \u001b[0m         \u001b[35mkages/sklearn/ensemble/\u001b[0m\u001b[95m_gb.py\u001b[0m:\u001b[1;36m424\u001b[0m: DataConversionWarning: A            \u001b[2m               \u001b[0m\n",
       "\u001b[2;36m                    \u001b[0m         column-vector y was passed when a 1d array was expected. Please change \u001b[2m               \u001b[0m\n",
       "\u001b[2;36m                    \u001b[0m         the shape of y to \u001b[1m(\u001b[0mn_samples, \u001b[1m)\u001b[0m, for example using \u001b[1;35mravel\u001b[0m\u001b[1m(\u001b[0m\u001b[1m)\u001b[0m.            \u001b[2m               \u001b[0m\n",
       "\u001b[2;36m                    \u001b[0m           y = \u001b[1;35mcolumn_or_1d\u001b[0m\u001b[1m(\u001b[0my, \u001b[33mwarn\u001b[0m=\u001b[3;92mTrue\u001b[0m\u001b[1m)\u001b[0m                                       \u001b[2m               \u001b[0m\n",
       "\u001b[2;36m                    \u001b[0m                                                                                \u001b[2m               \u001b[0m\n"
      ]
     },
     "metadata": {},
     "output_type": "display_data"
    }
   ],
   "source": [
    "models = [\n",
    "    RandomForestRegressor(),\n",
    "    XGBRegressor(),\n",
    "    GradientBoostingRegressor()\n",
    "]\n",
    "metrics = []\n",
    "for model in models:\n",
    "    pipe = Pipeline([\n",
    "        (\"CT\", CT),\n",
    "        (\"model\", model)\n",
    "    ])\n",
    "    pipe.fit(X_train, y_train)\n",
    "    metrics.append(\n",
    "        regression_metrics(y_train.values, pipe.predict(X_train), type(pipe[\"model\"]).__name__+\"_train\")\n",
    "    )\n",
    "    metrics.append(\n",
    "        regression_metrics(y_test.values, pipe.predict(X_test), type(pipe[\"model\"]).__name__+\"_test\")\n",
    "    )"
   ]
  },
  {
   "cell_type": "code",
   "execution_count": 7,
   "id": "1203b32f-af5c-4ab9-bbd0-d0dde4b6a6d7",
   "metadata": {},
   "outputs": [
    {
     "data": {
      "text/html": [
       "<pre style=\"white-space:pre;overflow-x:auto;line-height:normal;font-family:Menlo,'DejaVu Sans Mono',consolas,'Courier New',monospace\"></pre>\n"
      ],
      "text/plain": []
     },
     "metadata": {},
     "output_type": "display_data"
    },
    {
     "data": {
      "text/html": [
       "<div>\n",
       "<style scoped>\n",
       "    .dataframe tbody tr th:only-of-type {\n",
       "        vertical-align: middle;\n",
       "    }\n",
       "\n",
       "    .dataframe tbody tr th {\n",
       "        vertical-align: top;\n",
       "    }\n",
       "\n",
       "    .dataframe thead th {\n",
       "        text-align: right;\n",
       "    }\n",
       "</style>\n",
       "<table border=\"1\" class=\"dataframe\">\n",
       "  <thead>\n",
       "    <tr style=\"text-align: right;\">\n",
       "      <th></th>\n",
       "      <th>RandomForestRegressor_train</th>\n",
       "      <th>RandomForestRegressor_test</th>\n",
       "      <th>XGBRegressor_train</th>\n",
       "      <th>XGBRegressor_test</th>\n",
       "      <th>GradientBoostingRegressor_train</th>\n",
       "      <th>GradientBoostingRegressor_test</th>\n",
       "    </tr>\n",
       "  </thead>\n",
       "  <tbody>\n",
       "    <tr>\n",
       "      <th>Mean Absolute Error (MAE)</th>\n",
       "      <td>13.186830</td>\n",
       "      <td>13.135322</td>\n",
       "      <td>13.184090</td>\n",
       "      <td>13.134286</td>\n",
       "      <td>13.237728</td>\n",
       "      <td>13.147227</td>\n",
       "    </tr>\n",
       "    <tr>\n",
       "      <th>Mean Squared Error (MSE)</th>\n",
       "      <td>257.918846</td>\n",
       "      <td>256.092356</td>\n",
       "      <td>257.899241</td>\n",
       "      <td>256.066801</td>\n",
       "      <td>259.066080</td>\n",
       "      <td>255.871837</td>\n",
       "    </tr>\n",
       "    <tr>\n",
       "      <th>Root Mean Squared Error (RMSE)</th>\n",
       "      <td>16.059852</td>\n",
       "      <td>16.002886</td>\n",
       "      <td>16.059242</td>\n",
       "      <td>16.002087</td>\n",
       "      <td>16.095530</td>\n",
       "      <td>15.995994</td>\n",
       "    </tr>\n",
       "    <tr>\n",
       "      <th>R-squared</th>\n",
       "      <td>0.071042</td>\n",
       "      <td>0.064884</td>\n",
       "      <td>0.071113</td>\n",
       "      <td>0.064977</td>\n",
       "      <td>0.066910</td>\n",
       "      <td>0.065689</td>\n",
       "    </tr>\n",
       "  </tbody>\n",
       "</table>\n",
       "</div>"
      ],
      "text/plain": [
       "\n",
       "                                RandomForestRegressor_train  \\\n",
       "Mean Absolute Error \u001b[1m(\u001b[0mMAE\u001b[1m)\u001b[0m                         \u001b[1;36m13.186830\u001b[0m   \n",
       "Mean Squared Error \u001b[1m(\u001b[0mMSE\u001b[1m)\u001b[0m                         \u001b[1;36m257.918846\u001b[0m   \n",
       "Root Mean Squared Error \u001b[1m(\u001b[0mRMSE\u001b[1m)\u001b[0m                    \u001b[1;36m16.059852\u001b[0m   \n",
       "R-squared                                          \u001b[1;36m0.071042\u001b[0m   \n",
       "\n",
       "                                RandomForestRegressor_test  \\\n",
       "Mean Absolute Error \u001b[1m(\u001b[0mMAE\u001b[1m)\u001b[0m                        \u001b[1;36m13.135322\u001b[0m   \n",
       "Mean Squared Error \u001b[1m(\u001b[0mMSE\u001b[1m)\u001b[0m                        \u001b[1;36m256.092356\u001b[0m   \n",
       "Root Mean Squared Error \u001b[1m(\u001b[0mRMSE\u001b[1m)\u001b[0m                   \u001b[1;36m16.002886\u001b[0m   \n",
       "R-squared                                         \u001b[1;36m0.064884\u001b[0m   \n",
       "\n",
       "                                XGBRegressor_train  XGBRegressor_test  \\\n",
       "Mean Absolute Error \u001b[1m(\u001b[0mMAE\u001b[1m)\u001b[0m                \u001b[1;36m13.184090\u001b[0m          \u001b[1;36m13.134286\u001b[0m   \n",
       "Mean Squared Error \u001b[1m(\u001b[0mMSE\u001b[1m)\u001b[0m                \u001b[1;36m257.899241\u001b[0m         \u001b[1;36m256.066801\u001b[0m   \n",
       "Root Mean Squared Error \u001b[1m(\u001b[0mRMSE\u001b[1m)\u001b[0m           \u001b[1;36m16.059242\u001b[0m          \u001b[1;36m16.002087\u001b[0m   \n",
       "R-squared                                 \u001b[1;36m0.071113\u001b[0m           \u001b[1;36m0.064977\u001b[0m   \n",
       "\n",
       "                                GradientBoostingRegressor_train  \\\n",
       "Mean Absolute Error \u001b[1m(\u001b[0mMAE\u001b[1m)\u001b[0m                             \u001b[1;36m13.237728\u001b[0m   \n",
       "Mean Squared Error \u001b[1m(\u001b[0mMSE\u001b[1m)\u001b[0m                             \u001b[1;36m259.066080\u001b[0m   \n",
       "Root Mean Squared Error \u001b[1m(\u001b[0mRMSE\u001b[1m)\u001b[0m                        \u001b[1;36m16.095530\u001b[0m   \n",
       "R-squared                                              \u001b[1;36m0.066910\u001b[0m   \n",
       "\n",
       "                                GradientBoostingRegressor_test  \n",
       "Mean Absolute Error \u001b[1m(\u001b[0mMAE\u001b[1m)\u001b[0m                            \u001b[1;36m13.147227\u001b[0m  \n",
       "Mean Squared Error \u001b[1m(\u001b[0mMSE\u001b[1m)\u001b[0m                            \u001b[1;36m255.871837\u001b[0m  \n",
       "Root Mean Squared Error \u001b[1m(\u001b[0mRMSE\u001b[1m)\u001b[0m                       \u001b[1;36m15.995994\u001b[0m  \n",
       "R-squared                                             \u001b[1;36m0.065689\u001b[0m  "
      ]
     },
     "execution_count": 7,
     "metadata": {},
     "output_type": "execute_result"
    }
   ],
   "source": [
    "pd.concat(metrics, axis=1)"
   ]
  },
  {
   "cell_type": "code",
   "execution_count": 8,
   "id": "daf30053-7132-47c6-8b72-0061999dfe8f",
   "metadata": {},
   "outputs": [
    {
     "name": "stdout",
     "output_type": "stream",
     "text": [
      "Fitting 5 folds for each of 9 candidates, totalling 45 fits\n"
     ]
    },
    {
     "data": {
      "text/html": [
       "<style>#sk-container-id-1 {color: black;}#sk-container-id-1 pre{padding: 0;}#sk-container-id-1 div.sk-toggleable {background-color: white;}#sk-container-id-1 label.sk-toggleable__label {cursor: pointer;display: block;width: 100%;margin-bottom: 0;padding: 0.3em;box-sizing: border-box;text-align: center;}#sk-container-id-1 label.sk-toggleable__label-arrow:before {content: \"▸\";float: left;margin-right: 0.25em;color: #696969;}#sk-container-id-1 label.sk-toggleable__label-arrow:hover:before {color: black;}#sk-container-id-1 div.sk-estimator:hover label.sk-toggleable__label-arrow:before {color: black;}#sk-container-id-1 div.sk-toggleable__content {max-height: 0;max-width: 0;overflow: hidden;text-align: left;background-color: #f0f8ff;}#sk-container-id-1 div.sk-toggleable__content pre {margin: 0.2em;color: black;border-radius: 0.25em;background-color: #f0f8ff;}#sk-container-id-1 input.sk-toggleable__control:checked~div.sk-toggleable__content {max-height: 200px;max-width: 100%;overflow: auto;}#sk-container-id-1 input.sk-toggleable__control:checked~label.sk-toggleable__label-arrow:before {content: \"▾\";}#sk-container-id-1 div.sk-estimator input.sk-toggleable__control:checked~label.sk-toggleable__label {background-color: #d4ebff;}#sk-container-id-1 div.sk-label input.sk-toggleable__control:checked~label.sk-toggleable__label {background-color: #d4ebff;}#sk-container-id-1 input.sk-hidden--visually {border: 0;clip: rect(1px 1px 1px 1px);clip: rect(1px, 1px, 1px, 1px);height: 1px;margin: -1px;overflow: hidden;padding: 0;position: absolute;width: 1px;}#sk-container-id-1 div.sk-estimator {font-family: monospace;background-color: #f0f8ff;border: 1px dotted black;border-radius: 0.25em;box-sizing: border-box;margin-bottom: 0.5em;}#sk-container-id-1 div.sk-estimator:hover {background-color: #d4ebff;}#sk-container-id-1 div.sk-parallel-item::after {content: \"\";width: 100%;border-bottom: 1px solid gray;flex-grow: 1;}#sk-container-id-1 div.sk-label:hover label.sk-toggleable__label {background-color: #d4ebff;}#sk-container-id-1 div.sk-serial::before {content: \"\";position: absolute;border-left: 1px solid gray;box-sizing: border-box;top: 0;bottom: 0;left: 50%;z-index: 0;}#sk-container-id-1 div.sk-serial {display: flex;flex-direction: column;align-items: center;background-color: white;padding-right: 0.2em;padding-left: 0.2em;position: relative;}#sk-container-id-1 div.sk-item {position: relative;z-index: 1;}#sk-container-id-1 div.sk-parallel {display: flex;align-items: stretch;justify-content: center;background-color: white;position: relative;}#sk-container-id-1 div.sk-item::before, #sk-container-id-1 div.sk-parallel-item::before {content: \"\";position: absolute;border-left: 1px solid gray;box-sizing: border-box;top: 0;bottom: 0;left: 50%;z-index: -1;}#sk-container-id-1 div.sk-parallel-item {display: flex;flex-direction: column;z-index: 1;position: relative;background-color: white;}#sk-container-id-1 div.sk-parallel-item:first-child::after {align-self: flex-end;width: 50%;}#sk-container-id-1 div.sk-parallel-item:last-child::after {align-self: flex-start;width: 50%;}#sk-container-id-1 div.sk-parallel-item:only-child::after {width: 0;}#sk-container-id-1 div.sk-dashed-wrapped {border: 1px dashed gray;margin: 0 0.4em 0.5em 0.4em;box-sizing: border-box;padding-bottom: 0.4em;background-color: white;}#sk-container-id-1 div.sk-label label {font-family: monospace;font-weight: bold;display: inline-block;line-height: 1.2em;}#sk-container-id-1 div.sk-label-container {text-align: center;}#sk-container-id-1 div.sk-container {/* jupyter's `normalize.less` sets `[hidden] { display: none; }` but bootstrap.min.css set `[hidden] { display: none !important; }` so we also need the `!important` here to be able to override the default hidden behavior on the sphinx rendered scikit-learn.org. See: https://github.com/scikit-learn/scikit-learn/issues/21755 */display: inline-block !important;position: relative;}#sk-container-id-1 div.sk-text-repr-fallback {display: none;}</style><div id=\"sk-container-id-1\" class=\"sk-top-container\"><div class=\"sk-text-repr-fallback\"><pre>Pipeline(steps=[(&#x27;CT&#x27;,\n",
       "                 ColumnTransformer(transformers=[(&#x27;categorical&#x27;,\n",
       "                                                  OneHotEncoder(handle_unknown=&#x27;ignore&#x27;,\n",
       "                                                                sparse_output=False),\n",
       "                                                  [&#x27;product&#x27;, &#x27;channel&#x27;,\n",
       "                                                   &#x27;age_bucket&#x27;,\n",
       "                                                   &#x27;operating_system&#x27;]),\n",
       "                                                 (&#x27;numerical&#x27;, StandardScaler(),\n",
       "                                                  [&#x27;days_to_churn&#x27;, &#x27;product_x&#x27;,\n",
       "                                                   &#x27;product_y&#x27;])])),\n",
       "                (&#x27;model&#x27;,\n",
       "                 GridSearchCV(estimator=XGBRegressor(base_score=None,\n",
       "                                                     booster=None,\n",
       "                                                     callbacks=None,\n",
       "                                                     co...\n",
       "                                                     max_bin=None,\n",
       "                                                     max_cat_threshold=None,\n",
       "                                                     max_cat_to_onehot=None,\n",
       "                                                     max_delta_step=None,\n",
       "                                                     max_depth=None,\n",
       "                                                     max_leaves=None,\n",
       "                                                     min_child_weight=None,\n",
       "                                                     missing=nan,\n",
       "                                                     monotone_constraints=None,\n",
       "                                                     multi_strategy=None,\n",
       "                                                     n_estimators=None,\n",
       "                                                     n_jobs=None,\n",
       "                                                     num_parallel_tree=None,\n",
       "                                                     random_state=None, ...),\n",
       "                              n_jobs=-1,\n",
       "                              param_grid={&#x27;max_depth&#x27;: [4, 6, 8],\n",
       "                                          &#x27;n_estimators&#x27;: [250, 500, 1000]},\n",
       "                              verbose=3))])</pre><b>In a Jupyter environment, please rerun this cell to show the HTML representation or trust the notebook. <br />On GitHub, the HTML representation is unable to render, please try loading this page with nbviewer.org.</b></div><div class=\"sk-container\" hidden><div class=\"sk-item sk-dashed-wrapped\"><div class=\"sk-label-container\"><div class=\"sk-label sk-toggleable\"><input class=\"sk-toggleable__control sk-hidden--visually\" id=\"sk-estimator-id-1\" type=\"checkbox\" ><label for=\"sk-estimator-id-1\" class=\"sk-toggleable__label sk-toggleable__label-arrow\">Pipeline</label><div class=\"sk-toggleable__content\"><pre>Pipeline(steps=[(&#x27;CT&#x27;,\n",
       "                 ColumnTransformer(transformers=[(&#x27;categorical&#x27;,\n",
       "                                                  OneHotEncoder(handle_unknown=&#x27;ignore&#x27;,\n",
       "                                                                sparse_output=False),\n",
       "                                                  [&#x27;product&#x27;, &#x27;channel&#x27;,\n",
       "                                                   &#x27;age_bucket&#x27;,\n",
       "                                                   &#x27;operating_system&#x27;]),\n",
       "                                                 (&#x27;numerical&#x27;, StandardScaler(),\n",
       "                                                  [&#x27;days_to_churn&#x27;, &#x27;product_x&#x27;,\n",
       "                                                   &#x27;product_y&#x27;])])),\n",
       "                (&#x27;model&#x27;,\n",
       "                 GridSearchCV(estimator=XGBRegressor(base_score=None,\n",
       "                                                     booster=None,\n",
       "                                                     callbacks=None,\n",
       "                                                     co...\n",
       "                                                     max_bin=None,\n",
       "                                                     max_cat_threshold=None,\n",
       "                                                     max_cat_to_onehot=None,\n",
       "                                                     max_delta_step=None,\n",
       "                                                     max_depth=None,\n",
       "                                                     max_leaves=None,\n",
       "                                                     min_child_weight=None,\n",
       "                                                     missing=nan,\n",
       "                                                     monotone_constraints=None,\n",
       "                                                     multi_strategy=None,\n",
       "                                                     n_estimators=None,\n",
       "                                                     n_jobs=None,\n",
       "                                                     num_parallel_tree=None,\n",
       "                                                     random_state=None, ...),\n",
       "                              n_jobs=-1,\n",
       "                              param_grid={&#x27;max_depth&#x27;: [4, 6, 8],\n",
       "                                          &#x27;n_estimators&#x27;: [250, 500, 1000]},\n",
       "                              verbose=3))])</pre></div></div></div><div class=\"sk-serial\"><div class=\"sk-item sk-dashed-wrapped\"><div class=\"sk-label-container\"><div class=\"sk-label sk-toggleable\"><input class=\"sk-toggleable__control sk-hidden--visually\" id=\"sk-estimator-id-2\" type=\"checkbox\" ><label for=\"sk-estimator-id-2\" class=\"sk-toggleable__label sk-toggleable__label-arrow\">CT: ColumnTransformer</label><div class=\"sk-toggleable__content\"><pre>ColumnTransformer(transformers=[(&#x27;categorical&#x27;,\n",
       "                                 OneHotEncoder(handle_unknown=&#x27;ignore&#x27;,\n",
       "                                               sparse_output=False),\n",
       "                                 [&#x27;product&#x27;, &#x27;channel&#x27;, &#x27;age_bucket&#x27;,\n",
       "                                  &#x27;operating_system&#x27;]),\n",
       "                                (&#x27;numerical&#x27;, StandardScaler(),\n",
       "                                 [&#x27;days_to_churn&#x27;, &#x27;product_x&#x27;, &#x27;product_y&#x27;])])</pre></div></div></div><div class=\"sk-parallel\"><div class=\"sk-parallel-item\"><div class=\"sk-item\"><div class=\"sk-label-container\"><div class=\"sk-label sk-toggleable\"><input class=\"sk-toggleable__control sk-hidden--visually\" id=\"sk-estimator-id-3\" type=\"checkbox\" ><label for=\"sk-estimator-id-3\" class=\"sk-toggleable__label sk-toggleable__label-arrow\">categorical</label><div class=\"sk-toggleable__content\"><pre>[&#x27;product&#x27;, &#x27;channel&#x27;, &#x27;age_bucket&#x27;, &#x27;operating_system&#x27;]</pre></div></div></div><div class=\"sk-serial\"><div class=\"sk-item\"><div class=\"sk-estimator sk-toggleable\"><input class=\"sk-toggleable__control sk-hidden--visually\" id=\"sk-estimator-id-4\" type=\"checkbox\" ><label for=\"sk-estimator-id-4\" class=\"sk-toggleable__label sk-toggleable__label-arrow\">OneHotEncoder</label><div class=\"sk-toggleable__content\"><pre>OneHotEncoder(handle_unknown=&#x27;ignore&#x27;, sparse_output=False)</pre></div></div></div></div></div></div><div class=\"sk-parallel-item\"><div class=\"sk-item\"><div class=\"sk-label-container\"><div class=\"sk-label sk-toggleable\"><input class=\"sk-toggleable__control sk-hidden--visually\" id=\"sk-estimator-id-5\" type=\"checkbox\" ><label for=\"sk-estimator-id-5\" class=\"sk-toggleable__label sk-toggleable__label-arrow\">numerical</label><div class=\"sk-toggleable__content\"><pre>[&#x27;days_to_churn&#x27;, &#x27;product_x&#x27;, &#x27;product_y&#x27;]</pre></div></div></div><div class=\"sk-serial\"><div class=\"sk-item\"><div class=\"sk-estimator sk-toggleable\"><input class=\"sk-toggleable__control sk-hidden--visually\" id=\"sk-estimator-id-6\" type=\"checkbox\" ><label for=\"sk-estimator-id-6\" class=\"sk-toggleable__label sk-toggleable__label-arrow\">StandardScaler</label><div class=\"sk-toggleable__content\"><pre>StandardScaler()</pre></div></div></div></div></div></div></div></div><div class=\"sk-item sk-dashed-wrapped\"><div class=\"sk-label-container\"><div class=\"sk-label sk-toggleable\"><input class=\"sk-toggleable__control sk-hidden--visually\" id=\"sk-estimator-id-7\" type=\"checkbox\" ><label for=\"sk-estimator-id-7\" class=\"sk-toggleable__label sk-toggleable__label-arrow\">model: GridSearchCV</label><div class=\"sk-toggleable__content\"><pre>GridSearchCV(estimator=XGBRegressor(base_score=None, booster=None,\n",
       "                                    callbacks=None, colsample_bylevel=None,\n",
       "                                    colsample_bynode=None,\n",
       "                                    colsample_bytree=None, device=None,\n",
       "                                    early_stopping_rounds=None,\n",
       "                                    enable_categorical=False, eval_metric=None,\n",
       "                                    feature_types=None, gamma=None,\n",
       "                                    grow_policy=None, importance_type=None,\n",
       "                                    interaction_constraints=None,\n",
       "                                    learning_rate=None, max_bin=None,\n",
       "                                    max_cat_threshold=None,\n",
       "                                    max_cat_to_onehot=None, max_delta_step=None,\n",
       "                                    max_depth=None, max_leaves=None,\n",
       "                                    min_child_weight=None, missing=nan,\n",
       "                                    monotone_constraints=None,\n",
       "                                    multi_strategy=None, n_estimators=None,\n",
       "                                    n_jobs=None, num_parallel_tree=None,\n",
       "                                    random_state=None, ...),\n",
       "             n_jobs=-1,\n",
       "             param_grid={&#x27;max_depth&#x27;: [4, 6, 8],\n",
       "                         &#x27;n_estimators&#x27;: [250, 500, 1000]},\n",
       "             verbose=3)</pre></div></div></div><div class=\"sk-parallel\"><div class=\"sk-parallel-item\"><div class=\"sk-item\"><div class=\"sk-label-container\"><div class=\"sk-label sk-toggleable\"><input class=\"sk-toggleable__control sk-hidden--visually\" id=\"sk-estimator-id-8\" type=\"checkbox\" ><label for=\"sk-estimator-id-8\" class=\"sk-toggleable__label sk-toggleable__label-arrow\">estimator: XGBRegressor</label><div class=\"sk-toggleable__content\"><pre>XGBRegressor(base_score=None, booster=None, callbacks=None,\n",
       "             colsample_bylevel=None, colsample_bynode=None,\n",
       "             colsample_bytree=None, device=None, early_stopping_rounds=None,\n",
       "             enable_categorical=False, eval_metric=None, feature_types=None,\n",
       "             gamma=None, grow_policy=None, importance_type=None,\n",
       "             interaction_constraints=None, learning_rate=None, max_bin=None,\n",
       "             max_cat_threshold=None, max_cat_to_onehot=None,\n",
       "             max_delta_step=None, max_depth=None, max_leaves=None,\n",
       "             min_child_weight=None, missing=nan, monotone_constraints=None,\n",
       "             multi_strategy=None, n_estimators=None, n_jobs=None,\n",
       "             num_parallel_tree=None, random_state=None, ...)</pre></div></div></div><div class=\"sk-serial\"><div class=\"sk-item\"><div class=\"sk-estimator sk-toggleable\"><input class=\"sk-toggleable__control sk-hidden--visually\" id=\"sk-estimator-id-9\" type=\"checkbox\" ><label for=\"sk-estimator-id-9\" class=\"sk-toggleable__label sk-toggleable__label-arrow\">XGBRegressor</label><div class=\"sk-toggleable__content\"><pre>XGBRegressor(base_score=None, booster=None, callbacks=None,\n",
       "             colsample_bylevel=None, colsample_bynode=None,\n",
       "             colsample_bytree=None, device=None, early_stopping_rounds=None,\n",
       "             enable_categorical=False, eval_metric=None, feature_types=None,\n",
       "             gamma=None, grow_policy=None, importance_type=None,\n",
       "             interaction_constraints=None, learning_rate=None, max_bin=None,\n",
       "             max_cat_threshold=None, max_cat_to_onehot=None,\n",
       "             max_delta_step=None, max_depth=None, max_leaves=None,\n",
       "             min_child_weight=None, missing=nan, monotone_constraints=None,\n",
       "             multi_strategy=None, n_estimators=None, n_jobs=None,\n",
       "             num_parallel_tree=None, random_state=None, ...)</pre></div></div></div></div></div></div></div></div></div></div></div></div>"
      ],
      "text/plain": [
       "Pipeline(steps=[('CT',\n",
       "                 ColumnTransformer(transformers=[('categorical',\n",
       "                                                  OneHotEncoder(handle_unknown='ignore',\n",
       "                                                                sparse_output=False),\n",
       "                                                  ['product', 'channel',\n",
       "                                                   'age_bucket',\n",
       "                                                   'operating_system']),\n",
       "                                                 ('numerical', StandardScaler(),\n",
       "                                                  ['days_to_churn', 'product_x',\n",
       "                                                   'product_y'])])),\n",
       "                ('model',\n",
       "                 GridSearchCV(estimator=XGBRegressor(base_score=None,\n",
       "                                                     booster=None,\n",
       "                                                     callbacks=None,\n",
       "                                                     co...\n",
       "                                                     max_bin=None,\n",
       "                                                     max_cat_threshold=None,\n",
       "                                                     max_cat_to_onehot=None,\n",
       "                                                     max_delta_step=None,\n",
       "                                                     max_depth=None,\n",
       "                                                     max_leaves=None,\n",
       "                                                     min_child_weight=None,\n",
       "                                                     missing=nan,\n",
       "                                                     monotone_constraints=None,\n",
       "                                                     multi_strategy=None,\n",
       "                                                     n_estimators=None,\n",
       "                                                     n_jobs=None,\n",
       "                                                     num_parallel_tree=None,\n",
       "                                                     random_state=None, ...),\n",
       "                              n_jobs=-1,\n",
       "                              param_grid={'max_depth': [4, 6, 8],\n",
       "                                          'n_estimators': [250, 500, 1000]},\n",
       "                              verbose=3))])"
      ]
     },
     "execution_count": 8,
     "metadata": {},
     "output_type": "execute_result"
    }
   ],
   "source": [
    "xgb = XGBRegressor()\n",
    "parameters = {\n",
    "    \"n_estimators\": [250, 500, 1000],\n",
    "    \"max_depth\": [4, 6, 8]\n",
    "}\n",
    "clf = GridSearchCV(xgb, parameters, n_jobs=-1, verbose=3)\n",
    "pipe = Pipeline([\n",
    "    (\"CT\", CT),\n",
    "    (\"model\", clf)\n",
    "])\n",
    "pipe.fit(X_train, y_train)"
   ]
  },
  {
   "cell_type": "code",
   "execution_count": 9,
   "id": "5e555cb3-0ee7-4657-862c-04a3937112b2",
   "metadata": {},
   "outputs": [
    {
     "data": {
      "text/html": [
       "<pre style=\"white-space:pre;overflow-x:auto;line-height:normal;font-family:Menlo,'DejaVu Sans Mono',consolas,'Courier New',monospace\"></pre>\n"
      ],
      "text/plain": []
     },
     "metadata": {},
     "output_type": "display_data"
    },
    {
     "data": {
      "text/html": [
       "<div>\n",
       "<style scoped>\n",
       "    .dataframe tbody tr th:only-of-type {\n",
       "        vertical-align: middle;\n",
       "    }\n",
       "\n",
       "    .dataframe tbody tr th {\n",
       "        vertical-align: top;\n",
       "    }\n",
       "\n",
       "    .dataframe thead th {\n",
       "        text-align: right;\n",
       "    }\n",
       "</style>\n",
       "<table border=\"1\" class=\"dataframe\">\n",
       "  <thead>\n",
       "    <tr style=\"text-align: right;\">\n",
       "      <th></th>\n",
       "      <th>GridSearchCV</th>\n",
       "    </tr>\n",
       "  </thead>\n",
       "  <tbody>\n",
       "    <tr>\n",
       "      <th>Mean Absolute Error (MAE)</th>\n",
       "      <td>13.129393</td>\n",
       "    </tr>\n",
       "    <tr>\n",
       "      <th>Mean Squared Error (MSE)</th>\n",
       "      <td>255.787752</td>\n",
       "    </tr>\n",
       "    <tr>\n",
       "      <th>Root Mean Squared Error (RMSE)</th>\n",
       "      <td>15.993366</td>\n",
       "    </tr>\n",
       "    <tr>\n",
       "      <th>R-squared</th>\n",
       "      <td>0.065996</td>\n",
       "    </tr>\n",
       "  </tbody>\n",
       "</table>\n",
       "</div>"
      ],
      "text/plain": [
       "\n",
       "                                GridSearchCV\n",
       "Mean Absolute Error \u001b[1m(\u001b[0mMAE\u001b[1m)\u001b[0m          \u001b[1;36m13.129393\u001b[0m\n",
       "Mean Squared Error \u001b[1m(\u001b[0mMSE\u001b[1m)\u001b[0m          \u001b[1;36m255.787752\u001b[0m\n",
       "Root Mean Squared Error \u001b[1m(\u001b[0mRMSE\u001b[1m)\u001b[0m     \u001b[1;36m15.993366\u001b[0m\n",
       "R-squared                           \u001b[1;36m0.065996\u001b[0m"
      ]
     },
     "execution_count": 9,
     "metadata": {},
     "output_type": "execute_result"
    }
   ],
   "source": [
    "regression_metrics(y_test.values, pipe.predict(X_test), type(pipe[\"model\"]).__name__)"
   ]
  },
  {
   "cell_type": "code",
   "execution_count": 10,
   "id": "d25302a8-eb90-4390-b54e-de2e796f4671",
   "metadata": {},
   "outputs": [
    {
     "data": {
      "text/html": [
       "<pre style=\"white-space:pre;overflow-x:auto;line-height:normal;font-family:Menlo,'DejaVu Sans Mono',consolas,'Courier New',monospace\"></pre>\n"
      ],
      "text/plain": []
     },
     "metadata": {},
     "output_type": "display_data"
    },
    {
     "data": {
      "text/plain": [
       "\u001b[1m{\u001b[0m\u001b[32m'max_depth'\u001b[0m: \u001b[1;36m4\u001b[0m, \u001b[32m'n_estimators'\u001b[0m: \u001b[1;36m250\u001b[0m\u001b[1m}\u001b[0m"
      ]
     },
     "execution_count": 10,
     "metadata": {},
     "output_type": "execute_result"
    }
   ],
   "source": [
    "pipe[\"model\"].best_params_"
   ]
  },
  {
   "cell_type": "code",
   "execution_count": 11,
   "id": "3c9a8e43-caeb-4f94-97e7-45e78874a091",
   "metadata": {},
   "outputs": [
    {
     "data": {
      "text/html": [
       "<pre style=\"white-space:pre;overflow-x:auto;line-height:normal;font-family:Menlo,'DejaVu Sans Mono',consolas,'Courier New',monospace\"></pre>\n"
      ],
      "text/plain": []
     },
     "metadata": {},
     "output_type": "display_data"
    },
    {
     "data": {
      "text/plain": [
       "\n",
       "months_as_client    \u001b[1;36m22.383696\u001b[0m\n",
       "dtype: float64"
      ]
     },
     "execution_count": 11,
     "metadata": {},
     "output_type": "execute_result"
    },
    {
     "name": "stdout",
     "output_type": "stream",
     "text": [
      "[CV 1/5] END .....max_depth=4, n_estimators=500;, score=0.060 total time=   3.1s\n",
      "[CV 3/5] END .....max_depth=6, n_estimators=250;, score=0.064 total time=   2.4s\n",
      "[CV 5/5] END .....max_depth=6, n_estimators=500;, score=0.071 total time=   3.5s\n",
      "[CV 2/5] END .....max_depth=8, n_estimators=500;, score=0.064 total time=   2.3s\n",
      "[CV 2/5] END .....max_depth=4, n_estimators=500;, score=0.065 total time=   3.3s\n",
      "[CV 5/5] END .....max_depth=6, n_estimators=250;, score=0.071 total time=   2.4s\n",
      "[CV 1/5] END ....max_depth=6, n_estimators=1000;, score=0.060 total time=   5.6s\n",
      "[CV 2/5] END ....max_depth=4, n_estimators=1000;, score=0.065 total time=   6.2s\n",
      "[CV 4/5] END ....max_depth=6, n_estimators=1000;, score=0.066 total time=   4.8s\n",
      "[CV 4/5] END .....max_depth=4, n_estimators=250;, score=0.066 total time=   1.6s\n",
      "[CV 3/5] END ....max_depth=4, n_estimators=1000;, score=0.065 total time=   6.0s\n",
      "[CV 3/5] END .....max_depth=8, n_estimators=250;, score=0.064 total time=   1.9s\n",
      "[CV 4/5] END .....max_depth=8, n_estimators=500;, score=0.066 total time=   2.1s\n",
      "[CV 5/5] END .....max_depth=4, n_estimators=500;, score=0.072 total time=   3.4s\n",
      "[CV 1/5] END .....max_depth=6, n_estimators=500;, score=0.060 total time=   4.0s\n",
      "[CV 2/5] END .....max_depth=8, n_estimators=250;, score=0.064 total time=   1.8s\n",
      "[CV 3/5] END .....max_depth=8, n_estimators=500;, score=0.064 total time=   2.3s\n",
      "[CV 2/5] END .....max_depth=4, n_estimators=250;, score=0.065 total time=   1.7s\n",
      "[CV 1/5] END .....max_depth=6, n_estimators=250;, score=0.060 total time=   2.0s\n",
      "[CV 2/5] END .....max_depth=6, n_estimators=500;, score=0.064 total time=   3.6s\n",
      "[CV 1/5] END .....max_depth=8, n_estimators=250;, score=0.061 total time=   2.1s\n",
      "[CV 5/5] END .....max_depth=8, n_estimators=500;, score=0.071 total time=   2.2s\n",
      "[CV 3/5] END .....max_depth=4, n_estimators=500;, score=0.065 total time=   3.4s\n",
      "[CV 3/5] END .....max_depth=6, n_estimators=500;, score=0.064 total time=   3.4s\n",
      "[CV 5/5] END ....max_depth=6, n_estimators=1000;, score=0.071 total time=   4.5s\n",
      "[CV 5/5] END .....max_depth=4, n_estimators=250;, score=0.072 total time=   1.5s\n",
      "[CV 4/5] END ....max_depth=4, n_estimators=1000;, score=0.066 total time=   6.1s\n",
      "[CV 4/5] END .....max_depth=8, n_estimators=250;, score=0.066 total time=   2.0s\n",
      "[CV 1/5] END ....max_depth=8, n_estimators=1000;, score=0.061 total time=   2.5s\n",
      "[CV 3/5] END .....max_depth=4, n_estimators=250;, score=0.065 total time=   2.0s\n",
      "[CV 2/5] END .....max_depth=6, n_estimators=250;, score=0.064 total time=   2.7s\n",
      "[CV 4/5] END .....max_depth=6, n_estimators=500;, score=0.066 total time=   3.2s\n",
      "[CV 5/5] END .....max_depth=8, n_estimators=250;, score=0.071 total time=   1.8s\n",
      "[CV 2/5] END ....max_depth=8, n_estimators=1000;, score=0.064 total time=   2.6s\n",
      "[CV 1/5] END ....max_depth=4, n_estimators=1000;, score=0.060 total time=   5.8s\n",
      "[CV 3/5] END ....max_depth=6, n_estimators=1000;, score=0.064 total time=   4.5s\n",
      "[CV 3/5] END ....max_depth=8, n_estimators=1000;, score=0.064 total time=   2.0s\n",
      "[CV 1/5] END .....max_depth=4, n_estimators=250;, score=0.061 total time=   1.7s\n",
      "[CV 5/5] END ....max_depth=4, n_estimators=1000;, score=0.071 total time=   6.3s\n",
      "[CV 1/5] END .....max_depth=8, n_estimators=500;, score=0.061 total time=   2.6s\n",
      "[CV 4/5] END ....max_depth=8, n_estimators=1000;, score=0.066 total time=   1.9s\n",
      "[CV 4/5] END .....max_depth=4, n_estimators=500;, score=0.066 total time=   3.1s\n",
      "[CV 4/5] END .....max_depth=6, n_estimators=250;, score=0.066 total time=   2.5s\n",
      "[CV 2/5] END ....max_depth=6, n_estimators=1000;, score=0.064 total time=   5.1s\n",
      "[CV 5/5] END ....max_depth=8, n_estimators=1000;, score=0.071 total time=   1.8s\n"
     ]
    }
   ],
   "source": [
    "y_test.mean()"
   ]
  },
  {
   "cell_type": "code",
   "execution_count": null,
   "id": "d9388b03-494e-48f2-bc46-31452ccb41fa",
   "metadata": {},
   "outputs": [],
   "source": []
  },
  {
   "cell_type": "code",
   "execution_count": null,
   "id": "dff43b34-9644-428f-b6df-d15d2662e1e7",
   "metadata": {},
   "outputs": [],
   "source": []
  },
  {
   "cell_type": "code",
   "execution_count": null,
   "id": "6990ee49-adb6-4416-8dca-9f8ca5e7142c",
   "metadata": {},
   "outputs": [],
   "source": []
  }
 ],
 "metadata": {
  "kernelspec": {
   "display_name": "Kedro (ltv_ml_project)",
   "language": "python",
   "name": "kedro_ltv_ml_project"
  },
  "language_info": {
   "codemirror_mode": {
    "name": "ipython",
    "version": 3
   },
   "file_extension": ".py",
   "mimetype": "text/x-python",
   "name": "python",
   "nbconvert_exporter": "python",
   "pygments_lexer": "ipython3",
   "version": "3.10.12"
  }
 },
 "nbformat": 4,
 "nbformat_minor": 5
}
