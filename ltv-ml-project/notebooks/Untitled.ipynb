{
 "cells": [
  {
   "cell_type": "code",
   "execution_count": 1,
   "id": "27368193-386b-49d6-8112-aaff51f24c4d",
   "metadata": {},
   "outputs": [],
   "source": [
    "import pandas as pd\n",
    "import numpy as np\n",
    "import seaborn as sns\n",
    "import matplotlib.pyplot as plt\n",
    "import sklearn.metrics as metrics\n",
    "from sklearn.preprocessing import OneHotEncoder, StandardScaler\n",
    "from sklearn.compose import ColumnTransformer\n",
    "from sklearn.pipeline import Pipeline\n",
    "\n",
    "from sklearn.calibration import calibration_curve \n",
    "from sklearn.metrics import brier_score_loss\n",
    "import lifelines"
   ]
  },
  {
   "cell_type": "code",
   "execution_count": 2,
   "id": "eac1c7cd-8d22-47b4-95ea-406d2bd45523",
   "metadata": {},
   "outputs": [
    {
     "data": {
      "text/html": [
       "<pre style=\"white-space:pre;overflow-x:auto;line-height:normal;font-family:Menlo,'DejaVu Sans Mono',consolas,'Courier New',monospace\"><span style=\"color: #7fbfbf; text-decoration-color: #7fbfbf\">[11/25/23 20:28:30] </span><span style=\"color: #000080; text-decoration-color: #000080\">INFO    </span> Loading data from <span style=\"color: #008000; text-decoration-color: #008000\">'base'</span> <span style=\"font-weight: bold\">(</span>CSVDataSet<span style=\"font-weight: bold\">)</span><span style=\"color: #808000; text-decoration-color: #808000\">...</span>                           <a href=\"file:///home/ricardormotta/projects/LTV_analysis/venv/lib/python3.10/site-packages/kedro/io/data_catalog.py\" target=\"_blank\"><span style=\"color: #7f7f7f; text-decoration-color: #7f7f7f\">data_catalog.py</span></a><span style=\"color: #7f7f7f; text-decoration-color: #7f7f7f\">:</span><a href=\"file:///home/ricardormotta/projects/LTV_analysis/venv/lib/python3.10/site-packages/kedro/io/data_catalog.py#502\" target=\"_blank\"><span style=\"color: #7f7f7f; text-decoration-color: #7f7f7f\">502</span></a>\n",
       "</pre>\n"
      ],
      "text/plain": [
       "\u001b[2;36m[11/25/23 20:28:30]\u001b[0m\u001b[2;36m \u001b[0m\u001b[34mINFO    \u001b[0m Loading data from \u001b[32m'base'\u001b[0m \u001b[1m(\u001b[0mCSVDataSet\u001b[1m)\u001b[0m\u001b[33m...\u001b[0m                           \u001b]8;id=249475;file:///home/ricardormotta/projects/LTV_analysis/venv/lib/python3.10/site-packages/kedro/io/data_catalog.py\u001b\\\u001b[2mdata_catalog.py\u001b[0m\u001b]8;;\u001b\\\u001b[2m:\u001b[0m\u001b]8;id=833354;file:///home/ricardormotta/projects/LTV_analysis/venv/lib/python3.10/site-packages/kedro/io/data_catalog.py#502\u001b\\\u001b[2m502\u001b[0m\u001b]8;;\u001b\\\n"
      ]
     },
     "metadata": {},
     "output_type": "display_data"
    },
    {
     "data": {
      "text/html": [
       "<pre style=\"white-space:pre;overflow-x:auto;line-height:normal;font-family:Menlo,'DejaVu Sans Mono',consolas,'Courier New',monospace\"><span style=\"color: #7fbfbf; text-decoration-color: #7fbfbf\">                    </span><span style=\"color: #000080; text-decoration-color: #000080\">INFO    </span> Loading data from <span style=\"color: #008000; text-decoration-color: #008000\">'xs'</span> <span style=\"font-weight: bold\">(</span>CSVDataSet<span style=\"font-weight: bold\">)</span><span style=\"color: #808000; text-decoration-color: #808000\">...</span>                             <a href=\"file:///home/ricardormotta/projects/LTV_analysis/venv/lib/python3.10/site-packages/kedro/io/data_catalog.py\" target=\"_blank\"><span style=\"color: #7f7f7f; text-decoration-color: #7f7f7f\">data_catalog.py</span></a><span style=\"color: #7f7f7f; text-decoration-color: #7f7f7f\">:</span><a href=\"file:///home/ricardormotta/projects/LTV_analysis/venv/lib/python3.10/site-packages/kedro/io/data_catalog.py#502\" target=\"_blank\"><span style=\"color: #7f7f7f; text-decoration-color: #7f7f7f\">502</span></a>\n",
       "</pre>\n"
      ],
      "text/plain": [
       "\u001b[2;36m                   \u001b[0m\u001b[2;36m \u001b[0m\u001b[34mINFO    \u001b[0m Loading data from \u001b[32m'xs'\u001b[0m \u001b[1m(\u001b[0mCSVDataSet\u001b[1m)\u001b[0m\u001b[33m...\u001b[0m                             \u001b]8;id=575633;file:///home/ricardormotta/projects/LTV_analysis/venv/lib/python3.10/site-packages/kedro/io/data_catalog.py\u001b\\\u001b[2mdata_catalog.py\u001b[0m\u001b]8;;\u001b\\\u001b[2m:\u001b[0m\u001b]8;id=606532;file:///home/ricardormotta/projects/LTV_analysis/venv/lib/python3.10/site-packages/kedro/io/data_catalog.py#502\u001b\\\u001b[2m502\u001b[0m\u001b]8;;\u001b\\\n"
      ]
     },
     "metadata": {},
     "output_type": "display_data"
    }
   ],
   "source": [
    "base = catalog.load(\"base\")\n",
    "\n",
    "xs = catalog.load(\"xs\")"
   ]
  },
  {
   "cell_type": "code",
   "execution_count": 3,
   "id": "7ab238a8-15a4-43bd-beb3-2e7eadbe1ee3",
   "metadata": {},
   "outputs": [
    {
     "data": {
      "text/html": [
       "<pre style=\"white-space:pre;overflow-x:auto;line-height:normal;font-family:Menlo,'DejaVu Sans Mono',consolas,'Courier New',monospace\"></pre>\n"
      ],
      "text/plain": []
     },
     "metadata": {},
     "output_type": "display_data"
    },
    {
     "data": {
      "text/html": [
       "<div>\n",
       "<style scoped>\n",
       "    .dataframe tbody tr th:only-of-type {\n",
       "        vertical-align: middle;\n",
       "    }\n",
       "\n",
       "    .dataframe tbody tr th {\n",
       "        vertical-align: top;\n",
       "    }\n",
       "\n",
       "    .dataframe thead th {\n",
       "        text-align: right;\n",
       "    }\n",
       "</style>\n",
       "<table border=\"1\" class=\"dataframe\">\n",
       "  <thead>\n",
       "    <tr style=\"text-align: right;\">\n",
       "      <th></th>\n",
       "      <th>user_id</th>\n",
       "      <th>customer_started_at</th>\n",
       "      <th>customer_churned_at</th>\n",
       "      <th>product</th>\n",
       "      <th>commission</th>\n",
       "      <th>channel</th>\n",
       "      <th>age_bucket</th>\n",
       "      <th>operating_system</th>\n",
       "    </tr>\n",
       "  </thead>\n",
       "  <tbody>\n",
       "    <tr>\n",
       "      <th>0</th>\n",
       "      <td>37d76d441d</td>\n",
       "      <td>2020-12-01</td>\n",
       "      <td>NaN</td>\n",
       "      <td>product_a</td>\n",
       "      <td>12.1775</td>\n",
       "      <td>channel_a</td>\n",
       "      <td>55+</td>\n",
       "      <td>iOS</td>\n",
       "    </tr>\n",
       "    <tr>\n",
       "      <th>1</th>\n",
       "      <td>cdc1327d79</td>\n",
       "      <td>2022-05-09</td>\n",
       "      <td>NaN</td>\n",
       "      <td>product_a</td>\n",
       "      <td>12.4575</td>\n",
       "      <td>channel_a</td>\n",
       "      <td>18-24</td>\n",
       "      <td>iOS</td>\n",
       "    </tr>\n",
       "    <tr>\n",
       "      <th>2</th>\n",
       "      <td>fac8c03aa8</td>\n",
       "      <td>2021-11-20</td>\n",
       "      <td>2023-01-01</td>\n",
       "      <td>product_c</td>\n",
       "      <td>21.6625</td>\n",
       "      <td>channel_a</td>\n",
       "      <td>35-39</td>\n",
       "      <td>Android</td>\n",
       "    </tr>\n",
       "    <tr>\n",
       "      <th>3</th>\n",
       "      <td>b0c703a998</td>\n",
       "      <td>2020-05-21</td>\n",
       "      <td>NaN</td>\n",
       "      <td>product_a</td>\n",
       "      <td>12.0475</td>\n",
       "      <td>channel_b</td>\n",
       "      <td>35-39</td>\n",
       "      <td>Android</td>\n",
       "    </tr>\n",
       "    <tr>\n",
       "      <th>4</th>\n",
       "      <td>0276bcc756</td>\n",
       "      <td>2021-04-15</td>\n",
       "      <td>NaN</td>\n",
       "      <td>product_c</td>\n",
       "      <td>15.7700</td>\n",
       "      <td>channel_b</td>\n",
       "      <td>35-39</td>\n",
       "      <td>Android</td>\n",
       "    </tr>\n",
       "    <tr>\n",
       "      <th>...</th>\n",
       "      <td>...</td>\n",
       "      <td>...</td>\n",
       "      <td>...</td>\n",
       "      <td>...</td>\n",
       "      <td>...</td>\n",
       "      <td>...</td>\n",
       "      <td>...</td>\n",
       "      <td>...</td>\n",
       "    </tr>\n",
       "    <tr>\n",
       "      <th>102618</th>\n",
       "      <td>7df1a34a0d</td>\n",
       "      <td>2021-02-12</td>\n",
       "      <td>NaN</td>\n",
       "      <td>product_a</td>\n",
       "      <td>12.6825</td>\n",
       "      <td>channel_a</td>\n",
       "      <td>45-49</td>\n",
       "      <td>iOS</td>\n",
       "    </tr>\n",
       "    <tr>\n",
       "      <th>102619</th>\n",
       "      <td>58ce7b5a49</td>\n",
       "      <td>2022-11-27</td>\n",
       "      <td>NaN</td>\n",
       "      <td>product_b</td>\n",
       "      <td>13.6975</td>\n",
       "      <td>channel_a</td>\n",
       "      <td>45-49</td>\n",
       "      <td>iOS</td>\n",
       "    </tr>\n",
       "    <tr>\n",
       "      <th>102620</th>\n",
       "      <td>4744036910</td>\n",
       "      <td>2022-07-22</td>\n",
       "      <td>NaN</td>\n",
       "      <td>product_a</td>\n",
       "      <td>12.1925</td>\n",
       "      <td>channel_a</td>\n",
       "      <td>45-49</td>\n",
       "      <td>iOS</td>\n",
       "    </tr>\n",
       "    <tr>\n",
       "      <th>102621</th>\n",
       "      <td>ca58e4734d</td>\n",
       "      <td>2021-07-16</td>\n",
       "      <td>NaN</td>\n",
       "      <td>product_a</td>\n",
       "      <td>13.7525</td>\n",
       "      <td>channel_a</td>\n",
       "      <td>50-54</td>\n",
       "      <td>Android</td>\n",
       "    </tr>\n",
       "    <tr>\n",
       "      <th>102622</th>\n",
       "      <td>b1677c3ae1</td>\n",
       "      <td>2021-09-22</td>\n",
       "      <td>NaN</td>\n",
       "      <td>product_a</td>\n",
       "      <td>13.1950</td>\n",
       "      <td>channel_b</td>\n",
       "      <td>18-24</td>\n",
       "      <td>iOS</td>\n",
       "    </tr>\n",
       "  </tbody>\n",
       "</table>\n",
       "<p>102623 rows × 8 columns</p>\n",
       "</div>"
      ],
      "text/plain": [
       "\n",
       "           user_id customer_started_at customer_churned_at    product  \\\n",
       "\u001b[1;36m0\u001b[0m       37d76d441d          \u001b[1;36m2020\u001b[0m-\u001b[1;36m12\u001b[0m-\u001b[1;36m01\u001b[0m                 NaN  product_a   \n",
       "\u001b[1;36m1\u001b[0m       cdc1327d79          \u001b[1;36m2022\u001b[0m-\u001b[1;36m05\u001b[0m-\u001b[1;36m09\u001b[0m                 NaN  product_a   \n",
       "\u001b[1;36m2\u001b[0m       fac8c03aa8          \u001b[1;36m2021\u001b[0m-\u001b[1;36m11\u001b[0m-\u001b[1;36m20\u001b[0m          \u001b[1;36m2023\u001b[0m-\u001b[1;36m01\u001b[0m-\u001b[1;36m01\u001b[0m  product_c   \n",
       "\u001b[1;36m3\u001b[0m       b0c703a998          \u001b[1;36m2020\u001b[0m-\u001b[1;36m05\u001b[0m-\u001b[1;36m21\u001b[0m                 NaN  product_a   \n",
       "\u001b[1;36m4\u001b[0m       0276bcc756          \u001b[1;36m2021\u001b[0m-\u001b[1;36m04\u001b[0m-\u001b[1;36m15\u001b[0m                 NaN  product_c   \n",
       "\u001b[33m...\u001b[0m            \u001b[33m...\u001b[0m                 \u001b[33m...\u001b[0m                 \u001b[33m...\u001b[0m        \u001b[33m...\u001b[0m   \n",
       "\u001b[1;36m102618\u001b[0m  7df1a34a0d          \u001b[1;36m2021\u001b[0m-\u001b[1;36m02\u001b[0m-\u001b[1;36m12\u001b[0m                 NaN  product_a   \n",
       "\u001b[1;36m102619\u001b[0m  58ce7b5a49          \u001b[1;36m2022\u001b[0m-\u001b[1;36m11\u001b[0m-\u001b[1;36m27\u001b[0m                 NaN  product_b   \n",
       "\u001b[1;36m102620\u001b[0m  \u001b[1;36m4744036910\u001b[0m          \u001b[1;36m2022\u001b[0m-\u001b[1;36m07\u001b[0m-\u001b[1;36m22\u001b[0m                 NaN  product_a   \n",
       "\u001b[1;36m102621\u001b[0m  ca58e4734d          \u001b[1;36m2021\u001b[0m-\u001b[1;36m07\u001b[0m-\u001b[1;36m16\u001b[0m                 NaN  product_a   \n",
       "\u001b[1;36m102622\u001b[0m  b1677c3ae1          \u001b[1;36m2021\u001b[0m-\u001b[1;36m09\u001b[0m-\u001b[1;36m22\u001b[0m                 NaN  product_a   \n",
       "\n",
       "        commission    channel age_bucket operating_system  \n",
       "\u001b[1;36m0\u001b[0m          \u001b[1;36m12.1775\u001b[0m  channel_a        \u001b[1;36m55\u001b[0m+              iOS  \n",
       "\u001b[1;36m1\u001b[0m          \u001b[1;36m12.4575\u001b[0m  channel_a      \u001b[1;36m18\u001b[0m-\u001b[1;36m24\u001b[0m              iOS  \n",
       "\u001b[1;36m2\u001b[0m          \u001b[1;36m21.6625\u001b[0m  channel_a      \u001b[1;36m35\u001b[0m-\u001b[1;36m39\u001b[0m          Android  \n",
       "\u001b[1;36m3\u001b[0m          \u001b[1;36m12.0475\u001b[0m  channel_b      \u001b[1;36m35\u001b[0m-\u001b[1;36m39\u001b[0m          Android  \n",
       "\u001b[1;36m4\u001b[0m          \u001b[1;36m15.7700\u001b[0m  channel_b      \u001b[1;36m35\u001b[0m-\u001b[1;36m39\u001b[0m          Android  \n",
       "\u001b[33m...\u001b[0m            \u001b[33m...\u001b[0m        \u001b[33m...\u001b[0m        \u001b[33m...\u001b[0m              \u001b[33m...\u001b[0m  \n",
       "\u001b[1;36m102618\u001b[0m     \u001b[1;36m12.6825\u001b[0m  channel_a      \u001b[1;36m45\u001b[0m-\u001b[1;36m49\u001b[0m              iOS  \n",
       "\u001b[1;36m102619\u001b[0m     \u001b[1;36m13.6975\u001b[0m  channel_a      \u001b[1;36m45\u001b[0m-\u001b[1;36m49\u001b[0m              iOS  \n",
       "\u001b[1;36m102620\u001b[0m     \u001b[1;36m12.1925\u001b[0m  channel_a      \u001b[1;36m45\u001b[0m-\u001b[1;36m49\u001b[0m              iOS  \n",
       "\u001b[1;36m102621\u001b[0m     \u001b[1;36m13.7525\u001b[0m  channel_a      \u001b[1;36m50\u001b[0m-\u001b[1;36m54\u001b[0m          Android  \n",
       "\u001b[1;36m102622\u001b[0m     \u001b[1;36m13.1950\u001b[0m  channel_b      \u001b[1;36m18\u001b[0m-\u001b[1;36m24\u001b[0m              iOS  \n",
       "\n",
       "\u001b[1m[\u001b[0m\u001b[1;36m102623\u001b[0m rows x \u001b[1;36m8\u001b[0m columns\u001b[1m]\u001b[0m"
      ]
     },
     "execution_count": 3,
     "metadata": {},
     "output_type": "execute_result"
    }
   ],
   "source": [
    "base"
   ]
  },
  {
   "cell_type": "code",
   "execution_count": 27,
   "id": "fed016c7-2191-4f75-ab07-6361265d4305",
   "metadata": {},
   "outputs": [
    {
     "data": {
      "text/html": [
       "<pre style=\"white-space:pre;overflow-x:auto;line-height:normal;font-family:Menlo,'DejaVu Sans Mono',consolas,'Courier New',monospace\"></pre>\n"
      ],
      "text/plain": []
     },
     "metadata": {},
     "output_type": "display_data"
    },
    {
     "data": {
      "text/plain": [
       "\n",
       "\u001b[1;35marray\u001b[0m\u001b[1m(\u001b[0m\u001b[1m[\u001b[0m\u001b[32m'18-24'\u001b[0m, \u001b[32m'25-29'\u001b[0m, \u001b[32m'30-34'\u001b[0m, \u001b[32m'35-39'\u001b[0m, \u001b[32m'40-44'\u001b[0m, \u001b[32m'45-49'\u001b[0m, \u001b[32m'50-54'\u001b[0m,\n",
       "       \u001b[32m'55+'\u001b[0m, \u001b[32m'undefined'\u001b[0m\u001b[1m]\u001b[0m, \u001b[33mdtype\u001b[0m=\u001b[35mobject\u001b[0m\u001b[1m)\u001b[0m"
      ]
     },
     "execution_count": 27,
     "metadata": {},
     "output_type": "execute_result"
    }
   ],
   "source": [
    "base[\"age_bucket\"].sort_values().unique()"
   ]
  },
  {
   "cell_type": "code",
   "execution_count": 4,
   "id": "0e74a4be-e40c-4a5b-bbb2-1e3b92f20a10",
   "metadata": {},
   "outputs": [
    {
     "data": {
      "text/html": [
       "<pre style=\"white-space:pre;overflow-x:auto;line-height:normal;font-family:Menlo,'DejaVu Sans Mono',consolas,'Courier New',monospace\"></pre>\n"
      ],
      "text/plain": []
     },
     "metadata": {},
     "output_type": "display_data"
    },
    {
     "data": {
      "text/plain": [
       "\n",
       "operating_system\n",
       "Android      \u001b[1;36m48405\u001b[0m\n",
       "iOS          \u001b[1;36m47520\u001b[0m\n",
       "iPadOS         \u001b[1;36m797\u001b[0m\n",
       "iPhone OS       \u001b[1;36m18\u001b[0m\n",
       "Name: count, dtype: int64"
      ]
     },
     "execution_count": 4,
     "metadata": {},
     "output_type": "execute_result"
    }
   ],
   "source": [
    "base[\"operating_system\"].value_counts()"
   ]
  },
  {
   "cell_type": "code",
   "execution_count": 5,
   "id": "6d31a94f-cd0e-48bf-80cb-26229820547e",
   "metadata": {},
   "outputs": [],
   "source": [
    "base.loc[:, \"operating_system\"] = base[\"operating_system\"].replace({\"iPadOS\": \"iOS\", \"iPhone OS\": \"iOS\"})"
   ]
  },
  {
   "cell_type": "code",
   "execution_count": 6,
   "id": "622f5f75-953b-4e48-8522-6fcbd5c9c69e",
   "metadata": {},
   "outputs": [
    {
     "data": {
      "text/html": [
       "<pre style=\"white-space:pre;overflow-x:auto;line-height:normal;font-family:Menlo,'DejaVu Sans Mono',consolas,'Courier New',monospace\"></pre>\n"
      ],
      "text/plain": []
     },
     "metadata": {},
     "output_type": "display_data"
    },
    {
     "data": {
      "text/html": [
       "<div>\n",
       "<style scoped>\n",
       "    .dataframe tbody tr th:only-of-type {\n",
       "        vertical-align: middle;\n",
       "    }\n",
       "\n",
       "    .dataframe tbody tr th {\n",
       "        vertical-align: top;\n",
       "    }\n",
       "\n",
       "    .dataframe thead th {\n",
       "        text-align: right;\n",
       "    }\n",
       "</style>\n",
       "<table border=\"1\" class=\"dataframe\">\n",
       "  <thead>\n",
       "    <tr style=\"text-align: right;\">\n",
       "      <th></th>\n",
       "      <th>user_id</th>\n",
       "      <th>product</th>\n",
       "      <th>commission</th>\n",
       "      <th>date</th>\n",
       "    </tr>\n",
       "  </thead>\n",
       "  <tbody>\n",
       "    <tr>\n",
       "      <th>0</th>\n",
       "      <td>ccc05d82e1</td>\n",
       "      <td>product_y</td>\n",
       "      <td>499.6000</td>\n",
       "      <td>2022-08-05</td>\n",
       "    </tr>\n",
       "    <tr>\n",
       "      <th>1</th>\n",
       "      <td>77a488f223</td>\n",
       "      <td>product_y</td>\n",
       "      <td>821.2950</td>\n",
       "      <td>2022-10-20</td>\n",
       "    </tr>\n",
       "    <tr>\n",
       "      <th>2</th>\n",
       "      <td>e717cb5a0b</td>\n",
       "      <td>product_y</td>\n",
       "      <td>1215.0350</td>\n",
       "      <td>2023-01-19</td>\n",
       "    </tr>\n",
       "    <tr>\n",
       "      <th>3</th>\n",
       "      <td>1e9ca78b5b</td>\n",
       "      <td>product_y</td>\n",
       "      <td>413.1800</td>\n",
       "      <td>2022-12-20</td>\n",
       "    </tr>\n",
       "    <tr>\n",
       "      <th>4</th>\n",
       "      <td>eee1f85c5c</td>\n",
       "      <td>product_y</td>\n",
       "      <td>354.4475</td>\n",
       "      <td>2022-10-06</td>\n",
       "    </tr>\n",
       "    <tr>\n",
       "      <th>...</th>\n",
       "      <td>...</td>\n",
       "      <td>...</td>\n",
       "      <td>...</td>\n",
       "      <td>...</td>\n",
       "    </tr>\n",
       "    <tr>\n",
       "      <th>1313</th>\n",
       "      <td>b46d770837</td>\n",
       "      <td>product_y</td>\n",
       "      <td>579.6650</td>\n",
       "      <td>2022-11-01</td>\n",
       "    </tr>\n",
       "    <tr>\n",
       "      <th>1314</th>\n",
       "      <td>af3b28aac0</td>\n",
       "      <td>product_y</td>\n",
       "      <td>418.3700</td>\n",
       "      <td>2022-10-11</td>\n",
       "    </tr>\n",
       "    <tr>\n",
       "      <th>1315</th>\n",
       "      <td>623b0fe810</td>\n",
       "      <td>product_x</td>\n",
       "      <td>1269.0025</td>\n",
       "      <td>2022-06-30</td>\n",
       "    </tr>\n",
       "    <tr>\n",
       "      <th>1316</th>\n",
       "      <td>3cc2642221</td>\n",
       "      <td>product_y</td>\n",
       "      <td>377.0550</td>\n",
       "      <td>2022-09-22</td>\n",
       "    </tr>\n",
       "    <tr>\n",
       "      <th>1317</th>\n",
       "      <td>c9699ea28e</td>\n",
       "      <td>product_y</td>\n",
       "      <td>1421.0200</td>\n",
       "      <td>2022-09-27</td>\n",
       "    </tr>\n",
       "  </tbody>\n",
       "</table>\n",
       "<p>1318 rows × 4 columns</p>\n",
       "</div>"
      ],
      "text/plain": [
       "\n",
       "         user_id    product  commission        date\n",
       "\u001b[1;36m0\u001b[0m     ccc05d82e1  product_y    \u001b[1;36m499.6000\u001b[0m  \u001b[1;36m2022\u001b[0m-\u001b[1;36m08\u001b[0m-\u001b[1;36m05\u001b[0m\n",
       "\u001b[1;36m1\u001b[0m     77a488f223  product_y    \u001b[1;36m821.2950\u001b[0m  \u001b[1;36m2022\u001b[0m-\u001b[1;36m10\u001b[0m-\u001b[1;36m20\u001b[0m\n",
       "\u001b[1;36m2\u001b[0m     e717cb5a0b  product_y   \u001b[1;36m1215.0350\u001b[0m  \u001b[1;36m2023\u001b[0m-\u001b[1;36m01\u001b[0m-\u001b[1;36m19\u001b[0m\n",
       "\u001b[1;36m3\u001b[0m     1e9ca78b5b  product_y    \u001b[1;36m413.1800\u001b[0m  \u001b[1;36m2022\u001b[0m-\u001b[1;36m12\u001b[0m-\u001b[1;36m20\u001b[0m\n",
       "\u001b[1;36m4\u001b[0m     eee1f85c5c  product_y    \u001b[1;36m354.4475\u001b[0m  \u001b[1;36m2022\u001b[0m-\u001b[1;36m10\u001b[0m-\u001b[1;36m06\u001b[0m\n",
       "\u001b[33m...\u001b[0m          \u001b[33m...\u001b[0m        \u001b[33m...\u001b[0m         \u001b[33m...\u001b[0m         \u001b[33m...\u001b[0m\n",
       "\u001b[1;36m1313\u001b[0m  b46d770837  product_y    \u001b[1;36m579.6650\u001b[0m  \u001b[1;36m2022\u001b[0m-\u001b[1;36m11\u001b[0m-\u001b[1;36m01\u001b[0m\n",
       "\u001b[1;36m1314\u001b[0m  af3b28aac0  product_y    \u001b[1;36m418.3700\u001b[0m  \u001b[1;36m2022\u001b[0m-\u001b[1;36m10\u001b[0m-\u001b[1;36m11\u001b[0m\n",
       "\u001b[1;36m1315\u001b[0m  623b0fe810  product_x   \u001b[1;36m1269.0025\u001b[0m  \u001b[1;36m2022\u001b[0m-\u001b[1;36m06\u001b[0m-\u001b[1;36m30\u001b[0m\n",
       "\u001b[1;36m1316\u001b[0m  3cc2642221  product_y    \u001b[1;36m377.0550\u001b[0m  \u001b[1;36m2022\u001b[0m-\u001b[1;36m09\u001b[0m-\u001b[1;36m22\u001b[0m\n",
       "\u001b[1;36m1317\u001b[0m  c9699ea28e  product_y   \u001b[1;36m1421.0200\u001b[0m  \u001b[1;36m2022\u001b[0m-\u001b[1;36m09\u001b[0m-\u001b[1;36m27\u001b[0m\n",
       "\n",
       "\u001b[1m[\u001b[0m\u001b[1;36m1318\u001b[0m rows x \u001b[1;36m4\u001b[0m columns\u001b[1m]\u001b[0m"
      ]
     },
     "execution_count": 6,
     "metadata": {},
     "output_type": "execute_result"
    }
   ],
   "source": [
    "xs"
   ]
  },
  {
   "cell_type": "code",
   "execution_count": 7,
   "id": "c191e1f9-fded-4352-b22d-970c5105ecf6",
   "metadata": {},
   "outputs": [
    {
     "data": {
      "text/html": [
       "<pre style=\"white-space:pre;overflow-x:auto;line-height:normal;font-family:Menlo,'DejaVu Sans Mono',consolas,'Courier New',monospace\"></pre>\n"
      ],
      "text/plain": []
     },
     "metadata": {},
     "output_type": "display_data"
    },
    {
     "data": {
      "text/plain": [
       "\u001b[3;92mTrue\u001b[0m"
      ]
     },
     "execution_count": 7,
     "metadata": {},
     "output_type": "execute_result"
    }
   ],
   "source": [
    "len(base[\"user_id\"].unique()) == len(base)"
   ]
  },
  {
   "cell_type": "code",
   "execution_count": 8,
   "id": "18d56fb5-0103-41c8-ac28-b8f3e423c764",
   "metadata": {},
   "outputs": [
    {
     "data": {
      "text/html": [
       "<pre style=\"white-space:pre;overflow-x:auto;line-height:normal;font-family:Menlo,'DejaVu Sans Mono',consolas,'Courier New',monospace\"></pre>\n"
      ],
      "text/plain": []
     },
     "metadata": {},
     "output_type": "display_data"
    },
    {
     "data": {
      "text/plain": [
       "\u001b[3;91mFalse\u001b[0m"
      ]
     },
     "execution_count": 8,
     "metadata": {},
     "output_type": "execute_result"
    }
   ],
   "source": [
    "len(xs[\"user_id\"].unique()) == len(xs)"
   ]
  },
  {
   "cell_type": "code",
   "execution_count": 9,
   "id": "56c3b53d-c311-484d-b254-b4b6498dd093",
   "metadata": {},
   "outputs": [
    {
     "data": {
      "text/html": [
       "<pre style=\"white-space:pre;overflow-x:auto;line-height:normal;font-family:Menlo,'DejaVu Sans Mono',consolas,'Courier New',monospace\"></pre>\n"
      ],
      "text/plain": []
     },
     "metadata": {},
     "output_type": "display_data"
    },
    {
     "data": {
      "text/plain": [
       "\n",
       "user_id\n",
       "995528dadd    \u001b[1;36m5\u001b[0m\n",
       "Name: count, dtype: int64"
      ]
     },
     "execution_count": 9,
     "metadata": {},
     "output_type": "execute_result"
    }
   ],
   "source": [
    "xs[\"user_id\"].value_counts().head(1)"
   ]
  },
  {
   "cell_type": "code",
   "execution_count": 10,
   "id": "b0f8234f-1802-40fb-9d63-494da060ba70",
   "metadata": {},
   "outputs": [
    {
     "data": {
      "text/html": [
       "<pre style=\"white-space:pre;overflow-x:auto;line-height:normal;font-family:Menlo,'DejaVu Sans Mono',consolas,'Courier New',monospace\"></pre>\n"
      ],
      "text/plain": []
     },
     "metadata": {},
     "output_type": "display_data"
    },
    {
     "data": {
      "text/html": [
       "<div>\n",
       "<style scoped>\n",
       "    .dataframe tbody tr th:only-of-type {\n",
       "        vertical-align: middle;\n",
       "    }\n",
       "\n",
       "    .dataframe tbody tr th {\n",
       "        vertical-align: top;\n",
       "    }\n",
       "\n",
       "    .dataframe thead th {\n",
       "        text-align: right;\n",
       "    }\n",
       "</style>\n",
       "<table border=\"1\" class=\"dataframe\">\n",
       "  <thead>\n",
       "    <tr style=\"text-align: right;\">\n",
       "      <th></th>\n",
       "      <th>user_id</th>\n",
       "      <th>customer_started_at</th>\n",
       "      <th>customer_churned_at</th>\n",
       "      <th>product</th>\n",
       "      <th>commission</th>\n",
       "      <th>channel</th>\n",
       "      <th>age_bucket</th>\n",
       "      <th>operating_system</th>\n",
       "    </tr>\n",
       "  </thead>\n",
       "  <tbody>\n",
       "    <tr>\n",
       "      <th>22280</th>\n",
       "      <td>995528dadd</td>\n",
       "      <td>2022-04-24</td>\n",
       "      <td>NaN</td>\n",
       "      <td>product_a</td>\n",
       "      <td>12.925</td>\n",
       "      <td>channel_b</td>\n",
       "      <td>30-34</td>\n",
       "      <td>Android</td>\n",
       "    </tr>\n",
       "  </tbody>\n",
       "</table>\n",
       "</div>"
      ],
      "text/plain": [
       "\n",
       "          user_id customer_started_at customer_churned_at    product  \\\n",
       "\u001b[1;36m22280\u001b[0m  995528dadd          \u001b[1;36m2022\u001b[0m-\u001b[1;36m04\u001b[0m-\u001b[1;36m24\u001b[0m                 NaN  product_a   \n",
       "\n",
       "       commission    channel age_bucket operating_system  \n",
       "\u001b[1;36m22280\u001b[0m      \u001b[1;36m12.925\u001b[0m  channel_b      \u001b[1;36m30\u001b[0m-\u001b[1;36m34\u001b[0m          Android  "
      ]
     },
     "execution_count": 10,
     "metadata": {},
     "output_type": "execute_result"
    }
   ],
   "source": [
    "base.loc[base[\"user_id\"]==\"995528dadd\"]"
   ]
  },
  {
   "cell_type": "code",
   "execution_count": 11,
   "id": "7d6a22f6-eab7-41a0-ae8a-c568d5d83510",
   "metadata": {},
   "outputs": [
    {
     "data": {
      "text/html": [
       "<pre style=\"white-space:pre;overflow-x:auto;line-height:normal;font-family:Menlo,'DejaVu Sans Mono',consolas,'Courier New',monospace\"></pre>\n"
      ],
      "text/plain": []
     },
     "metadata": {},
     "output_type": "display_data"
    },
    {
     "data": {
      "text/html": [
       "<div>\n",
       "<style scoped>\n",
       "    .dataframe tbody tr th:only-of-type {\n",
       "        vertical-align: middle;\n",
       "    }\n",
       "\n",
       "    .dataframe tbody tr th {\n",
       "        vertical-align: top;\n",
       "    }\n",
       "\n",
       "    .dataframe thead th {\n",
       "        text-align: right;\n",
       "    }\n",
       "</style>\n",
       "<table border=\"1\" class=\"dataframe\">\n",
       "  <thead>\n",
       "    <tr style=\"text-align: right;\">\n",
       "      <th></th>\n",
       "      <th>user_id</th>\n",
       "      <th>product</th>\n",
       "      <th>commission</th>\n",
       "      <th>date</th>\n",
       "    </tr>\n",
       "  </thead>\n",
       "  <tbody>\n",
       "    <tr>\n",
       "      <th>163</th>\n",
       "      <td>995528dadd</td>\n",
       "      <td>product_y</td>\n",
       "      <td>262.00</td>\n",
       "      <td>2022-12-30</td>\n",
       "    </tr>\n",
       "    <tr>\n",
       "      <th>164</th>\n",
       "      <td>995528dadd</td>\n",
       "      <td>product_y</td>\n",
       "      <td>1723.60</td>\n",
       "      <td>2022-05-05</td>\n",
       "    </tr>\n",
       "    <tr>\n",
       "      <th>165</th>\n",
       "      <td>995528dadd</td>\n",
       "      <td>product_y</td>\n",
       "      <td>195.46</td>\n",
       "      <td>2022-05-05</td>\n",
       "    </tr>\n",
       "    <tr>\n",
       "      <th>166</th>\n",
       "      <td>995528dadd</td>\n",
       "      <td>product_y</td>\n",
       "      <td>262.00</td>\n",
       "      <td>2022-12-30</td>\n",
       "    </tr>\n",
       "    <tr>\n",
       "      <th>167</th>\n",
       "      <td>995528dadd</td>\n",
       "      <td>product_y</td>\n",
       "      <td>244.60</td>\n",
       "      <td>2023-02-08</td>\n",
       "    </tr>\n",
       "  </tbody>\n",
       "</table>\n",
       "</div>"
      ],
      "text/plain": [
       "\n",
       "        user_id    product  commission        date\n",
       "\u001b[1;36m163\u001b[0m  995528dadd  product_y      \u001b[1;36m262.00\u001b[0m  \u001b[1;36m2022\u001b[0m-\u001b[1;36m12\u001b[0m-\u001b[1;36m30\u001b[0m\n",
       "\u001b[1;36m164\u001b[0m  995528dadd  product_y     \u001b[1;36m1723.60\u001b[0m  \u001b[1;36m2022\u001b[0m-\u001b[1;36m05\u001b[0m-\u001b[1;36m05\u001b[0m\n",
       "\u001b[1;36m165\u001b[0m  995528dadd  product_y      \u001b[1;36m195.46\u001b[0m  \u001b[1;36m2022\u001b[0m-\u001b[1;36m05\u001b[0m-\u001b[1;36m05\u001b[0m\n",
       "\u001b[1;36m166\u001b[0m  995528dadd  product_y      \u001b[1;36m262.00\u001b[0m  \u001b[1;36m2022\u001b[0m-\u001b[1;36m12\u001b[0m-\u001b[1;36m30\u001b[0m\n",
       "\u001b[1;36m167\u001b[0m  995528dadd  product_y      \u001b[1;36m244.60\u001b[0m  \u001b[1;36m2023\u001b[0m-\u001b[1;36m02\u001b[0m-\u001b[1;36m08\u001b[0m"
      ]
     },
     "execution_count": 11,
     "metadata": {},
     "output_type": "execute_result"
    }
   ],
   "source": [
    "xs.loc[xs[\"user_id\"]==\"995528dadd\"]"
   ]
  },
  {
   "cell_type": "code",
   "execution_count": 12,
   "id": "6a079fff-db86-4c7f-b89a-9017b66820d2",
   "metadata": {},
   "outputs": [],
   "source": [
    "def get_commission_per_product(df):\n",
    "    comission_per_product = df.groupby(\"product\").agg({\"commission\": [\"sum\",\"count\"]})\n",
    "    comission_per_product.columns = list(map('_'.join, comission_per_product.columns.values))\n",
    "    \n",
    "    comission_per_product.loc[:,\"commission_per_unit\"] = comission_per_product[\"commission_sum\"] / comission_per_product[\"commission_count\"]\n",
    "    return comission_per_product"
   ]
  },
  {
   "cell_type": "code",
   "execution_count": 13,
   "id": "7c8e192d-be30-4392-8286-56de5c4e475c",
   "metadata": {},
   "outputs": [],
   "source": [
    "comission_per_product_base = get_commission_per_product(base)\n",
    "comission_per_product_xs = get_commission_per_product(xs)\n",
    "comission_per_product = pd.concat([\n",
    "        comission_per_product_base,\n",
    "        comission_per_product_xs\n",
    "    ],\n",
    "     ignore_index=False).reset_index()"
   ]
  },
  {
   "cell_type": "code",
   "execution_count": 14,
   "id": "82393ced-6b40-45bd-b5fa-b9197b9c2958",
   "metadata": {},
   "outputs": [
    {
     "data": {
      "text/html": [
       "<pre style=\"white-space:pre;overflow-x:auto;line-height:normal;font-family:Menlo,'DejaVu Sans Mono',consolas,'Courier New',monospace\"></pre>\n"
      ],
      "text/plain": []
     },
     "metadata": {},
     "output_type": "display_data"
    },
    {
     "data": {
      "text/html": [
       "<div>\n",
       "<style scoped>\n",
       "    .dataframe tbody tr th:only-of-type {\n",
       "        vertical-align: middle;\n",
       "    }\n",
       "\n",
       "    .dataframe tbody tr th {\n",
       "        vertical-align: top;\n",
       "    }\n",
       "\n",
       "    .dataframe thead th {\n",
       "        text-align: right;\n",
       "    }\n",
       "</style>\n",
       "<table border=\"1\" class=\"dataframe\">\n",
       "  <thead>\n",
       "    <tr style=\"text-align: right;\">\n",
       "      <th></th>\n",
       "      <th>product</th>\n",
       "      <th>commission_sum</th>\n",
       "      <th>commission_count</th>\n",
       "      <th>commission_per_unit</th>\n",
       "    </tr>\n",
       "  </thead>\n",
       "  <tbody>\n",
       "    <tr>\n",
       "      <th>0</th>\n",
       "      <td>product_a</td>\n",
       "      <td>1.014396e+06</td>\n",
       "      <td>82084</td>\n",
       "      <td>12.358022</td>\n",
       "    </tr>\n",
       "    <tr>\n",
       "      <th>1</th>\n",
       "      <td>product_b</td>\n",
       "      <td>6.470865e+04</td>\n",
       "      <td>4618</td>\n",
       "      <td>14.012268</td>\n",
       "    </tr>\n",
       "    <tr>\n",
       "      <th>2</th>\n",
       "      <td>product_c</td>\n",
       "      <td>3.063894e+05</td>\n",
       "      <td>15921</td>\n",
       "      <td>19.244357</td>\n",
       "    </tr>\n",
       "    <tr>\n",
       "      <th>3</th>\n",
       "      <td>product_x</td>\n",
       "      <td>7.797592e+04</td>\n",
       "      <td>79</td>\n",
       "      <td>987.036930</td>\n",
       "    </tr>\n",
       "    <tr>\n",
       "      <th>4</th>\n",
       "      <td>product_y</td>\n",
       "      <td>6.511947e+05</td>\n",
       "      <td>976</td>\n",
       "      <td>667.207677</td>\n",
       "    </tr>\n",
       "  </tbody>\n",
       "</table>\n",
       "</div>"
      ],
      "text/plain": [
       "\n",
       "     product  commission_sum  commission_count  commission_per_unit\n",
       "\u001b[1;36m0\u001b[0m  product_a    \u001b[1;36m1.014396e+06\u001b[0m             \u001b[1;36m82084\u001b[0m            \u001b[1;36m12.358022\u001b[0m\n",
       "\u001b[1;36m1\u001b[0m  product_b    \u001b[1;36m6.470865e+04\u001b[0m              \u001b[1;36m4618\u001b[0m            \u001b[1;36m14.012268\u001b[0m\n",
       "\u001b[1;36m2\u001b[0m  product_c    \u001b[1;36m3.063894e+05\u001b[0m             \u001b[1;36m15921\u001b[0m            \u001b[1;36m19.244357\u001b[0m\n",
       "\u001b[1;36m3\u001b[0m  product_x    \u001b[1;36m7.797592e+04\u001b[0m                \u001b[1;36m79\u001b[0m           \u001b[1;36m987.036930\u001b[0m\n",
       "\u001b[1;36m4\u001b[0m  product_y    \u001b[1;36m6.511947e+05\u001b[0m               \u001b[1;36m976\u001b[0m           \u001b[1;36m667.207677\u001b[0m"
      ]
     },
     "execution_count": 14,
     "metadata": {},
     "output_type": "execute_result"
    }
   ],
   "source": [
    "comission_per_product"
   ]
  },
  {
   "cell_type": "code",
   "execution_count": 15,
   "id": "48657905-c03d-44d8-804b-353482f2fd5d",
   "metadata": {},
   "outputs": [],
   "source": [
    "xs = pd.merge(\n",
    "    xs,\n",
    "    pd.get_dummies(xs[\"product\"]),\n",
    "    left_index=True,\n",
    "    right_index=True,\n",
    ")\n",
    "\n",
    "grouped_xs = xs.groupby(\"user_id\").sum()[[\"commission\", \"product_x\", \"product_y\"]].reset_index()\n",
    "\n",
    "df = pd.merge(\n",
    "    base,\n",
    "    grouped_xs,\n",
    "    on=\"user_id\",\n",
    "    how=\"left\",\n",
    "    suffixes=[\"_base\", \"_xs\"]\n",
    ")\n",
    "\n",
    "datetime_cols = [\"customer_churned_at\", \"customer_started_at\"]\n",
    "for col in datetime_cols:\n",
    "    df.loc[:, col] = pd.to_datetime(df[col], errors=\"coerce\", utc=False)"
   ]
  },
  {
   "cell_type": "code",
   "execution_count": null,
   "id": "7ffa1544-c85c-4fd1-8485-6f773058857e",
   "metadata": {},
   "outputs": [],
   "source": []
  },
  {
   "cell_type": "code",
   "execution_count": 16,
   "id": "cead331f-e6c8-4e5f-a0dd-b56cfda86345",
   "metadata": {},
   "outputs": [],
   "source": [
    "df.loc[:,\"is_churn\"] = ~df[\"customer_churned_at\"].isna()"
   ]
  },
  {
   "cell_type": "code",
   "execution_count": 17,
   "id": "48516d1c-5deb-4836-8163-e1307e7b8507",
   "metadata": {},
   "outputs": [
    {
     "data": {
      "text/html": [
       "<pre style=\"white-space:pre;overflow-x:auto;line-height:normal;font-family:Menlo,'DejaVu Sans Mono',consolas,'Courier New',monospace\"></pre>\n"
      ],
      "text/plain": []
     },
     "metadata": {},
     "output_type": "display_data"
    },
    {
     "data": {
      "text/html": [
       "<div>\n",
       "<style scoped>\n",
       "    .dataframe tbody tr th:only-of-type {\n",
       "        vertical-align: middle;\n",
       "    }\n",
       "\n",
       "    .dataframe tbody tr th {\n",
       "        vertical-align: top;\n",
       "    }\n",
       "\n",
       "    .dataframe thead th {\n",
       "        text-align: right;\n",
       "    }\n",
       "</style>\n",
       "<table border=\"1\" class=\"dataframe\">\n",
       "  <thead>\n",
       "    <tr style=\"text-align: right;\">\n",
       "      <th></th>\n",
       "      <th>is_churn</th>\n",
       "    </tr>\n",
       "    <tr>\n",
       "      <th>product</th>\n",
       "      <th></th>\n",
       "    </tr>\n",
       "  </thead>\n",
       "  <tbody>\n",
       "    <tr>\n",
       "      <th>product_a</th>\n",
       "      <td>0.363749</td>\n",
       "    </tr>\n",
       "    <tr>\n",
       "      <th>product_b</th>\n",
       "      <td>0.295366</td>\n",
       "    </tr>\n",
       "    <tr>\n",
       "      <th>product_c</th>\n",
       "      <td>0.460775</td>\n",
       "    </tr>\n",
       "  </tbody>\n",
       "</table>\n",
       "</div>"
      ],
      "text/plain": [
       "\n",
       "           is_churn\n",
       "product            \n",
       "product_a  \u001b[1;36m0.363749\u001b[0m\n",
       "product_b  \u001b[1;36m0.295366\u001b[0m\n",
       "product_c  \u001b[1;36m0.460775\u001b[0m"
      ]
     },
     "execution_count": 17,
     "metadata": {},
     "output_type": "execute_result"
    }
   ],
   "source": [
    "df.groupby(\"product\").agg({\"is_churn\": \"mean\"})"
   ]
  },
  {
   "cell_type": "code",
   "execution_count": 18,
   "id": "52a18b1c-2d8f-44ec-ae56-83ec42790347",
   "metadata": {},
   "outputs": [
    {
     "data": {
      "text/html": [
       "<pre style=\"white-space:pre;overflow-x:auto;line-height:normal;font-family:Menlo,'DejaVu Sans Mono',consolas,'Courier New',monospace\"></pre>\n"
      ],
      "text/plain": []
     },
     "metadata": {},
     "output_type": "display_data"
    },
    {
     "data": {
      "text/html": [
       "<div>\n",
       "<style scoped>\n",
       "    .dataframe tbody tr th:only-of-type {\n",
       "        vertical-align: middle;\n",
       "    }\n",
       "\n",
       "    .dataframe tbody tr th {\n",
       "        vertical-align: top;\n",
       "    }\n",
       "\n",
       "    .dataframe thead th {\n",
       "        text-align: right;\n",
       "    }\n",
       "</style>\n",
       "<table border=\"1\" class=\"dataframe\">\n",
       "  <thead>\n",
       "    <tr style=\"text-align: right;\">\n",
       "      <th></th>\n",
       "      <th>is_churn</th>\n",
       "    </tr>\n",
       "    <tr>\n",
       "      <th>channel</th>\n",
       "      <th></th>\n",
       "    </tr>\n",
       "  </thead>\n",
       "  <tbody>\n",
       "    <tr>\n",
       "      <th>channel_a</th>\n",
       "      <td>0.405983</td>\n",
       "    </tr>\n",
       "    <tr>\n",
       "      <th>channel_b</th>\n",
       "      <td>0.350590</td>\n",
       "    </tr>\n",
       "  </tbody>\n",
       "</table>\n",
       "</div>"
      ],
      "text/plain": [
       "\n",
       "           is_churn\n",
       "channel            \n",
       "channel_a  \u001b[1;36m0.405983\u001b[0m\n",
       "channel_b  \u001b[1;36m0.350590\u001b[0m"
      ]
     },
     "execution_count": 18,
     "metadata": {},
     "output_type": "execute_result"
    }
   ],
   "source": [
    "df.groupby(\"channel\").agg({\"is_churn\": \"mean\"})"
   ]
  },
  {
   "cell_type": "code",
   "execution_count": 19,
   "id": "7e9e539c-59ae-4bbe-8a16-0e083682d098",
   "metadata": {},
   "outputs": [
    {
     "data": {
      "text/html": [
       "<pre style=\"white-space:pre;overflow-x:auto;line-height:normal;font-family:Menlo,'DejaVu Sans Mono',consolas,'Courier New',monospace\"></pre>\n"
      ],
      "text/plain": []
     },
     "metadata": {},
     "output_type": "display_data"
    },
    {
     "data": {
      "text/html": [
       "<div>\n",
       "<style scoped>\n",
       "    .dataframe tbody tr th:only-of-type {\n",
       "        vertical-align: middle;\n",
       "    }\n",
       "\n",
       "    .dataframe tbody tr th {\n",
       "        vertical-align: top;\n",
       "    }\n",
       "\n",
       "    .dataframe thead th {\n",
       "        text-align: right;\n",
       "    }\n",
       "</style>\n",
       "<table border=\"1\" class=\"dataframe\">\n",
       "  <thead>\n",
       "    <tr style=\"text-align: right;\">\n",
       "      <th></th>\n",
       "      <th>is_churn</th>\n",
       "    </tr>\n",
       "    <tr>\n",
       "      <th>operating_system</th>\n",
       "      <th></th>\n",
       "    </tr>\n",
       "  </thead>\n",
       "  <tbody>\n",
       "    <tr>\n",
       "      <th>Android</th>\n",
       "      <td>0.406115</td>\n",
       "    </tr>\n",
       "    <tr>\n",
       "      <th>iOS</th>\n",
       "      <td>0.316624</td>\n",
       "    </tr>\n",
       "  </tbody>\n",
       "</table>\n",
       "</div>"
      ],
      "text/plain": [
       "\n",
       "                  is_churn\n",
       "operating_system          \n",
       "Android           \u001b[1;36m0.406115\u001b[0m\n",
       "iOS               \u001b[1;36m0.316624\u001b[0m"
      ]
     },
     "execution_count": 19,
     "metadata": {},
     "output_type": "execute_result"
    }
   ],
   "source": [
    "df.groupby(\"operating_system\").agg({\"is_churn\": \"mean\"})"
   ]
  },
  {
   "cell_type": "code",
   "execution_count": 20,
   "id": "1c10cfaa-f934-4112-8deb-c083dd6fd949",
   "metadata": {},
   "outputs": [
    {
     "data": {
      "text/html": [
       "<pre style=\"white-space:pre;overflow-x:auto;line-height:normal;font-family:Menlo,'DejaVu Sans Mono',consolas,'Courier New',monospace\"></pre>\n"
      ],
      "text/plain": []
     },
     "metadata": {},
     "output_type": "display_data"
    },
    {
     "data": {
      "text/html": [
       "<div>\n",
       "<style scoped>\n",
       "    .dataframe tbody tr th:only-of-type {\n",
       "        vertical-align: middle;\n",
       "    }\n",
       "\n",
       "    .dataframe tbody tr th {\n",
       "        vertical-align: top;\n",
       "    }\n",
       "\n",
       "    .dataframe thead th {\n",
       "        text-align: right;\n",
       "    }\n",
       "</style>\n",
       "<table border=\"1\" class=\"dataframe\">\n",
       "  <thead>\n",
       "    <tr style=\"text-align: right;\">\n",
       "      <th></th>\n",
       "      <th>is_churn</th>\n",
       "    </tr>\n",
       "    <tr>\n",
       "      <th>age_bucket</th>\n",
       "      <th></th>\n",
       "    </tr>\n",
       "  </thead>\n",
       "  <tbody>\n",
       "    <tr>\n",
       "      <th>18-24</th>\n",
       "      <td>0.375311</td>\n",
       "    </tr>\n",
       "    <tr>\n",
       "      <th>25-29</th>\n",
       "      <td>0.343820</td>\n",
       "    </tr>\n",
       "    <tr>\n",
       "      <th>30-34</th>\n",
       "      <td>0.368132</td>\n",
       "    </tr>\n",
       "    <tr>\n",
       "      <th>35-39</th>\n",
       "      <td>0.413617</td>\n",
       "    </tr>\n",
       "    <tr>\n",
       "      <th>40-44</th>\n",
       "      <td>0.432981</td>\n",
       "    </tr>\n",
       "    <tr>\n",
       "      <th>45-49</th>\n",
       "      <td>0.410924</td>\n",
       "    </tr>\n",
       "    <tr>\n",
       "      <th>50-54</th>\n",
       "      <td>0.356282</td>\n",
       "    </tr>\n",
       "    <tr>\n",
       "      <th>55+</th>\n",
       "      <td>0.349221</td>\n",
       "    </tr>\n",
       "    <tr>\n",
       "      <th>undefined</th>\n",
       "      <td>0.796296</td>\n",
       "    </tr>\n",
       "  </tbody>\n",
       "</table>\n",
       "</div>"
      ],
      "text/plain": [
       "\n",
       "            is_churn\n",
       "age_bucket          \n",
       "\u001b[1;36m18\u001b[0m-\u001b[1;36m24\u001b[0m       \u001b[1;36m0.375311\u001b[0m\n",
       "\u001b[1;36m25\u001b[0m-\u001b[1;36m29\u001b[0m       \u001b[1;36m0.343820\u001b[0m\n",
       "\u001b[1;36m30\u001b[0m-\u001b[1;36m34\u001b[0m       \u001b[1;36m0.368132\u001b[0m\n",
       "\u001b[1;36m35\u001b[0m-\u001b[1;36m39\u001b[0m       \u001b[1;36m0.413617\u001b[0m\n",
       "\u001b[1;36m40\u001b[0m-\u001b[1;36m44\u001b[0m       \u001b[1;36m0.432981\u001b[0m\n",
       "\u001b[1;36m45\u001b[0m-\u001b[1;36m49\u001b[0m       \u001b[1;36m0.410924\u001b[0m\n",
       "\u001b[1;36m50\u001b[0m-\u001b[1;36m54\u001b[0m       \u001b[1;36m0.356282\u001b[0m\n",
       "\u001b[1;36m55\u001b[0m+         \u001b[1;36m0.349221\u001b[0m\n",
       "undefined   \u001b[1;36m0.796296\u001b[0m"
      ]
     },
     "execution_count": 20,
     "metadata": {},
     "output_type": "execute_result"
    }
   ],
   "source": [
    "df.groupby(\"age_bucket\").agg({\"is_churn\": \"mean\"})"
   ]
  },
  {
   "cell_type": "code",
   "execution_count": 21,
   "id": "d723600f-3223-4b87-92c9-b6f3f5c6df02",
   "metadata": {},
   "outputs": [
    {
     "data": {
      "text/html": [
       "<pre style=\"white-space:pre;overflow-x:auto;line-height:normal;font-family:Menlo,'DejaVu Sans Mono',consolas,'Courier New',monospace\"><span style=\"color: #800000; text-decoration-color: #800000\">╭─────────────────────────────── </span><span style=\"color: #800000; text-decoration-color: #800000; font-weight: bold\">Traceback </span><span style=\"color: #bf7f7f; text-decoration-color: #bf7f7f; font-weight: bold\">(most recent call last)</span><span style=\"color: #800000; text-decoration-color: #800000\"> ────────────────────────────────╮</span>\n",
       "<span style=\"color: #800000; text-decoration-color: #800000\">│</span> in <span style=\"color: #00ff00; text-decoration-color: #00ff00\">&lt;module&gt;</span>:<span style=\"color: #0000ff; text-decoration-color: #0000ff\">1</span>                                                                                    <span style=\"color: #800000; text-decoration-color: #800000\">│</span>\n",
       "<span style=\"color: #800000; text-decoration-color: #800000\">│</span>                                                                                                  <span style=\"color: #800000; text-decoration-color: #800000\">│</span>\n",
       "<span style=\"color: #800000; text-decoration-color: #800000\">│</span> <span style=\"color: #800000; text-decoration-color: #800000\">❱ </span>1 df.groupby(<span style=\"color: #808000; text-decoration-color: #808000\">\"is_xs\"</span>).agg({<span style=\"color: #808000; text-decoration-color: #808000\">\"is_churn\"</span>: <span style=\"color: #808000; text-decoration-color: #808000\">\"mean\"</span>})                                                <span style=\"color: #800000; text-decoration-color: #800000\">│</span>\n",
       "<span style=\"color: #800000; text-decoration-color: #800000\">│</span>   <span style=\"color: #7f7f7f; text-decoration-color: #7f7f7f\">2 </span>                                                                                             <span style=\"color: #800000; text-decoration-color: #800000\">│</span>\n",
       "<span style=\"color: #800000; text-decoration-color: #800000\">│</span>                                                                                                  <span style=\"color: #800000; text-decoration-color: #800000\">│</span>\n",
       "<span style=\"color: #800000; text-decoration-color: #800000\">│</span> <span style=\"color: #bfbf7f; text-decoration-color: #bfbf7f\">/home/ricardormotta/projects/LTV_analysis/venv/lib/python3.10/site-packages/pandas/core/</span><span style=\"color: #808000; text-decoration-color: #808000; font-weight: bold\">frame.py</span> <span style=\"color: #800000; text-decoration-color: #800000\">│</span>\n",
       "<span style=\"color: #800000; text-decoration-color: #800000\">│</span> :<span style=\"color: #0000ff; text-decoration-color: #0000ff\">8869</span> in <span style=\"color: #00ff00; text-decoration-color: #00ff00\">groupby</span>                                                                                 <span style=\"color: #800000; text-decoration-color: #800000\">│</span>\n",
       "<span style=\"color: #800000; text-decoration-color: #800000\">│</span>                                                                                                  <span style=\"color: #800000; text-decoration-color: #800000\">│</span>\n",
       "<span style=\"color: #800000; text-decoration-color: #800000\">│</span>   <span style=\"color: #7f7f7f; text-decoration-color: #7f7f7f\"> 8866 </span><span style=\"color: #7f7f7f; text-decoration-color: #7f7f7f\">│   │   </span><span style=\"color: #0000ff; text-decoration-color: #0000ff\">if</span> level <span style=\"color: #ff00ff; text-decoration-color: #ff00ff\">is</span> <span style=\"color: #0000ff; text-decoration-color: #0000ff\">None</span> <span style=\"color: #ff00ff; text-decoration-color: #ff00ff\">and</span> by <span style=\"color: #ff00ff; text-decoration-color: #ff00ff\">is</span> <span style=\"color: #0000ff; text-decoration-color: #0000ff\">None</span>:                                                 <span style=\"color: #800000; text-decoration-color: #800000\">│</span>\n",
       "<span style=\"color: #800000; text-decoration-color: #800000\">│</span>   <span style=\"color: #7f7f7f; text-decoration-color: #7f7f7f\"> 8867 </span><span style=\"color: #7f7f7f; text-decoration-color: #7f7f7f\">│   │   │   </span><span style=\"color: #0000ff; text-decoration-color: #0000ff\">raise</span> <span style=\"color: #00ffff; text-decoration-color: #00ffff\">TypeError</span>(<span style=\"color: #808000; text-decoration-color: #808000\">\"You have to supply one of 'by' and 'level'\"</span>)                <span style=\"color: #800000; text-decoration-color: #800000\">│</span>\n",
       "<span style=\"color: #800000; text-decoration-color: #800000\">│</span>   <span style=\"color: #7f7f7f; text-decoration-color: #7f7f7f\"> 8868 </span><span style=\"color: #7f7f7f; text-decoration-color: #7f7f7f\">│   │   </span>                                                                                 <span style=\"color: #800000; text-decoration-color: #800000\">│</span>\n",
       "<span style=\"color: #800000; text-decoration-color: #800000\">│</span> <span style=\"color: #800000; text-decoration-color: #800000\">❱ </span> 8869 <span style=\"color: #7f7f7f; text-decoration-color: #7f7f7f\">│   │   </span><span style=\"color: #0000ff; text-decoration-color: #0000ff\">return</span> DataFrameGroupBy(                                                         <span style=\"color: #800000; text-decoration-color: #800000\">│</span>\n",
       "<span style=\"color: #800000; text-decoration-color: #800000\">│</span>   <span style=\"color: #7f7f7f; text-decoration-color: #7f7f7f\"> 8870 </span><span style=\"color: #7f7f7f; text-decoration-color: #7f7f7f\">│   │   │   </span>obj=<span style=\"color: #00ffff; text-decoration-color: #00ffff\">self</span>,                                                                    <span style=\"color: #800000; text-decoration-color: #800000\">│</span>\n",
       "<span style=\"color: #800000; text-decoration-color: #800000\">│</span>   <span style=\"color: #7f7f7f; text-decoration-color: #7f7f7f\"> 8871 </span><span style=\"color: #7f7f7f; text-decoration-color: #7f7f7f\">│   │   │   </span>keys=by,                                                                     <span style=\"color: #800000; text-decoration-color: #800000\">│</span>\n",
       "<span style=\"color: #800000; text-decoration-color: #800000\">│</span>   <span style=\"color: #7f7f7f; text-decoration-color: #7f7f7f\"> 8872 </span><span style=\"color: #7f7f7f; text-decoration-color: #7f7f7f\">│   │   │   </span>axis=axis,                                                                   <span style=\"color: #800000; text-decoration-color: #800000\">│</span>\n",
       "<span style=\"color: #800000; text-decoration-color: #800000\">│</span>                                                                                                  <span style=\"color: #800000; text-decoration-color: #800000\">│</span>\n",
       "<span style=\"color: #800000; text-decoration-color: #800000\">│</span> <span style=\"color: #bfbf7f; text-decoration-color: #bfbf7f\">/home/ricardormotta/projects/LTV_analysis/venv/lib/python3.10/site-packages/pandas/core/groupby/</span> <span style=\"color: #800000; text-decoration-color: #800000\">│</span>\n",
       "<span style=\"color: #800000; text-decoration-color: #800000\">│</span> <span style=\"color: #808000; text-decoration-color: #808000; font-weight: bold\">groupby.py</span>:<span style=\"color: #0000ff; text-decoration-color: #0000ff\">1278</span> in <span style=\"color: #00ff00; text-decoration-color: #00ff00\">__init__</span>                                                                      <span style=\"color: #800000; text-decoration-color: #800000\">│</span>\n",
       "<span style=\"color: #800000; text-decoration-color: #800000\">│</span>                                                                                                  <span style=\"color: #800000; text-decoration-color: #800000\">│</span>\n",
       "<span style=\"color: #800000; text-decoration-color: #800000\">│</span>   <span style=\"color: #7f7f7f; text-decoration-color: #7f7f7f\">1275 </span><span style=\"color: #7f7f7f; text-decoration-color: #7f7f7f\">│   │   </span><span style=\"color: #00ffff; text-decoration-color: #00ffff\">self</span>.dropna = dropna                                                              <span style=\"color: #800000; text-decoration-color: #800000\">│</span>\n",
       "<span style=\"color: #800000; text-decoration-color: #800000\">│</span>   <span style=\"color: #7f7f7f; text-decoration-color: #7f7f7f\">1276 </span><span style=\"color: #7f7f7f; text-decoration-color: #7f7f7f\">│   │   </span>                                                                                  <span style=\"color: #800000; text-decoration-color: #800000\">│</span>\n",
       "<span style=\"color: #800000; text-decoration-color: #800000\">│</span>   <span style=\"color: #7f7f7f; text-decoration-color: #7f7f7f\">1277 </span><span style=\"color: #7f7f7f; text-decoration-color: #7f7f7f\">│   │   </span><span style=\"color: #0000ff; text-decoration-color: #0000ff\">if</span> grouper <span style=\"color: #ff00ff; text-decoration-color: #ff00ff\">is</span> <span style=\"color: #0000ff; text-decoration-color: #0000ff\">None</span>:                                                               <span style=\"color: #800000; text-decoration-color: #800000\">│</span>\n",
       "<span style=\"color: #800000; text-decoration-color: #800000\">│</span> <span style=\"color: #800000; text-decoration-color: #800000\">❱ </span>1278 <span style=\"color: #7f7f7f; text-decoration-color: #7f7f7f\">│   │   │   </span>grouper, exclusions, obj = get_grouper(                                       <span style=\"color: #800000; text-decoration-color: #800000\">│</span>\n",
       "<span style=\"color: #800000; text-decoration-color: #800000\">│</span>   <span style=\"color: #7f7f7f; text-decoration-color: #7f7f7f\">1279 </span><span style=\"color: #7f7f7f; text-decoration-color: #7f7f7f\">│   │   │   │   </span>obj,                                                                      <span style=\"color: #800000; text-decoration-color: #800000\">│</span>\n",
       "<span style=\"color: #800000; text-decoration-color: #800000\">│</span>   <span style=\"color: #7f7f7f; text-decoration-color: #7f7f7f\">1280 </span><span style=\"color: #7f7f7f; text-decoration-color: #7f7f7f\">│   │   │   │   </span>keys,                                                                     <span style=\"color: #800000; text-decoration-color: #800000\">│</span>\n",
       "<span style=\"color: #800000; text-decoration-color: #800000\">│</span>   <span style=\"color: #7f7f7f; text-decoration-color: #7f7f7f\">1281 </span><span style=\"color: #7f7f7f; text-decoration-color: #7f7f7f\">│   │   │   │   </span>axis=axis,                                                                <span style=\"color: #800000; text-decoration-color: #800000\">│</span>\n",
       "<span style=\"color: #800000; text-decoration-color: #800000\">│</span>                                                                                                  <span style=\"color: #800000; text-decoration-color: #800000\">│</span>\n",
       "<span style=\"color: #800000; text-decoration-color: #800000\">│</span> <span style=\"color: #bfbf7f; text-decoration-color: #bfbf7f\">/home/ricardormotta/projects/LTV_analysis/venv/lib/python3.10/site-packages/pandas/core/groupby/</span> <span style=\"color: #800000; text-decoration-color: #800000\">│</span>\n",
       "<span style=\"color: #800000; text-decoration-color: #800000\">│</span> <span style=\"color: #808000; text-decoration-color: #808000; font-weight: bold\">grouper.py</span>:<span style=\"color: #0000ff; text-decoration-color: #0000ff\">1009</span> in <span style=\"color: #00ff00; text-decoration-color: #00ff00\">get_grouper</span>                                                                   <span style=\"color: #800000; text-decoration-color: #800000\">│</span>\n",
       "<span style=\"color: #800000; text-decoration-color: #800000\">│</span>                                                                                                  <span style=\"color: #800000; text-decoration-color: #800000\">│</span>\n",
       "<span style=\"color: #800000; text-decoration-color: #800000\">│</span>   <span style=\"color: #7f7f7f; text-decoration-color: #7f7f7f\">1006 </span><span style=\"color: #7f7f7f; text-decoration-color: #7f7f7f\">│   │   │   </span><span style=\"color: #0000ff; text-decoration-color: #0000ff\">elif</span> obj._is_level_reference(gpr, axis=axis):                                 <span style=\"color: #800000; text-decoration-color: #800000\">│</span>\n",
       "<span style=\"color: #800000; text-decoration-color: #800000\">│</span>   <span style=\"color: #7f7f7f; text-decoration-color: #7f7f7f\">1007 </span><span style=\"color: #7f7f7f; text-decoration-color: #7f7f7f\">│   │   │   │   </span>in_axis, level, gpr = <span style=\"color: #0000ff; text-decoration-color: #0000ff\">False</span>, gpr, <span style=\"color: #0000ff; text-decoration-color: #0000ff\">None</span>                                    <span style=\"color: #800000; text-decoration-color: #800000\">│</span>\n",
       "<span style=\"color: #800000; text-decoration-color: #800000\">│</span>   <span style=\"color: #7f7f7f; text-decoration-color: #7f7f7f\">1008 </span><span style=\"color: #7f7f7f; text-decoration-color: #7f7f7f\">│   │   │   </span><span style=\"color: #0000ff; text-decoration-color: #0000ff\">else</span>:                                                                         <span style=\"color: #800000; text-decoration-color: #800000\">│</span>\n",
       "<span style=\"color: #800000; text-decoration-color: #800000\">│</span> <span style=\"color: #800000; text-decoration-color: #800000\">❱ </span>1009 <span style=\"color: #7f7f7f; text-decoration-color: #7f7f7f\">│   │   │   │   </span><span style=\"color: #0000ff; text-decoration-color: #0000ff\">raise</span> <span style=\"color: #00ffff; text-decoration-color: #00ffff\">KeyError</span>(gpr)                                                       <span style=\"color: #800000; text-decoration-color: #800000\">│</span>\n",
       "<span style=\"color: #800000; text-decoration-color: #800000\">│</span>   <span style=\"color: #7f7f7f; text-decoration-color: #7f7f7f\">1010 </span><span style=\"color: #7f7f7f; text-decoration-color: #7f7f7f\">│   │   </span><span style=\"color: #0000ff; text-decoration-color: #0000ff\">elif</span> <span style=\"color: #00ffff; text-decoration-color: #00ffff\">isinstance</span>(gpr, Grouper) <span style=\"color: #ff00ff; text-decoration-color: #ff00ff\">and</span> gpr.key <span style=\"color: #ff00ff; text-decoration-color: #ff00ff\">is</span> <span style=\"color: #ff00ff; text-decoration-color: #ff00ff\">not</span> <span style=\"color: #0000ff; text-decoration-color: #0000ff\">None</span>:                            <span style=\"color: #800000; text-decoration-color: #800000\">│</span>\n",
       "<span style=\"color: #800000; text-decoration-color: #800000\">│</span>   <span style=\"color: #7f7f7f; text-decoration-color: #7f7f7f\">1011 </span><span style=\"color: #7f7f7f; text-decoration-color: #7f7f7f\">│   │   │   </span><span style=\"color: #7f7f7f; text-decoration-color: #7f7f7f\"># Add key to exclusions</span>                                                       <span style=\"color: #800000; text-decoration-color: #800000\">│</span>\n",
       "<span style=\"color: #800000; text-decoration-color: #800000\">│</span>   <span style=\"color: #7f7f7f; text-decoration-color: #7f7f7f\">1012 </span><span style=\"color: #7f7f7f; text-decoration-color: #7f7f7f\">│   │   │   </span>exclusions.add(gpr.key)                                                       <span style=\"color: #800000; text-decoration-color: #800000\">│</span>\n",
       "<span style=\"color: #800000; text-decoration-color: #800000\">╰──────────────────────────────────────────────────────────────────────────────────────────────────╯</span>\n",
       "<span style=\"color: #ff0000; text-decoration-color: #ff0000; font-weight: bold\">KeyError: </span><span style=\"color: #008000; text-decoration-color: #008000\">'is_xs'</span>\n",
       "</pre>\n"
      ],
      "text/plain": [
       "\u001b[31m╭─\u001b[0m\u001b[31m──────────────────────────────\u001b[0m\u001b[31m \u001b[0m\u001b[1;31mTraceback \u001b[0m\u001b[1;2;31m(most recent call last)\u001b[0m\u001b[31m \u001b[0m\u001b[31m───────────────────────────────\u001b[0m\u001b[31m─╮\u001b[0m\n",
       "\u001b[31m│\u001b[0m in \u001b[92m<module>\u001b[0m:\u001b[94m1\u001b[0m                                                                                    \u001b[31m│\u001b[0m\n",
       "\u001b[31m│\u001b[0m                                                                                                  \u001b[31m│\u001b[0m\n",
       "\u001b[31m│\u001b[0m \u001b[31m❱ \u001b[0m1 df.groupby(\u001b[33m\"\u001b[0m\u001b[33mis_xs\u001b[0m\u001b[33m\"\u001b[0m).agg({\u001b[33m\"\u001b[0m\u001b[33mis_churn\u001b[0m\u001b[33m\"\u001b[0m: \u001b[33m\"\u001b[0m\u001b[33mmean\u001b[0m\u001b[33m\"\u001b[0m})                                                \u001b[31m│\u001b[0m\n",
       "\u001b[31m│\u001b[0m   \u001b[2m2 \u001b[0m                                                                                             \u001b[31m│\u001b[0m\n",
       "\u001b[31m│\u001b[0m                                                                                                  \u001b[31m│\u001b[0m\n",
       "\u001b[31m│\u001b[0m \u001b[2;33m/home/ricardormotta/projects/LTV_analysis/venv/lib/python3.10/site-packages/pandas/core/\u001b[0m\u001b[1;33mframe.py\u001b[0m \u001b[31m│\u001b[0m\n",
       "\u001b[31m│\u001b[0m :\u001b[94m8869\u001b[0m in \u001b[92mgroupby\u001b[0m                                                                                 \u001b[31m│\u001b[0m\n",
       "\u001b[31m│\u001b[0m                                                                                                  \u001b[31m│\u001b[0m\n",
       "\u001b[31m│\u001b[0m   \u001b[2m 8866 \u001b[0m\u001b[2m│   │   \u001b[0m\u001b[94mif\u001b[0m level \u001b[95mis\u001b[0m \u001b[94mNone\u001b[0m \u001b[95mand\u001b[0m by \u001b[95mis\u001b[0m \u001b[94mNone\u001b[0m:                                                 \u001b[31m│\u001b[0m\n",
       "\u001b[31m│\u001b[0m   \u001b[2m 8867 \u001b[0m\u001b[2m│   │   │   \u001b[0m\u001b[94mraise\u001b[0m \u001b[96mTypeError\u001b[0m(\u001b[33m\"\u001b[0m\u001b[33mYou have to supply one of \u001b[0m\u001b[33m'\u001b[0m\u001b[33mby\u001b[0m\u001b[33m'\u001b[0m\u001b[33m and \u001b[0m\u001b[33m'\u001b[0m\u001b[33mlevel\u001b[0m\u001b[33m'\u001b[0m\u001b[33m\"\u001b[0m)                \u001b[31m│\u001b[0m\n",
       "\u001b[31m│\u001b[0m   \u001b[2m 8868 \u001b[0m\u001b[2m│   │   \u001b[0m                                                                                 \u001b[31m│\u001b[0m\n",
       "\u001b[31m│\u001b[0m \u001b[31m❱ \u001b[0m 8869 \u001b[2m│   │   \u001b[0m\u001b[94mreturn\u001b[0m DataFrameGroupBy(                                                         \u001b[31m│\u001b[0m\n",
       "\u001b[31m│\u001b[0m   \u001b[2m 8870 \u001b[0m\u001b[2m│   │   │   \u001b[0mobj=\u001b[96mself\u001b[0m,                                                                    \u001b[31m│\u001b[0m\n",
       "\u001b[31m│\u001b[0m   \u001b[2m 8871 \u001b[0m\u001b[2m│   │   │   \u001b[0mkeys=by,                                                                     \u001b[31m│\u001b[0m\n",
       "\u001b[31m│\u001b[0m   \u001b[2m 8872 \u001b[0m\u001b[2m│   │   │   \u001b[0maxis=axis,                                                                   \u001b[31m│\u001b[0m\n",
       "\u001b[31m│\u001b[0m                                                                                                  \u001b[31m│\u001b[0m\n",
       "\u001b[31m│\u001b[0m \u001b[2;33m/home/ricardormotta/projects/LTV_analysis/venv/lib/python3.10/site-packages/pandas/core/groupby/\u001b[0m \u001b[31m│\u001b[0m\n",
       "\u001b[31m│\u001b[0m \u001b[1;33mgroupby.py\u001b[0m:\u001b[94m1278\u001b[0m in \u001b[92m__init__\u001b[0m                                                                      \u001b[31m│\u001b[0m\n",
       "\u001b[31m│\u001b[0m                                                                                                  \u001b[31m│\u001b[0m\n",
       "\u001b[31m│\u001b[0m   \u001b[2m1275 \u001b[0m\u001b[2m│   │   \u001b[0m\u001b[96mself\u001b[0m.dropna = dropna                                                              \u001b[31m│\u001b[0m\n",
       "\u001b[31m│\u001b[0m   \u001b[2m1276 \u001b[0m\u001b[2m│   │   \u001b[0m                                                                                  \u001b[31m│\u001b[0m\n",
       "\u001b[31m│\u001b[0m   \u001b[2m1277 \u001b[0m\u001b[2m│   │   \u001b[0m\u001b[94mif\u001b[0m grouper \u001b[95mis\u001b[0m \u001b[94mNone\u001b[0m:                                                               \u001b[31m│\u001b[0m\n",
       "\u001b[31m│\u001b[0m \u001b[31m❱ \u001b[0m1278 \u001b[2m│   │   │   \u001b[0mgrouper, exclusions, obj = get_grouper(                                       \u001b[31m│\u001b[0m\n",
       "\u001b[31m│\u001b[0m   \u001b[2m1279 \u001b[0m\u001b[2m│   │   │   │   \u001b[0mobj,                                                                      \u001b[31m│\u001b[0m\n",
       "\u001b[31m│\u001b[0m   \u001b[2m1280 \u001b[0m\u001b[2m│   │   │   │   \u001b[0mkeys,                                                                     \u001b[31m│\u001b[0m\n",
       "\u001b[31m│\u001b[0m   \u001b[2m1281 \u001b[0m\u001b[2m│   │   │   │   \u001b[0maxis=axis,                                                                \u001b[31m│\u001b[0m\n",
       "\u001b[31m│\u001b[0m                                                                                                  \u001b[31m│\u001b[0m\n",
       "\u001b[31m│\u001b[0m \u001b[2;33m/home/ricardormotta/projects/LTV_analysis/venv/lib/python3.10/site-packages/pandas/core/groupby/\u001b[0m \u001b[31m│\u001b[0m\n",
       "\u001b[31m│\u001b[0m \u001b[1;33mgrouper.py\u001b[0m:\u001b[94m1009\u001b[0m in \u001b[92mget_grouper\u001b[0m                                                                   \u001b[31m│\u001b[0m\n",
       "\u001b[31m│\u001b[0m                                                                                                  \u001b[31m│\u001b[0m\n",
       "\u001b[31m│\u001b[0m   \u001b[2m1006 \u001b[0m\u001b[2m│   │   │   \u001b[0m\u001b[94melif\u001b[0m obj._is_level_reference(gpr, axis=axis):                                 \u001b[31m│\u001b[0m\n",
       "\u001b[31m│\u001b[0m   \u001b[2m1007 \u001b[0m\u001b[2m│   │   │   │   \u001b[0min_axis, level, gpr = \u001b[94mFalse\u001b[0m, gpr, \u001b[94mNone\u001b[0m                                    \u001b[31m│\u001b[0m\n",
       "\u001b[31m│\u001b[0m   \u001b[2m1008 \u001b[0m\u001b[2m│   │   │   \u001b[0m\u001b[94melse\u001b[0m:                                                                         \u001b[31m│\u001b[0m\n",
       "\u001b[31m│\u001b[0m \u001b[31m❱ \u001b[0m1009 \u001b[2m│   │   │   │   \u001b[0m\u001b[94mraise\u001b[0m \u001b[96mKeyError\u001b[0m(gpr)                                                       \u001b[31m│\u001b[0m\n",
       "\u001b[31m│\u001b[0m   \u001b[2m1010 \u001b[0m\u001b[2m│   │   \u001b[0m\u001b[94melif\u001b[0m \u001b[96misinstance\u001b[0m(gpr, Grouper) \u001b[95mand\u001b[0m gpr.key \u001b[95mis\u001b[0m \u001b[95mnot\u001b[0m \u001b[94mNone\u001b[0m:                            \u001b[31m│\u001b[0m\n",
       "\u001b[31m│\u001b[0m   \u001b[2m1011 \u001b[0m\u001b[2m│   │   │   \u001b[0m\u001b[2m# Add key to exclusions\u001b[0m                                                       \u001b[31m│\u001b[0m\n",
       "\u001b[31m│\u001b[0m   \u001b[2m1012 \u001b[0m\u001b[2m│   │   │   \u001b[0mexclusions.add(gpr.key)                                                       \u001b[31m│\u001b[0m\n",
       "\u001b[31m╰──────────────────────────────────────────────────────────────────────────────────────────────────╯\u001b[0m\n",
       "\u001b[1;91mKeyError: \u001b[0m\u001b[32m'is_xs'\u001b[0m\n"
      ]
     },
     "metadata": {},
     "output_type": "display_data"
    }
   ],
   "source": [
    "df.groupby(\"is_xs\").agg({\"is_churn\": \"mean\"})"
   ]
  },
  {
   "cell_type": "code",
   "execution_count": null,
   "id": "2da27891-6f6d-4429-b523-c46839c2fa17",
   "metadata": {},
   "outputs": [],
   "source": [
    "df"
   ]
  },
  {
   "cell_type": "code",
   "execution_count": null,
   "id": "fff2e4ee-5234-4e91-982a-3563c2c4c983",
   "metadata": {},
   "outputs": [],
   "source": [
    "df.loc[:, \"customer_started_at\"] = pd.to_datetime(df[\"customer_started_at\"])"
   ]
  },
  {
   "cell_type": "code",
   "execution_count": null,
   "id": "1974f7d0-b587-4f16-b81a-d75550f04566",
   "metadata": {},
   "outputs": [],
   "source": [
    "df = df.set_index(\"customer_started_at\")"
   ]
  },
  {
   "cell_type": "code",
   "execution_count": null,
   "id": "9df2df08-2a88-4db5-b329-162e7a8e71cc",
   "metadata": {},
   "outputs": [],
   "source": [
    "plot_users = df.groupby(pd.Grouper(freq=\"M\")).agg(\n",
    "    {\n",
    "        \"user_id\" : \"count\",\n",
    "        \"is_xs\": \"sum\",\n",
    "    }\n",
    ")"
   ]
  },
  {
   "cell_type": "code",
   "execution_count": null,
   "id": "331afe54-2a64-4458-ae5c-a57820ccf795",
   "metadata": {},
   "outputs": [],
   "source": [
    "sns.set_style(\"whitegrid\")\n",
    "fig,axs = plt.subplots(figsize = (10,6))\n",
    "sns.lineplot(plot_users[\"user_id\"])\n",
    "plt.show()"
   ]
  },
  {
   "cell_type": "code",
   "execution_count": null,
   "id": "a6bb7071-17e7-4920-b52e-d4057cc5ba86",
   "metadata": {},
   "outputs": [],
   "source": [
    "plot_users"
   ]
  },
  {
   "cell_type": "code",
   "execution_count": null,
   "id": "1de1f751-34cd-4793-b6df-8b2d3c6904fe",
   "metadata": {},
   "outputs": [],
   "source": [
    "fig,axs = plt.subplots(figsize = (10,6))\n",
    "sns.lineplot(plot_users[\"is_xs\"])\n",
    "plt.show()"
   ]
  },
  {
   "cell_type": "code",
   "execution_count": null,
   "id": "930c7a25-cc15-40d5-862b-82ea2c1c526c",
   "metadata": {},
   "outputs": [],
   "source": [
    "df = df.reset_index()"
   ]
  },
  {
   "cell_type": "code",
   "execution_count": null,
   "id": "5c624bee-1fb1-45ae-bda9-fd87ef55db01",
   "metadata": {},
   "outputs": [],
   "source": [
    "df"
   ]
  },
  {
   "cell_type": "code",
   "execution_count": null,
   "id": "19eaf3b1-723d-4c71-9c05-442503e9c120",
   "metadata": {},
   "outputs": [],
   "source": [
    "df[\"customer_started_at\"]"
   ]
  },
  {
   "cell_type": "code",
   "execution_count": null,
   "id": "9f280152-c518-4c45-afbc-ac011cfd6038",
   "metadata": {},
   "outputs": [],
   "source": [
    "df"
   ]
  },
  {
   "cell_type": "code",
   "execution_count": null,
   "id": "ee9ce7fc-09c7-4e8b-a380-d3641bedfeea",
   "metadata": {},
   "outputs": [],
   "source": [
    "df.loc[df[\"is_churn\"], \"days_to_churn\"] = pd.to_datetime(df.loc[df[\"is_churn\"],\"customer_churned_at\"]).subtract(df.loc[df[\"is_churn\"] ,\"customer_started_at\"]).dt.days"
   ]
  },
  {
   "cell_type": "code",
   "execution_count": null,
   "id": "7ffa2c43-da11-4139-9f51-b4450ca60b41",
   "metadata": {},
   "outputs": [],
   "source": [
    "sns.histplot(df.loc[df[\"is_churn\"], \"days_to_churn\"])"
   ]
  },
  {
   "cell_type": "code",
   "execution_count": null,
   "id": "eab6761c-df5f-4248-a6b9-cca3d533b70e",
   "metadata": {},
   "outputs": [],
   "source": [
    "users_churn_negative = df.loc[df.loc[:, \"days_to_churn\"] <0][\"user_id\"].to_list()"
   ]
  },
  {
   "cell_type": "code",
   "execution_count": null,
   "id": "8d8ae38d-eaf1-4bf7-8d94-6026fb6545ef",
   "metadata": {},
   "outputs": [],
   "source": [
    "base.loc[base[\"user_id\"].isin(users_churn_negative)]"
   ]
  },
  {
   "cell_type": "code",
   "execution_count": null,
   "id": "addc388c-f99f-4ad0-8bf7-de52519d1bb9",
   "metadata": {},
   "outputs": [],
   "source": [
    "actual_date = max(df[\"customer_churned_at\"].dropna().max(), df[\"customer_started_at\"].dropna().max())\n",
    "df.loc[df[\"days_to_churn\"]<0, \"days_to_churn\"] = 0\n",
    "df.loc[~df[\"is_churn\"], \"days_to_churn\"] = (actual_date - df.loc[~df[\"is_churn\"], \"customer_started_at\"]).dt.days"
   ]
  },
  {
   "cell_type": "code",
   "execution_count": null,
   "id": "cc785691-d655-4ce5-bea1-0e40d901ff89",
   "metadata": {},
   "outputs": [],
   "source": [
    "from lifelines import KaplanMeierFitter\n",
    "kmf = KaplanMeierFitter()\n",
    "T = df.loc[:, \"days_to_churn\"]\n",
    "E = df.loc[:, \"is_churn\"]\n",
    "kmf.fit(T, event_observed=E)"
   ]
  },
  {
   "cell_type": "code",
   "execution_count": null,
   "id": "7bf351fa-510a-4bd6-9c87-2aaa1406622c",
   "metadata": {},
   "outputs": [],
   "source": [
    "kmf.survival_function_\n",
    "kmf.cumulative_density_\n",
    "fig, axs = plt.subplots(1,2, figsize=(15,6))\n",
    "kmf.plot_survival_function(ax=axs[0], label=\"General\")\n",
    "kmf.plot_cumulative_density(ax = axs[1], label=\"General\")"
   ]
  },
  {
   "cell_type": "code",
   "execution_count": null,
   "id": "1b9bae7f-2b39-4289-8fd5-4373b6f55994",
   "metadata": {},
   "outputs": [],
   "source": [
    "group_cols = [\"product\", \"channel\", \"age_bucket\", \"operating_system\"]\n",
    "sns.set_style(\"whitegrid\")\n",
    "for group_col in group_cols:\n",
    "    fig, axs = plt.subplots(1,2, figsize=(15,6))\n",
    "    for group in df[group_col].unique():\n",
    "        groups = df[group_col]\n",
    "        ix = (groups == group)\n",
    "        kmf.fit(T[~ix], E[~ix], label=group)\n",
    "        kmf.plot_survival_function(ax=axs[0])\n",
    "        kmf.plot_cumulative_density(ax = axs[1])\n",
    "    plt.show()"
   ]
  },
  {
   "cell_type": "code",
   "execution_count": null,
   "id": "6d2933c8-6381-41ee-b061-622fd7a4c5c4",
   "metadata": {},
   "outputs": [],
   "source": [
    "inf_lim, sup_lim = 0,40\n",
    "col_to_plot = \"commission_base\"\n",
    "dataplot = df.loc[(df[col_to_plot]<=sup_lim) & (df[col_to_plot]>=inf_lim)]\n",
    "sns.kdeplot(data = dataplot, x= col_to_plot, hue=dataplot[\"is_churn\"].astype(int))"
   ]
  },
  {
   "cell_type": "code",
   "execution_count": null,
   "id": "229da9b4-67c0-4fc7-b938-e6b4606817d4",
   "metadata": {},
   "outputs": [],
   "source": [
    "num_cols = [\"days_to_churn\"]\n",
    "cat_cols = [\n",
    "    \"product\",\n",
    "    \"channel\",\n",
    "    \"age_bucket\",\n",
    "    \"operating_system\",\n",
    "]\n",
    "ohe_cols = [\"product_x\", \"product_y\"]\n",
    "\n",
    "target = \"is_churn\"\n",
    "features = [*cat_cols, *num_cols, *ohe_cols]\n",
    "\n",
    "X = df[features]\n",
    "y = df[\"is_churn\"]\n",
    "data = pd.concat([X, y], axis=1)\n",
    "data = pd.get_dummies(data, columns= cat_cols, drop_first=False)"
   ]
  },
  {
   "cell_type": "code",
   "execution_count": null,
   "id": "252495f7-69c3-4068-abf8-b0a3c135641a",
   "metadata": {},
   "outputs": [],
   "source": [
    "cph = lifelines.CoxPHFitter(penalizer=0.0001)\n",
    "cph.fit(data, duration_col = 'days_to_churn', event_col = 'is_churn')"
   ]
  },
  {
   "cell_type": "code",
   "execution_count": null,
   "id": "8e002b6a-449d-4318-88e1-83ae5bcb0cbe",
   "metadata": {},
   "outputs": [],
   "source": [
    "cph.print_summary(model = 'base model', decimals = 3, columns = ['coef', 'exp(coef)', 'p']) "
   ]
  },
  {
   "cell_type": "code",
   "execution_count": null,
   "id": "8a55b830-a466-4d39-a705-bb0f7f6070fe",
   "metadata": {},
   "outputs": [],
   "source": [
    "# cph.check_assumptions(data, p_value_threshold=0.001, show_plots=True)"
   ]
  },
  {
   "cell_type": "code",
   "execution_count": null,
   "id": "ba710f01-a39d-4c39-bea8-698f90c9e3e4",
   "metadata": {},
   "outputs": [],
   "source": [
    "avg_score = np.mean(\n",
    "    lifelines.utils.k_fold_cross_validation(\n",
    "        cph, data, 'days_to_churn', 'is_churn', k = 5, scoring_method = 'concordance_index'))"
   ]
  },
  {
   "cell_type": "code",
   "execution_count": null,
   "id": "7027a049-dd60-4d08-9198-c7215f9c89c9",
   "metadata": {},
   "outputs": [],
   "source": [
    "print('The average Concordance Score across 10 folds is: {:.3f}'.format(avg_score))"
   ]
  },
  {
   "cell_type": "code",
   "execution_count": null,
   "id": "866e8dfd-f88b-4dce-aa69-82b1c5edb23e",
   "metadata": {},
   "outputs": [],
   "source": [
    "censored_data = data.loc[~data[\"is_churn\"]]\n",
    "censored_data_last_obs = censored_data[\"days_to_churn\"]\n",
    "\n",
    "conditioned_sf = cph.predict_survival_function(censored_data, conditional_after = censored_data_last_obs)"
   ]
  },
  {
   "cell_type": "code",
   "execution_count": null,
   "id": "f5db6400-87b7-4ea8-8236-211cd6350dad",
   "metadata": {},
   "outputs": [],
   "source": [
    "cph.predict_survival_function(censored_data.iloc[0])>=0.7"
   ]
  },
  {
   "cell_type": "code",
   "execution_count": null,
   "id": "ff891fb6-ddf5-4b59-8052-cbda57582ead",
   "metadata": {},
   "outputs": [],
   "source": []
  },
  {
   "cell_type": "code",
   "execution_count": null,
   "id": "358f15b0-582f-4600-b6d7-2457c74fd11e",
   "metadata": {},
   "outputs": [],
   "source": [
    "conditioned_sf.T.iloc[:,-1]"
   ]
  },
  {
   "cell_type": "code",
   "execution_count": null,
   "id": "68abb24e-8c77-431e-945d-cb4461f7a2cd",
   "metadata": {},
   "outputs": [],
   "source": [
    "conditioned_sf.T.iloc[:,-1].describe()"
   ]
  },
  {
   "cell_type": "code",
   "execution_count": null,
   "id": "cc3b1418-cfb8-4e17-95a4-7856842b6f50",
   "metadata": {},
   "outputs": [],
   "source": [
    "predictions_median = lifelines.utils.median_survival_times(conditioned_sf).T\n",
    "predictions_median = predictions_median.rename(columns={0.5:\"expected_survival\"})\n",
    "\n",
    "data = pd.merge(\n",
    "    data,\n",
    "    predictions_median,\n",
    "    left_index=True,\n",
    "    right_index=True,\n",
    "    how=\"left\",\n",
    ")\n",
    "\n",
    "data.loc[:,\"expected_survival\"] = data.loc[:,\"expected_survival\"].replace({np.inf: np.NaN, -np.inf:np.NaN})\n",
    "\n",
    "df = pd.merge(\n",
    "    df,\n",
    "    data[[\"expected_survival\"]],\n",
    "    left_index=True,\n",
    "    right_index=True,\n",
    "    how=\"left\"\n",
    ")"
   ]
  },
  {
   "cell_type": "code",
   "execution_count": null,
   "id": "9b751f79-fa72-4516-9a8a-39a7befc4669",
   "metadata": {},
   "outputs": [],
   "source": [
    "df.sort_values(by=\"expected_survival\")"
   ]
  },
  {
   "cell_type": "code",
   "execution_count": null,
   "id": "9bb302ff-82d0-43a0-91aa-c79e9438631e",
   "metadata": {},
   "outputs": [],
   "source": [
    "sns.histplot(df.loc[df[\"is_churn\"], \"days_to_churn\"])"
   ]
  },
  {
   "cell_type": "code",
   "execution_count": null,
   "id": "362a2c16-331c-46cb-9c3d-c06e21ee6f57",
   "metadata": {},
   "outputs": [],
   "source": [
    "sns.histplot(df[\"expected_survival\"])"
   ]
  },
  {
   "cell_type": "code",
   "execution_count": null,
   "id": "6d826593-63f4-450b-8c70-b105129a62f7",
   "metadata": {},
   "outputs": [],
   "source": [
    "from sklearn.model_selection import train_test_split\n",
    "X_train, X_test, y_train, y_test = train_test_split(X, y, test_size=0.2, random_state=42)\n",
    "\n",
    "from sklearn.ensemble import RandomForestClassifier\n",
    "\n",
    "CT = ColumnTransformer([\n",
    "    ('categorical', OneHotEncoder(handle_unknown=\"ignore\"), cat_cols),\n",
    "    (\"numerical\", StandardScaler(), num_cols)\n",
    "])"
   ]
  },
  {
   "cell_type": "code",
   "execution_count": null,
   "id": "62c21231-49a2-4f0c-befd-2687fb128b2d",
   "metadata": {},
   "outputs": [],
   "source": [
    "# calculate the fpr and tpr for all thresholds of the classification\n",
    "def plot_ROC(_pipe, X_test, y_test):\n",
    "    probs = _pipe.predict_proba(X_test)\n",
    "    preds = probs[:,1]\n",
    "    fpr, tpr, threshold = metrics.roc_curve(y_test, preds)\n",
    "    roc_auc = metrics.auc(fpr, tpr)\n",
    "    \n",
    "    # method I: plt\n",
    "    plt.title(f'Receiver Operating Characteristic: {type(pipe[\"model\"]).__name__}')\n",
    "    plt.plot(fpr, tpr, 'b', label = 'AUC = %0.6f' % roc_auc)\n",
    "    plt.legend(loc = 'lower right')\n",
    "    plt.plot([0, 1], [0, 1],'r--')\n",
    "    plt.xlim([0, 1])\n",
    "    plt.ylim([0, 1])\n",
    "    plt.ylabel('True Positive Rate')\n",
    "    plt.xlabel('False Positive Rate')\n",
    "    plt.show()\n",
    "    "
   ]
  },
  {
   "cell_type": "code",
   "execution_count": null,
   "id": "d1d7c55e-273a-4038-9978-86d55cdced78",
   "metadata": {},
   "outputs": [],
   "source": [
    "models = [\n",
    "    RandomForestClassifier(),\n",
    "    XGBClassifier(n_estimators=1000),\n",
    "    GradientBoostingClassifier()\n",
    "]\n",
    "for model in models:\n",
    "    pipe = Pipeline([\n",
    "        (\"CT\", CT),\n",
    "        (\"model\", model)\n",
    "    ])\n",
    "    \n",
    "    pipe.fit(X_train, y_train)\n",
    "    plot_ROC(pipe, X_test, y_test)\n",
    "    plot_confusion_matrix(pipe, X_test, y_test)"
   ]
  },
  {
   "cell_type": "code",
   "execution_count": null,
   "id": "440dc2fa-3161-45b1-8c9d-080931132520",
   "metadata": {},
   "outputs": [],
   "source": [
    "from xgboost import XGBClassifier\n",
    "from sklearn.svm import SVC\n",
    "from sklearn.ensemble import GradientBoostingClassifier"
   ]
  },
  {
   "cell_type": "code",
   "execution_count": null,
   "id": "42b58262-d7cd-4444-8a8b-d6bb40f569b1",
   "metadata": {},
   "outputs": [],
   "source": [
    "from sklearn.model_selection import GridSearchCV\n",
    "from sklearn.metrics import confusion_matrix"
   ]
  },
  {
   "cell_type": "code",
   "execution_count": null,
   "id": "491b3e23-1f43-4e37-a2fa-11c59b01cc4d",
   "metadata": {},
   "outputs": [],
   "source": [
    "def plot_confusion_matrix(_pipe, _X, y_true):\n",
    "    # Predict labels using the provided model\n",
    "    y_pred = _pipe.predict(_X)\n",
    "    \n",
    "    # Generate confusion matrix\n",
    "    cm = confusion_matrix(y_true, y_pred)\n",
    "    \n",
    "    # Plotting the confusion matrix using seaborn heatmap\n",
    "    plt.figure(figsize=(8, 6))\n",
    "    sns.heatmap(cm, annot=True, fmt='d', cmap='Blues', \n",
    "                xticklabels=model.classes_, yticklabels=model.classes_)\n",
    "    plt.xlabel('Predicted labels')\n",
    "    plt.ylabel('True labels')\n",
    "    plt.title('Confusion Matrix')\n",
    "    plt.show()"
   ]
  },
  {
   "cell_type": "code",
   "execution_count": null,
   "id": "30a6995d-dd96-49b0-9cfc-8112359fcea3",
   "metadata": {},
   "outputs": [],
   "source": [
    "xgb = XGBClassifier()\n",
    "parameters = {\n",
    "    \"n_estimators\": [400, 500, 600],\n",
    "    \"max_depth\": [4, 5, 6]\n",
    "}\n",
    "clf = GridSearchCV(xgb, parameters, n_jobs=-1, verbose=3)\n",
    "pipe = Pipeline([\n",
    "    (\"CT\", CT),\n",
    "    (\"model\", clf)\n",
    "])\n",
    "pipe.fit(X_train, y_train)\n",
    "plot_ROC(pipe, X_test, y_test)\n",
    "plot_confusion_matrix(pipe, X_test, y_test)"
   ]
  },
  {
   "cell_type": "code",
   "execution_count": null,
   "id": "d25302a8-eb90-4390-b54e-de2e796f4671",
   "metadata": {},
   "outputs": [],
   "source": [
    "pipe[\"model\"].best_params_"
   ]
  },
  {
   "cell_type": "code",
   "execution_count": null,
   "id": "72dd9a95-b72d-4f3e-858e-aa1728591382",
   "metadata": {},
   "outputs": [],
   "source": []
  },
  {
   "cell_type": "code",
   "execution_count": null,
   "id": "3c9a8e43-caeb-4f94-97e7-45e78874a091",
   "metadata": {},
   "outputs": [],
   "source": []
  },
  {
   "cell_type": "code",
   "execution_count": null,
   "id": "85f784f7-6f06-4e9e-abad-c346b8daf449",
   "metadata": {},
   "outputs": [],
   "source": []
  }
 ],
 "metadata": {
  "kernelspec": {
   "display_name": "Kedro (ltv_ml_project)",
   "language": "python",
   "name": "kedro_ltv_ml_project"
  },
  "language_info": {
   "codemirror_mode": {
    "name": "ipython",
    "version": 3
   },
   "file_extension": ".py",
   "mimetype": "text/x-python",
   "name": "python",
   "nbconvert_exporter": "python",
   "pygments_lexer": "ipython3",
   "version": "3.10.12"
  }
 },
 "nbformat": 4,
 "nbformat_minor": 5
}
