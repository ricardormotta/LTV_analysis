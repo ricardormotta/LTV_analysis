{
 "cells": [
  {
   "cell_type": "code",
   "execution_count": 1,
   "id": "859757fe-f61b-4de2-aeb8-0ff1196104db",
   "metadata": {},
   "outputs": [],
   "source": [
    "import pandas as pd\n",
    "import numpy as np"
   ]
  },
  {
   "cell_type": "code",
   "execution_count": 2,
   "id": "f2394aa4-4e35-4191-af99-41e25da578cb",
   "metadata": {},
   "outputs": [
    {
     "data": {
      "text/html": [
       "<pre style=\"white-space:pre;overflow-x:auto;line-height:normal;font-family:Menlo,'DejaVu Sans Mono',consolas,'Courier New',monospace\"><span style=\"color: #7fbfbf; text-decoration-color: #7fbfbf\">[11/26/23 13:27:12] </span><span style=\"color: #000080; text-decoration-color: #000080\">INFO    </span> Loading data from <span style=\"color: #008000; text-decoration-color: #008000\">'X_train'</span> <span style=\"font-weight: bold\">(</span>CSVDataSet<span style=\"font-weight: bold\">)</span><span style=\"color: #808000; text-decoration-color: #808000\">...</span>                        <a href=\"file:///home/ricardormotta/projects/LTV_analysis/venv/lib/python3.10/site-packages/kedro/io/data_catalog.py\" target=\"_blank\"><span style=\"color: #7f7f7f; text-decoration-color: #7f7f7f\">data_catalog.py</span></a><span style=\"color: #7f7f7f; text-decoration-color: #7f7f7f\">:</span><a href=\"file:///home/ricardormotta/projects/LTV_analysis/venv/lib/python3.10/site-packages/kedro/io/data_catalog.py#502\" target=\"_blank\"><span style=\"color: #7f7f7f; text-decoration-color: #7f7f7f\">502</span></a>\n",
       "</pre>\n"
      ],
      "text/plain": [
       "\u001b[2;36m[11/26/23 13:27:12]\u001b[0m\u001b[2;36m \u001b[0m\u001b[34mINFO    \u001b[0m Loading data from \u001b[32m'X_train'\u001b[0m \u001b[1m(\u001b[0mCSVDataSet\u001b[1m)\u001b[0m\u001b[33m...\u001b[0m                        \u001b]8;id=698721;file:///home/ricardormotta/projects/LTV_analysis/venv/lib/python3.10/site-packages/kedro/io/data_catalog.py\u001b\\\u001b[2mdata_catalog.py\u001b[0m\u001b]8;;\u001b\\\u001b[2m:\u001b[0m\u001b]8;id=759480;file:///home/ricardormotta/projects/LTV_analysis/venv/lib/python3.10/site-packages/kedro/io/data_catalog.py#502\u001b\\\u001b[2m502\u001b[0m\u001b]8;;\u001b\\\n"
      ]
     },
     "metadata": {},
     "output_type": "display_data"
    },
    {
     "data": {
      "text/html": [
       "<pre style=\"white-space:pre;overflow-x:auto;line-height:normal;font-family:Menlo,'DejaVu Sans Mono',consolas,'Courier New',monospace\"><span style=\"color: #7fbfbf; text-decoration-color: #7fbfbf\">                    </span><span style=\"color: #000080; text-decoration-color: #000080\">INFO    </span> Loading data from <span style=\"color: #008000; text-decoration-color: #008000\">'X_test'</span> <span style=\"font-weight: bold\">(</span>CSVDataSet<span style=\"font-weight: bold\">)</span><span style=\"color: #808000; text-decoration-color: #808000\">...</span>                         <a href=\"file:///home/ricardormotta/projects/LTV_analysis/venv/lib/python3.10/site-packages/kedro/io/data_catalog.py\" target=\"_blank\"><span style=\"color: #7f7f7f; text-decoration-color: #7f7f7f\">data_catalog.py</span></a><span style=\"color: #7f7f7f; text-decoration-color: #7f7f7f\">:</span><a href=\"file:///home/ricardormotta/projects/LTV_analysis/venv/lib/python3.10/site-packages/kedro/io/data_catalog.py#502\" target=\"_blank\"><span style=\"color: #7f7f7f; text-decoration-color: #7f7f7f\">502</span></a>\n",
       "</pre>\n"
      ],
      "text/plain": [
       "\u001b[2;36m                   \u001b[0m\u001b[2;36m \u001b[0m\u001b[34mINFO    \u001b[0m Loading data from \u001b[32m'X_test'\u001b[0m \u001b[1m(\u001b[0mCSVDataSet\u001b[1m)\u001b[0m\u001b[33m...\u001b[0m                         \u001b]8;id=391572;file:///home/ricardormotta/projects/LTV_analysis/venv/lib/python3.10/site-packages/kedro/io/data_catalog.py\u001b\\\u001b[2mdata_catalog.py\u001b[0m\u001b]8;;\u001b\\\u001b[2m:\u001b[0m\u001b]8;id=952786;file:///home/ricardormotta/projects/LTV_analysis/venv/lib/python3.10/site-packages/kedro/io/data_catalog.py#502\u001b\\\u001b[2m502\u001b[0m\u001b]8;;\u001b\\\n"
      ]
     },
     "metadata": {},
     "output_type": "display_data"
    },
    {
     "data": {
      "text/html": [
       "<pre style=\"white-space:pre;overflow-x:auto;line-height:normal;font-family:Menlo,'DejaVu Sans Mono',consolas,'Courier New',monospace\"><span style=\"color: #7fbfbf; text-decoration-color: #7fbfbf\">                    </span><span style=\"color: #000080; text-decoration-color: #000080\">INFO    </span> Loading data from <span style=\"color: #008000; text-decoration-color: #008000\">'y_train'</span> <span style=\"font-weight: bold\">(</span>CSVDataSet<span style=\"font-weight: bold\">)</span><span style=\"color: #808000; text-decoration-color: #808000\">...</span>                        <a href=\"file:///home/ricardormotta/projects/LTV_analysis/venv/lib/python3.10/site-packages/kedro/io/data_catalog.py\" target=\"_blank\"><span style=\"color: #7f7f7f; text-decoration-color: #7f7f7f\">data_catalog.py</span></a><span style=\"color: #7f7f7f; text-decoration-color: #7f7f7f\">:</span><a href=\"file:///home/ricardormotta/projects/LTV_analysis/venv/lib/python3.10/site-packages/kedro/io/data_catalog.py#502\" target=\"_blank\"><span style=\"color: #7f7f7f; text-decoration-color: #7f7f7f\">502</span></a>\n",
       "</pre>\n"
      ],
      "text/plain": [
       "\u001b[2;36m                   \u001b[0m\u001b[2;36m \u001b[0m\u001b[34mINFO    \u001b[0m Loading data from \u001b[32m'y_train'\u001b[0m \u001b[1m(\u001b[0mCSVDataSet\u001b[1m)\u001b[0m\u001b[33m...\u001b[0m                        \u001b]8;id=833433;file:///home/ricardormotta/projects/LTV_analysis/venv/lib/python3.10/site-packages/kedro/io/data_catalog.py\u001b\\\u001b[2mdata_catalog.py\u001b[0m\u001b]8;;\u001b\\\u001b[2m:\u001b[0m\u001b]8;id=293271;file:///home/ricardormotta/projects/LTV_analysis/venv/lib/python3.10/site-packages/kedro/io/data_catalog.py#502\u001b\\\u001b[2m502\u001b[0m\u001b]8;;\u001b\\\n"
      ]
     },
     "metadata": {},
     "output_type": "display_data"
    },
    {
     "data": {
      "text/html": [
       "<pre style=\"white-space:pre;overflow-x:auto;line-height:normal;font-family:Menlo,'DejaVu Sans Mono',consolas,'Courier New',monospace\"><span style=\"color: #7fbfbf; text-decoration-color: #7fbfbf\">                    </span><span style=\"color: #000080; text-decoration-color: #000080\">INFO    </span> Loading data from <span style=\"color: #008000; text-decoration-color: #008000\">'y_test'</span> <span style=\"font-weight: bold\">(</span>CSVDataSet<span style=\"font-weight: bold\">)</span><span style=\"color: #808000; text-decoration-color: #808000\">...</span>                         <a href=\"file:///home/ricardormotta/projects/LTV_analysis/venv/lib/python3.10/site-packages/kedro/io/data_catalog.py\" target=\"_blank\"><span style=\"color: #7f7f7f; text-decoration-color: #7f7f7f\">data_catalog.py</span></a><span style=\"color: #7f7f7f; text-decoration-color: #7f7f7f\">:</span><a href=\"file:///home/ricardormotta/projects/LTV_analysis/venv/lib/python3.10/site-packages/kedro/io/data_catalog.py#502\" target=\"_blank\"><span style=\"color: #7f7f7f; text-decoration-color: #7f7f7f\">502</span></a>\n",
       "</pre>\n"
      ],
      "text/plain": [
       "\u001b[2;36m                   \u001b[0m\u001b[2;36m \u001b[0m\u001b[34mINFO    \u001b[0m Loading data from \u001b[32m'y_test'\u001b[0m \u001b[1m(\u001b[0mCSVDataSet\u001b[1m)\u001b[0m\u001b[33m...\u001b[0m                         \u001b]8;id=755072;file:///home/ricardormotta/projects/LTV_analysis/venv/lib/python3.10/site-packages/kedro/io/data_catalog.py\u001b\\\u001b[2mdata_catalog.py\u001b[0m\u001b]8;;\u001b\\\u001b[2m:\u001b[0m\u001b]8;id=229563;file:///home/ricardormotta/projects/LTV_analysis/venv/lib/python3.10/site-packages/kedro/io/data_catalog.py#502\u001b\\\u001b[2m502\u001b[0m\u001b]8;;\u001b\\\n"
      ]
     },
     "metadata": {},
     "output_type": "display_data"
    },
    {
     "data": {
      "text/html": [
       "<pre style=\"white-space:pre;overflow-x:auto;line-height:normal;font-family:Menlo,'DejaVu Sans Mono',consolas,'Courier New',monospace\"><span style=\"color: #7fbfbf; text-decoration-color: #7fbfbf\">                    </span><span style=\"color: #000080; text-decoration-color: #000080\">INFO    </span> Loading data from <span style=\"color: #008000; text-decoration-color: #008000\">'CT'</span> <span style=\"font-weight: bold\">(</span>PickleDataSet<span style=\"font-weight: bold\">)</span><span style=\"color: #808000; text-decoration-color: #808000\">...</span>                          <a href=\"file:///home/ricardormotta/projects/LTV_analysis/venv/lib/python3.10/site-packages/kedro/io/data_catalog.py\" target=\"_blank\"><span style=\"color: #7f7f7f; text-decoration-color: #7f7f7f\">data_catalog.py</span></a><span style=\"color: #7f7f7f; text-decoration-color: #7f7f7f\">:</span><a href=\"file:///home/ricardormotta/projects/LTV_analysis/venv/lib/python3.10/site-packages/kedro/io/data_catalog.py#502\" target=\"_blank\"><span style=\"color: #7f7f7f; text-decoration-color: #7f7f7f\">502</span></a>\n",
       "</pre>\n"
      ],
      "text/plain": [
       "\u001b[2;36m                   \u001b[0m\u001b[2;36m \u001b[0m\u001b[34mINFO    \u001b[0m Loading data from \u001b[32m'CT'\u001b[0m \u001b[1m(\u001b[0mPickleDataSet\u001b[1m)\u001b[0m\u001b[33m...\u001b[0m                          \u001b]8;id=643864;file:///home/ricardormotta/projects/LTV_analysis/venv/lib/python3.10/site-packages/kedro/io/data_catalog.py\u001b\\\u001b[2mdata_catalog.py\u001b[0m\u001b]8;;\u001b\\\u001b[2m:\u001b[0m\u001b]8;id=288059;file:///home/ricardormotta/projects/LTV_analysis/venv/lib/python3.10/site-packages/kedro/io/data_catalog.py#502\u001b\\\u001b[2m502\u001b[0m\u001b]8;;\u001b\\\n"
      ]
     },
     "metadata": {},
     "output_type": "display_data"
    }
   ],
   "source": [
    "X_train = catalog.load(\"X_train\")\n",
    "X_test = catalog.load(\"X_test\")\n",
    "y_train = catalog.load(\"y_train\")\n",
    "y_test = catalog.load(\"y_test\")\n",
    "CT = catalog.load(\"CT\")"
   ]
  },
  {
   "cell_type": "code",
   "execution_count": 3,
   "id": "698212ec-84b9-4892-9cde-7654d5c86a3b",
   "metadata": {},
   "outputs": [],
   "source": [
    "from sklearn.cluster import KMeans"
   ]
  },
  {
   "cell_type": "code",
   "execution_count": 4,
   "id": "8cce88bf-05aa-482c-ac31-bc596e57c365",
   "metadata": {},
   "outputs": [],
   "source": [
    "import matplotlib.pyplot as plt\n",
    "import seaborn as sns\n",
    "from sklearn.cluster import KMeans\n",
    "from sklearn.pipeline import Pipeline\n",
    "\n",
    "from sklearn.model_selection import KFold\n",
    "import numpy as np\n",
    "\n",
    "def plot_elbow_kfold(data, CT, max_clusters=10, n_splits=5):\n",
    "    kf = KFold(n_splits=n_splits, shuffle=True)\n",
    "    inertias = []\n",
    "    data = CT.fit_transform(data)\n",
    "    for k in range(1, max_clusters + 1):\n",
    "        fold_inertias = []\n",
    "        print(f\"running k={k}\")\n",
    "        for train_index, _ in kf.split(data):\n",
    "            kmeans = KMeans(n_clusters=k)\n",
    "            kmeans.fit(data[train_index])\n",
    "            fold_inertias.append(kmeans.inertia_)\n",
    "\n",
    "        inertias.append(np.mean(fold_inertias))\n",
    "\n",
    "    # Plotting the elbow plot\n",
    "    sns.set(style=\"whitegrid\")\n",
    "    plt.figure(figsize=(8, 6))\n",
    "    plt.plot(range(1, max_clusters + 1), inertias, marker='o')\n",
    "    plt.xlabel('Number of Clusters (k)')\n",
    "    plt.ylabel('Average Within-Cluster Sum of Squares (Inertia)')\n",
    "    plt.title('Elbow Method using K-Fold Cross Validation')\n",
    "    plt.xticks(np.arange(1, max_clusters + 1))\n",
    "    plt.show()"
   ]
  },
  {
   "cell_type": "code",
   "execution_count": 5,
   "id": "1d2442c0-435c-43f5-82ee-5b58df94d2d7",
   "metadata": {},
   "outputs": [
    {
     "data": {
      "text/html": [
       "<pre style=\"white-space:pre;overflow-x:auto;line-height:normal;font-family:Menlo,'DejaVu Sans Mono',consolas,'Courier New',monospace\"></pre>\n"
      ],
      "text/plain": []
     },
     "metadata": {},
     "output_type": "display_data"
    },
    {
     "data": {
      "text/html": [
       "<div>\n",
       "<style scoped>\n",
       "    .dataframe tbody tr th:only-of-type {\n",
       "        vertical-align: middle;\n",
       "    }\n",
       "\n",
       "    .dataframe tbody tr th {\n",
       "        vertical-align: top;\n",
       "    }\n",
       "\n",
       "    .dataframe thead th {\n",
       "        text-align: right;\n",
       "    }\n",
       "</style>\n",
       "<table border=\"1\" class=\"dataframe\">\n",
       "  <thead>\n",
       "    <tr style=\"text-align: right;\">\n",
       "      <th></th>\n",
       "      <th>product</th>\n",
       "      <th>channel</th>\n",
       "      <th>age_bucket</th>\n",
       "      <th>operating_system</th>\n",
       "      <th>days_to_churn</th>\n",
       "      <th>product_x</th>\n",
       "      <th>product_y</th>\n",
       "      <th>is_xs</th>\n",
       "    </tr>\n",
       "  </thead>\n",
       "  <tbody>\n",
       "    <tr>\n",
       "      <th>0</th>\n",
       "      <td>product_a</td>\n",
       "      <td>channel_b</td>\n",
       "      <td>45-49</td>\n",
       "      <td>Android</td>\n",
       "      <td>730.0</td>\n",
       "      <td>0.0</td>\n",
       "      <td>0.0</td>\n",
       "      <td>0</td>\n",
       "    </tr>\n",
       "    <tr>\n",
       "      <th>1</th>\n",
       "      <td>product_a</td>\n",
       "      <td>channel_b</td>\n",
       "      <td>25-29</td>\n",
       "      <td>iOS</td>\n",
       "      <td>449.0</td>\n",
       "      <td>0.0</td>\n",
       "      <td>0.0</td>\n",
       "      <td>0</td>\n",
       "    </tr>\n",
       "    <tr>\n",
       "      <th>2</th>\n",
       "      <td>product_a</td>\n",
       "      <td>channel_b</td>\n",
       "      <td>25-29</td>\n",
       "      <td>Android</td>\n",
       "      <td>226.0</td>\n",
       "      <td>0.0</td>\n",
       "      <td>0.0</td>\n",
       "      <td>0</td>\n",
       "    </tr>\n",
       "    <tr>\n",
       "      <th>3</th>\n",
       "      <td>product_a</td>\n",
       "      <td>channel_a</td>\n",
       "      <td>30-34</td>\n",
       "      <td>iOS</td>\n",
       "      <td>2020.0</td>\n",
       "      <td>0.0</td>\n",
       "      <td>0.0</td>\n",
       "      <td>0</td>\n",
       "    </tr>\n",
       "    <tr>\n",
       "      <th>4</th>\n",
       "      <td>product_a</td>\n",
       "      <td>channel_b</td>\n",
       "      <td>25-29</td>\n",
       "      <td>iOS</td>\n",
       "      <td>1461.0</td>\n",
       "      <td>0.0</td>\n",
       "      <td>0.0</td>\n",
       "      <td>0</td>\n",
       "    </tr>\n",
       "    <tr>\n",
       "      <th>...</th>\n",
       "      <td>...</td>\n",
       "      <td>...</td>\n",
       "      <td>...</td>\n",
       "      <td>...</td>\n",
       "      <td>...</td>\n",
       "      <td>...</td>\n",
       "      <td>...</td>\n",
       "      <td>...</td>\n",
       "    </tr>\n",
       "    <tr>\n",
       "      <th>82093</th>\n",
       "      <td>product_a</td>\n",
       "      <td>channel_b</td>\n",
       "      <td>25-29</td>\n",
       "      <td>iOS</td>\n",
       "      <td>327.0</td>\n",
       "      <td>0.0</td>\n",
       "      <td>0.0</td>\n",
       "      <td>0</td>\n",
       "    </tr>\n",
       "    <tr>\n",
       "      <th>82094</th>\n",
       "      <td>product_a</td>\n",
       "      <td>channel_b</td>\n",
       "      <td>18-24</td>\n",
       "      <td>Android</td>\n",
       "      <td>791.0</td>\n",
       "      <td>0.0</td>\n",
       "      <td>0.0</td>\n",
       "      <td>0</td>\n",
       "    </tr>\n",
       "    <tr>\n",
       "      <th>82095</th>\n",
       "      <td>product_a</td>\n",
       "      <td>channel_a</td>\n",
       "      <td>25-29</td>\n",
       "      <td>iOS</td>\n",
       "      <td>507.0</td>\n",
       "      <td>0.0</td>\n",
       "      <td>0.0</td>\n",
       "      <td>0</td>\n",
       "    </tr>\n",
       "    <tr>\n",
       "      <th>82096</th>\n",
       "      <td>product_a</td>\n",
       "      <td>channel_b</td>\n",
       "      <td>35-39</td>\n",
       "      <td>iOS</td>\n",
       "      <td>1339.0</td>\n",
       "      <td>0.0</td>\n",
       "      <td>0.0</td>\n",
       "      <td>0</td>\n",
       "    </tr>\n",
       "    <tr>\n",
       "      <th>82097</th>\n",
       "      <td>product_a</td>\n",
       "      <td>channel_a</td>\n",
       "      <td>55+</td>\n",
       "      <td>iOS</td>\n",
       "      <td>918.0</td>\n",
       "      <td>0.0</td>\n",
       "      <td>0.0</td>\n",
       "      <td>0</td>\n",
       "    </tr>\n",
       "  </tbody>\n",
       "</table>\n",
       "<p>82098 rows × 8 columns</p>\n",
       "</div>"
      ],
      "text/plain": [
       "\n",
       "         product    channel age_bucket operating_system  days_to_churn  \\\n",
       "\u001b[1;36m0\u001b[0m      product_a  channel_b      \u001b[1;36m45\u001b[0m-\u001b[1;36m49\u001b[0m          Android          \u001b[1;36m730.0\u001b[0m   \n",
       "\u001b[1;36m1\u001b[0m      product_a  channel_b      \u001b[1;36m25\u001b[0m-\u001b[1;36m29\u001b[0m              iOS          \u001b[1;36m449.0\u001b[0m   \n",
       "\u001b[1;36m2\u001b[0m      product_a  channel_b      \u001b[1;36m25\u001b[0m-\u001b[1;36m29\u001b[0m          Android          \u001b[1;36m226.0\u001b[0m   \n",
       "\u001b[1;36m3\u001b[0m      product_a  channel_a      \u001b[1;36m30\u001b[0m-\u001b[1;36m34\u001b[0m              iOS         \u001b[1;36m2020.0\u001b[0m   \n",
       "\u001b[1;36m4\u001b[0m      product_a  channel_b      \u001b[1;36m25\u001b[0m-\u001b[1;36m29\u001b[0m              iOS         \u001b[1;36m1461.0\u001b[0m   \n",
       "\u001b[33m...\u001b[0m          \u001b[33m...\u001b[0m        \u001b[33m...\u001b[0m        \u001b[33m...\u001b[0m              \u001b[33m...\u001b[0m            \u001b[33m...\u001b[0m   \n",
       "\u001b[1;36m82093\u001b[0m  product_a  channel_b      \u001b[1;36m25\u001b[0m-\u001b[1;36m29\u001b[0m              iOS          \u001b[1;36m327.0\u001b[0m   \n",
       "\u001b[1;36m82094\u001b[0m  product_a  channel_b      \u001b[1;36m18\u001b[0m-\u001b[1;36m24\u001b[0m          Android          \u001b[1;36m791.0\u001b[0m   \n",
       "\u001b[1;36m82095\u001b[0m  product_a  channel_a      \u001b[1;36m25\u001b[0m-\u001b[1;36m29\u001b[0m              iOS          \u001b[1;36m507.0\u001b[0m   \n",
       "\u001b[1;36m82096\u001b[0m  product_a  channel_b      \u001b[1;36m35\u001b[0m-\u001b[1;36m39\u001b[0m              iOS         \u001b[1;36m1339.0\u001b[0m   \n",
       "\u001b[1;36m82097\u001b[0m  product_a  channel_a        \u001b[1;36m55\u001b[0m+              iOS          \u001b[1;36m918.0\u001b[0m   \n",
       "\n",
       "       product_x  product_y  is_xs  \n",
       "\u001b[1;36m0\u001b[0m            \u001b[1;36m0.0\u001b[0m        \u001b[1;36m0.0\u001b[0m      \u001b[1;36m0\u001b[0m  \n",
       "\u001b[1;36m1\u001b[0m            \u001b[1;36m0.0\u001b[0m        \u001b[1;36m0.0\u001b[0m      \u001b[1;36m0\u001b[0m  \n",
       "\u001b[1;36m2\u001b[0m            \u001b[1;36m0.0\u001b[0m        \u001b[1;36m0.0\u001b[0m      \u001b[1;36m0\u001b[0m  \n",
       "\u001b[1;36m3\u001b[0m            \u001b[1;36m0.0\u001b[0m        \u001b[1;36m0.0\u001b[0m      \u001b[1;36m0\u001b[0m  \n",
       "\u001b[1;36m4\u001b[0m            \u001b[1;36m0.0\u001b[0m        \u001b[1;36m0.0\u001b[0m      \u001b[1;36m0\u001b[0m  \n",
       "\u001b[33m...\u001b[0m          \u001b[33m...\u001b[0m        \u001b[33m...\u001b[0m    \u001b[33m...\u001b[0m  \n",
       "\u001b[1;36m82093\u001b[0m        \u001b[1;36m0.0\u001b[0m        \u001b[1;36m0.0\u001b[0m      \u001b[1;36m0\u001b[0m  \n",
       "\u001b[1;36m82094\u001b[0m        \u001b[1;36m0.0\u001b[0m        \u001b[1;36m0.0\u001b[0m      \u001b[1;36m0\u001b[0m  \n",
       "\u001b[1;36m82095\u001b[0m        \u001b[1;36m0.0\u001b[0m        \u001b[1;36m0.0\u001b[0m      \u001b[1;36m0\u001b[0m  \n",
       "\u001b[1;36m82096\u001b[0m        \u001b[1;36m0.0\u001b[0m        \u001b[1;36m0.0\u001b[0m      \u001b[1;36m0\u001b[0m  \n",
       "\u001b[1;36m82097\u001b[0m        \u001b[1;36m0.0\u001b[0m        \u001b[1;36m0.0\u001b[0m      \u001b[1;36m0\u001b[0m  \n",
       "\n",
       "\u001b[1m[\u001b[0m\u001b[1;36m82098\u001b[0m rows x \u001b[1;36m8\u001b[0m columns\u001b[1m]\u001b[0m"
      ]
     },
     "execution_count": 5,
     "metadata": {},
     "output_type": "execute_result"
    }
   ],
   "source": [
    "X_train"
   ]
  },
  {
   "cell_type": "code",
   "execution_count": 6,
   "id": "d9cbe391-791b-4c6e-a405-9a6580d94909",
   "metadata": {},
   "outputs": [],
   "source": [
    "import warnings\n",
    "warnings.filterwarnings(\"ignore\")"
   ]
  },
  {
   "cell_type": "code",
   "execution_count": 7,
   "id": "deb17868-6927-4cce-9ff2-5b9f4e8787c8",
   "metadata": {},
   "outputs": [
    {
     "name": "stdout",
     "output_type": "stream",
     "text": [
      "running k=1\n",
      "running k=2\n",
      "running k=3\n",
      "running k=4\n",
      "running k=5\n",
      "running k=6\n",
      "running k=7\n",
      "running k=8\n",
      "running k=9\n",
      "running k=10\n"
     ]
    },
    {
     "data": {
      "text/html": [
       "<pre style=\"white-space:pre;overflow-x:auto;line-height:normal;font-family:Menlo,'DejaVu Sans Mono',consolas,'Courier New',monospace\"></pre>\n"
      ],
      "text/plain": []
     },
     "metadata": {},
     "output_type": "display_data"
    },
    {
     "data": {
      "image/png": "[encoded data removed]",
      "text/plain": [
       "\u001b[1m<\u001b[0m\u001b[1;95mFigure\u001b[0m\u001b[39m size 80\u001b[0m\u001b[1;36m0x600\u001b[0m\u001b[39m with \u001b[0m\u001b[1;36m1\u001b[0m\u001b[39m Axes\u001b[0m\u001b[1m>\u001b[0m"
      ]
     },
     "metadata": {},
     "output_type": "display_data"
    }
   ],
   "source": [
    "plot_elbow_kfold(X_train, CT, max_clusters=10, n_splits=5)"
   ]
  },
  {
   "cell_type": "markdown",
   "id": "1e8b6df5-59aa-46d4-9ac1-9dc0f3469cfd",
   "metadata": {},
   "source": [
    "## Procceeding with k=6"
   ]
  },
  {
   "cell_type": "code",
   "execution_count": 9,
   "id": "a23d82ee-ff2c-4c31-b72c-33ac550c8cf1",
   "metadata": {},
   "outputs": [
    {
     "data": {
      "text/html": [
       "<style>#sk-container-id-1 {color: black;}#sk-container-id-1 pre{padding: 0;}#sk-container-id-1 div.sk-toggleable {background-color: white;}#sk-container-id-1 label.sk-toggleable__label {cursor: pointer;display: block;width: 100%;margin-bottom: 0;padding: 0.3em;box-sizing: border-box;text-align: center;}#sk-container-id-1 label.sk-toggleable__label-arrow:before {content: \"▸\";float: left;margin-right: 0.25em;color: #696969;}#sk-container-id-1 label.sk-toggleable__label-arrow:hover:before {color: black;}#sk-container-id-1 div.sk-estimator:hover label.sk-toggleable__label-arrow:before {color: black;}#sk-container-id-1 div.sk-toggleable__content {max-height: 0;max-width: 0;overflow: hidden;text-align: left;background-color: #f0f8ff;}#sk-container-id-1 div.sk-toggleable__content pre {margin: 0.2em;color: black;border-radius: 0.25em;background-color: #f0f8ff;}#sk-container-id-1 input.sk-toggleable__control:checked~div.sk-toggleable__content {max-height: 200px;max-width: 100%;overflow: auto;}#sk-container-id-1 input.sk-toggleable__control:checked~label.sk-toggleable__label-arrow:before {content: \"▾\";}#sk-container-id-1 div.sk-estimator input.sk-toggleable__control:checked~label.sk-toggleable__label {background-color: #d4ebff;}#sk-container-id-1 div.sk-label input.sk-toggleable__control:checked~label.sk-toggleable__label {background-color: #d4ebff;}#sk-container-id-1 input.sk-hidden--visually {border: 0;clip: rect(1px 1px 1px 1px);clip: rect(1px, 1px, 1px, 1px);height: 1px;margin: -1px;overflow: hidden;padding: 0;position: absolute;width: 1px;}#sk-container-id-1 div.sk-estimator {font-family: monospace;background-color: #f0f8ff;border: 1px dotted black;border-radius: 0.25em;box-sizing: border-box;margin-bottom: 0.5em;}#sk-container-id-1 div.sk-estimator:hover {background-color: #d4ebff;}#sk-container-id-1 div.sk-parallel-item::after {content: \"\";width: 100%;border-bottom: 1px solid gray;flex-grow: 1;}#sk-container-id-1 div.sk-label:hover label.sk-toggleable__label {background-color: #d4ebff;}#sk-container-id-1 div.sk-serial::before {content: \"\";position: absolute;border-left: 1px solid gray;box-sizing: border-box;top: 0;bottom: 0;left: 50%;z-index: 0;}#sk-container-id-1 div.sk-serial {display: flex;flex-direction: column;align-items: center;background-color: white;padding-right: 0.2em;padding-left: 0.2em;position: relative;}#sk-container-id-1 div.sk-item {position: relative;z-index: 1;}#sk-container-id-1 div.sk-parallel {display: flex;align-items: stretch;justify-content: center;background-color: white;position: relative;}#sk-container-id-1 div.sk-item::before, #sk-container-id-1 div.sk-parallel-item::before {content: \"\";position: absolute;border-left: 1px solid gray;box-sizing: border-box;top: 0;bottom: 0;left: 50%;z-index: -1;}#sk-container-id-1 div.sk-parallel-item {display: flex;flex-direction: column;z-index: 1;position: relative;background-color: white;}#sk-container-id-1 div.sk-parallel-item:first-child::after {align-self: flex-end;width: 50%;}#sk-container-id-1 div.sk-parallel-item:last-child::after {align-self: flex-start;width: 50%;}#sk-container-id-1 div.sk-parallel-item:only-child::after {width: 0;}#sk-container-id-1 div.sk-dashed-wrapped {border: 1px dashed gray;margin: 0 0.4em 0.5em 0.4em;box-sizing: border-box;padding-bottom: 0.4em;background-color: white;}#sk-container-id-1 div.sk-label label {font-family: monospace;font-weight: bold;display: inline-block;line-height: 1.2em;}#sk-container-id-1 div.sk-label-container {text-align: center;}#sk-container-id-1 div.sk-container {/* jupyter's `normalize.less` sets `[hidden] { display: none; }` but bootstrap.min.css set `[hidden] { display: none !important; }` so we also need the `!important` here to be able to override the default hidden behavior on the sphinx rendered scikit-learn.org. See: https://github.com/scikit-learn/scikit-learn/issues/21755 */display: inline-block !important;position: relative;}#sk-container-id-1 div.sk-text-repr-fallback {display: none;}</style><div id=\"sk-container-id-1\" class=\"sk-top-container\"><div class=\"sk-text-repr-fallback\"><pre>Pipeline(steps=[(&#x27;CT&#x27;,\n",
       "                 ColumnTransformer(transformers=[(&#x27;categorical&#x27;,\n",
       "                                                  OneHotEncoder(handle_unknown=&#x27;ignore&#x27;,\n",
       "                                                                sparse_output=False),\n",
       "                                                  [&#x27;product&#x27;, &#x27;channel&#x27;,\n",
       "                                                   &#x27;age_bucket&#x27;,\n",
       "                                                   &#x27;operating_system&#x27;]),\n",
       "                                                 (&#x27;numerical&#x27;, StandardScaler(),\n",
       "                                                  [&#x27;days_to_churn&#x27;, &#x27;product_x&#x27;,\n",
       "                                                   &#x27;product_y&#x27;])])),\n",
       "                (&#x27;model&#x27;, KMeans(n_clusters=6))])</pre><b>In a Jupyter environment, please rerun this cell to show the HTML representation or trust the notebook. <br />On GitHub, the HTML representation is unable to render, please try loading this page with nbviewer.org.</b></div><div class=\"sk-container\" hidden><div class=\"sk-item sk-dashed-wrapped\"><div class=\"sk-label-container\"><div class=\"sk-label sk-toggleable\"><input class=\"sk-toggleable__control sk-hidden--visually\" id=\"sk-estimator-id-1\" type=\"checkbox\" ><label for=\"sk-estimator-id-1\" class=\"sk-toggleable__label sk-toggleable__label-arrow\">Pipeline</label><div class=\"sk-toggleable__content\"><pre>Pipeline(steps=[(&#x27;CT&#x27;,\n",
       "                 ColumnTransformer(transformers=[(&#x27;categorical&#x27;,\n",
       "                                                  OneHotEncoder(handle_unknown=&#x27;ignore&#x27;,\n",
       "                                                                sparse_output=False),\n",
       "                                                  [&#x27;product&#x27;, &#x27;channel&#x27;,\n",
       "                                                   &#x27;age_bucket&#x27;,\n",
       "                                                   &#x27;operating_system&#x27;]),\n",
       "                                                 (&#x27;numerical&#x27;, StandardScaler(),\n",
       "                                                  [&#x27;days_to_churn&#x27;, &#x27;product_x&#x27;,\n",
       "                                                   &#x27;product_y&#x27;])])),\n",
       "                (&#x27;model&#x27;, KMeans(n_clusters=6))])</pre></div></div></div><div class=\"sk-serial\"><div class=\"sk-item sk-dashed-wrapped\"><div class=\"sk-label-container\"><div class=\"sk-label sk-toggleable\"><input class=\"sk-toggleable__control sk-hidden--visually\" id=\"sk-estimator-id-2\" type=\"checkbox\" ><label for=\"sk-estimator-id-2\" class=\"sk-toggleable__label sk-toggleable__label-arrow\">CT: ColumnTransformer</label><div class=\"sk-toggleable__content\"><pre>ColumnTransformer(transformers=[(&#x27;categorical&#x27;,\n",
       "                                 OneHotEncoder(handle_unknown=&#x27;ignore&#x27;,\n",
       "                                               sparse_output=False),\n",
       "                                 [&#x27;product&#x27;, &#x27;channel&#x27;, &#x27;age_bucket&#x27;,\n",
       "                                  &#x27;operating_system&#x27;]),\n",
       "                                (&#x27;numerical&#x27;, StandardScaler(),\n",
       "                                 [&#x27;days_to_churn&#x27;, &#x27;product_x&#x27;, &#x27;product_y&#x27;])])</pre></div></div></div><div class=\"sk-parallel\"><div class=\"sk-parallel-item\"><div class=\"sk-item\"><div class=\"sk-label-container\"><div class=\"sk-label sk-toggleable\"><input class=\"sk-toggleable__control sk-hidden--visually\" id=\"sk-estimator-id-3\" type=\"checkbox\" ><label for=\"sk-estimator-id-3\" class=\"sk-toggleable__label sk-toggleable__label-arrow\">categorical</label><div class=\"sk-toggleable__content\"><pre>[&#x27;product&#x27;, &#x27;channel&#x27;, &#x27;age_bucket&#x27;, &#x27;operating_system&#x27;]</pre></div></div></div><div class=\"sk-serial\"><div class=\"sk-item\"><div class=\"sk-estimator sk-toggleable\"><input class=\"sk-toggleable__control sk-hidden--visually\" id=\"sk-estimator-id-4\" type=\"checkbox\" ><label for=\"sk-estimator-id-4\" class=\"sk-toggleable__label sk-toggleable__label-arrow\">OneHotEncoder</label><div class=\"sk-toggleable__content\"><pre>OneHotEncoder(handle_unknown=&#x27;ignore&#x27;, sparse_output=False)</pre></div></div></div></div></div></div><div class=\"sk-parallel-item\"><div class=\"sk-item\"><div class=\"sk-label-container\"><div class=\"sk-label sk-toggleable\"><input class=\"sk-toggleable__control sk-hidden--visually\" id=\"sk-estimator-id-5\" type=\"checkbox\" ><label for=\"sk-estimator-id-5\" class=\"sk-toggleable__label sk-toggleable__label-arrow\">numerical</label><div class=\"sk-toggleable__content\"><pre>[&#x27;days_to_churn&#x27;, &#x27;product_x&#x27;, &#x27;product_y&#x27;]</pre></div></div></div><div class=\"sk-serial\"><div class=\"sk-item\"><div class=\"sk-estimator sk-toggleable\"><input class=\"sk-toggleable__control sk-hidden--visually\" id=\"sk-estimator-id-6\" type=\"checkbox\" ><label for=\"sk-estimator-id-6\" class=\"sk-toggleable__label sk-toggleable__label-arrow\">StandardScaler</label><div class=\"sk-toggleable__content\"><pre>StandardScaler()</pre></div></div></div></div></div></div></div></div><div class=\"sk-item\"><div class=\"sk-estimator sk-toggleable\"><input class=\"sk-toggleable__control sk-hidden--visually\" id=\"sk-estimator-id-7\" type=\"checkbox\" ><label for=\"sk-estimator-id-7\" class=\"sk-toggleable__label sk-toggleable__label-arrow\">KMeans</label><div class=\"sk-toggleable__content\"><pre>KMeans(n_clusters=6)</pre></div></div></div></div></div></div></div>"
      ],
      "text/plain": [
       "Pipeline(steps=[('CT',\n",
       "                 ColumnTransformer(transformers=[('categorical',\n",
       "                                                  OneHotEncoder(handle_unknown='ignore',\n",
       "                                                                sparse_output=False),\n",
       "                                                  ['product', 'channel',\n",
       "                                                   'age_bucket',\n",
       "                                                   'operating_system']),\n",
       "                                                 ('numerical', StandardScaler(),\n",
       "                                                  ['days_to_churn', 'product_x',\n",
       "                                                   'product_y'])])),\n",
       "                ('model', KMeans(n_clusters=6))])"
      ]
     },
     "execution_count": 9,
     "metadata": {},
     "output_type": "execute_result"
    }
   ],
   "source": [
    "k=6\n",
    "n_splits=5\n",
    "kf = KFold(n_splits=n_splits, shuffle=True)\n",
    "kmeans = KMeans(n_clusters=k)\n",
    "pipe = Pipeline([(\"CT\", CT), (\"model\", kmeans)])\n",
    "pipe.fit(X_train)\n"
   ]
  },
  {
   "cell_type": "code",
   "execution_count": 10,
   "id": "e3c4d086-38a0-49df-a501-99cbc9f0b2d6",
   "metadata": {},
   "outputs": [
    {
     "data": {
      "text/html": [
       "<pre style=\"white-space:pre;overflow-x:auto;line-height:normal;font-family:Menlo,'DejaVu Sans Mono',consolas,'Courier New',monospace\"></pre>\n"
      ],
      "text/plain": []
     },
     "metadata": {},
     "output_type": "display_data"
    },
    {
     "data": {
      "text/plain": [
       "\u001b[1;35marray\u001b[0m\u001b[1m(\u001b[0m\u001b[1m[\u001b[0m\u001b[1;36m5\u001b[0m, \u001b[1;36m5\u001b[0m, \u001b[1;36m1\u001b[0m, \u001b[33m...\u001b[0m, \u001b[1;36m5\u001b[0m, \u001b[1;36m1\u001b[0m, \u001b[1;36m5\u001b[0m\u001b[1m]\u001b[0m, \u001b[33mdtype\u001b[0m=\u001b[35mint32\u001b[0m\u001b[1m)\u001b[0m"
      ]
     },
     "execution_count": 10,
     "metadata": {},
     "output_type": "execute_result"
    }
   ],
   "source": [
    "pipe.predict(X_test)"
   ]
  },
  {
   "cell_type": "code",
   "execution_count": 11,
   "id": "898b9028-5037-4592-a196-59981c5181df",
   "metadata": {},
   "outputs": [
    {
     "data": {
      "text/html": [
       "<pre style=\"white-space:pre;overflow-x:auto;line-height:normal;font-family:Menlo,'DejaVu Sans Mono',consolas,'Courier New',monospace\"></pre>\n"
      ],
      "text/plain": []
     },
     "metadata": {},
     "output_type": "display_data"
    },
    {
     "data": {
      "text/plain": [
       "\u001b[1;36m6\u001b[0m"
      ]
     },
     "execution_count": 11,
     "metadata": {},
     "output_type": "execute_result"
    }
   ],
   "source": [
    "len(np.unique(pipe[\"model\"].labels_))"
   ]
  },
  {
   "cell_type": "code",
   "execution_count": 12,
   "id": "09b5dbd6-64ea-46b6-b18f-3223389ea747",
   "metadata": {},
   "outputs": [],
   "source": [
    "centroids = pipe[\"model\"].cluster_centers_"
   ]
  },
  {
   "cell_type": "code",
   "execution_count": 13,
   "id": "c4fde912-07d4-42f3-847b-6dea872f34c0",
   "metadata": {},
   "outputs": [
    {
     "data": {
      "text/html": [
       "<pre style=\"white-space:pre;overflow-x:auto;line-height:normal;font-family:Menlo,'DejaVu Sans Mono',consolas,'Courier New',monospace\"></pre>\n"
      ],
      "text/plain": []
     },
     "metadata": {},
     "output_type": "display_data"
    },
    {
     "data": {
      "text/plain": [
       "\n",
       "\u001b[1;35marray\u001b[0m\u001b[1m(\u001b[0m\u001b[1m[\u001b[0m\u001b[1m[\u001b[0m \u001b[1;36m9.28850763e-01\u001b[0m,  \u001b[1;36m1.12905261e-02\u001b[0m,  \u001b[1;36m5.98587107e-02\u001b[0m,\n",
       "         \u001b[1;36m1.00000000e+00\u001b[0m,  \u001b[1;36m1.66533454e-15\u001b[0m,  \u001b[1;36m6.07417686e-02\u001b[0m,\n",
       "         \u001b[1;36m1.38009335e-01\u001b[0m,  \u001b[1;36m1.60085783e-01\u001b[0m,  \u001b[1;36m1.09814558e-01\u001b[0m,\n",
       "         \u001b[1;36m1.00731677e-01\u001b[0m,  \u001b[1;36m8.53412388e-02\u001b[0m,  \u001b[1;36m1.04263908e-01\u001b[0m,\n",
       "         \u001b[1;36m2.40822505e-01\u001b[0m,  \u001b[1;36m1.89226694e-04\u001b[0m,  \u001b[1;36m4.72120600e-01\u001b[0m,\n",
       "         \u001b[1;36m4.88267945e-01\u001b[0m,  \u001b[1;36m3.96114545e-02\u001b[0m,  \u001b[1;36m8.82955951e-01\u001b[0m,\n",
       "        \u001b[1;36m-3.08477369e-02\u001b[0m, \u001b[1;36m-9.66290973e-02\u001b[0m\u001b[1m]\u001b[0m,\n",
       "       \u001b[1m[\u001b[0m \u001b[1;36m6.79914389e-01\u001b[0m,  \u001b[1;36m8.68949621e-02\u001b[0m,  \u001b[1;36m2.33190649e-01\u001b[0m,\n",
       "        \u001b[1;36m-2.39808173e-14\u001b[0m,  \u001b[1;36m1.00000000e+00\u001b[0m,  \u001b[1;36m1.32301613e-01\u001b[0m,\n",
       "         \u001b[1;36m2.58840961e-01\u001b[0m,  \u001b[1;36m2.28679618e-01\u001b[0m,  \u001b[1;36m1.42838327e-01\u001b[0m,\n",
       "         \u001b[1;36m8.82449786e-02\u001b[0m,  \u001b[1;36m5.29140599e-02\u001b[0m,  \u001b[1;36m3.78004610e-02\u001b[0m,\n",
       "         \u001b[1;36m5.77214356e-02\u001b[0m,  \u001b[1;36m6.58544616e-04\u001b[0m,  \u001b[1;36m4.59861706e-01\u001b[0m,\n",
       "         \u001b[1;36m4.62495884e-01\u001b[0m,  \u001b[1;36m7.76424103e-02\u001b[0m, \u001b[1;36m-6.06997952e-01\u001b[0m,\n",
       "        \u001b[1;36m-3.08477369e-02\u001b[0m, \u001b[1;36m-9.66290973e-02\u001b[0m\u001b[1m]\u001b[0m,\n",
       "       \u001b[1m[\u001b[0m \u001b[1;36m7.52380952e-01\u001b[0m,  \u001b[1;36m2.14285714e-02\u001b[0m,  \u001b[1;36m2.26190476e-01\u001b[0m,\n",
       "         \u001b[1;36m2.75000000e-01\u001b[0m,  \u001b[1;36m7.25000000e-01\u001b[0m,  \u001b[1;36m1.47619048e-01\u001b[0m,\n",
       "         \u001b[1;36m3.21428571e-01\u001b[0m,  \u001b[1;36m3.02380952e-01\u001b[0m,  \u001b[1;36m1.29761905e-01\u001b[0m,\n",
       "         \u001b[1;36m6.42857143e-02\u001b[0m,  \u001b[1;36m2.61904762e-02\u001b[0m,  \u001b[1;36m7.14285714e-03\u001b[0m,\n",
       "         \u001b[1;36m1.19047619e-03\u001b[0m,  \u001b[1;36m0.00000000e+00\u001b[0m,  \u001b[1;36m4.65476190e-01\u001b[0m,\n",
       "         \u001b[1;36m5.32142857e-01\u001b[0m,  \u001b[1;36m2.38095238e-03\u001b[0m,  \u001b[1;36m5.17798207e-01\u001b[0m,\n",
       "        \u001b[1;36m-3.08477369e-02\u001b[0m,  \u001b[1;36m9.15316141e+00\u001b[0m\u001b[1m]\u001b[0m,\n",
       "       \u001b[1m[\u001b[0m \u001b[1;36m7.97468354e-01\u001b[0m,  \u001b[1;36m2.53164557e-02\u001b[0m,  \u001b[1;36m1.77215190e-01\u001b[0m,\n",
       "         \u001b[1;36m3.67088608e-01\u001b[0m,  \u001b[1;36m6.32911392e-01\u001b[0m,  \u001b[1;36m1.26582278e-02\u001b[0m,\n",
       "         \u001b[1;36m3.92405063e-01\u001b[0m,  \u001b[1;36m3.92405063e-01\u001b[0m,  \u001b[1;36m1.39240506e-01\u001b[0m,\n",
       "         \u001b[1;36m6.32911392e-02\u001b[0m, \u001b[1;36m-6.93889390e-18\u001b[0m, \u001b[1;36m-6.93889390e-18\u001b[0m,\n",
       "        \u001b[1;36m-1.38777878e-17\u001b[0m,  \u001b[1;36m0.00000000e+00\u001b[0m,  \u001b[1;36m3.92405063e-01\u001b[0m,\n",
       "         \u001b[1;36m6.07594937e-01\u001b[0m,  \u001b[1;36m1.38777878e-17\u001b[0m,  \u001b[1;36m5.16521074e-01\u001b[0m,\n",
       "         \u001b[1;36m3.20265890e+01\u001b[0m,  \u001b[1;36m1.96959365e+00\u001b[0m\u001b[1m]\u001b[0m,\n",
       "       \u001b[1m[\u001b[0m \u001b[1;36m7.98517132e-01\u001b[0m,  \u001b[1;36m2.98013245e-02\u001b[0m,  \u001b[1;36m1.71681543e-01\u001b[0m,\n",
       "         \u001b[1;36m7.19838756e-05\u001b[0m,  \u001b[1;36m9.99928016e-01\u001b[0m,  \u001b[1;36m6.43535848e-02\u001b[0m,\n",
       "         \u001b[1;36m2.52159516e-01\u001b[0m,  \u001b[1;36m3.10754391e-01\u001b[0m,  \u001b[1;36m1.59012381e-01\u001b[0m,\n",
       "         \u001b[1;36m7.78145695e-02\u001b[0m,  \u001b[1;36m4.29743737e-02\u001b[0m,  \u001b[1;36m3.43363087e-02\u001b[0m,\n",
       "         \u001b[1;36m5.85948747e-02\u001b[0m,  \u001b[1;36m2.52619106e-17\u001b[0m,  \u001b[1;36m4.57385546e-01\u001b[0m,\n",
       "         \u001b[1;36m5.20299453e-01\u001b[0m,  \u001b[1;36m2.23150014e-02\u001b[0m,  \u001b[1;36m1.32785916e+00\u001b[0m,\n",
       "        \u001b[1;36m-3.08477369e-02\u001b[0m, \u001b[1;36m-9.66290973e-02\u001b[0m\u001b[1m]\u001b[0m,\n",
       "       \u001b[1m[\u001b[0m \u001b[1;36m8.75563785e-01\u001b[0m,  \u001b[1;36m2.27412999e-02\u001b[0m,  \u001b[1;36m1.01694915e-01\u001b[0m,\n",
       "         \u001b[1;36m1.00000000e+00\u001b[0m,  \u001b[1;36m1.65423231e-14\u001b[0m,  \u001b[1;36m1.11854911e-01\u001b[0m,\n",
       "         \u001b[1;36m1.89431705e-01\u001b[0m,  \u001b[1;36m1.98309832e-01\u001b[0m,  \u001b[1;36m1.37064995e-01\u001b[0m,\n",
       "         \u001b[1;36m9.61876276e-02\u001b[0m,  \u001b[1;36m6.91259555e-02\u001b[0m,  \u001b[1;36m6.33338081e-02\u001b[0m,\n",
       "         \u001b[1;36m1.33884062e-01\u001b[0m,  \u001b[1;36m8.07102502e-04\u001b[0m,  \u001b[1;36m4.97222618e-01\u001b[0m,\n",
       "         \u001b[1;36m4.34078716e-01\u001b[0m,  \u001b[1;36m6.86986659e-02\u001b[0m, \u001b[1;36m-6.87757250e-01\u001b[0m,\n",
       "        \u001b[1;36m-3.08477369e-02\u001b[0m, \u001b[1;36m-9.66290973e-02\u001b[0m\u001b[1m]\u001b[0m\u001b[1m]\u001b[0m\u001b[1m)\u001b[0m"
      ]
     },
     "execution_count": 13,
     "metadata": {},
     "output_type": "execute_result"
    }
   ],
   "source": [
    "centroids"
   ]
  },
  {
   "cell_type": "code",
   "execution_count": 29,
   "id": "bc2a5f48-1a81-4ddd-b7f3-cbee4f8e4115",
   "metadata": {},
   "outputs": [],
   "source": [
    "def top_cluster_features(data, _pipe, top_n=3):  \n",
    "    # Assign cluster labels to each data point\n",
    "    labels = _pipe[\"model\"].labels_\n",
    "    k = len(np.unique(labels))\n",
    "    data['Cluster'] = labels\n",
    "    data = _pipe[\"CT\"].transform(data)\n",
    "\n",
    "    # Calculate centroids for each cluster\n",
    "    centroids = _pipe[\"model\"].cluster_centers_\n",
    "    \n",
    "    # Get feature importances for each cluster\n",
    "    cluster_features = {}\n",
    "    for cluster in range(k):\n",
    "        centroid = centroids[cluster]\n",
    "        abs_centroid = np.abs(centroid)  # Take absolute values for importance\n",
    "        \n",
    "        # Sort indices by importance and get top_n\n",
    "        top_indices = np.argsort(abs_centroid)[::-1][:top_n]\n",
    "        \n",
    "        # Get feature names and importance values\n",
    "        feature_names = _pipe[0].get_feature_names_out()[top_indices]\n",
    "        feature_importance = centroid[top_indices]\n",
    "        \n",
    "        cluster_features[f'Cluster {cluster}'] = pd.DataFrame({'Features': feature_names, 'Importance': feature_importance})\n",
    "    \n",
    "    return cluster_features"
   ]
  },
  {
   "cell_type": "code",
   "execution_count": 30,
   "id": "307f2d21-fc8d-475d-bcee-0bb34abcea23",
   "metadata": {},
   "outputs": [
    {
     "data": {
      "text/html": [
       "<pre style=\"white-space:pre;overflow-x:auto;line-height:normal;font-family:Menlo,'DejaVu Sans Mono',consolas,'Courier New',monospace\"></pre>\n"
      ],
      "text/plain": []
     },
     "metadata": {},
     "output_type": "display_data"
    },
    {
     "data": {
      "text/plain": [
       "\n",
       "\u001b[1m{\u001b[0m\n",
       "    \u001b[32m'Cluster 0'\u001b[0m:                          Features  Importance\n",
       "\u001b[1;36m0\u001b[0m  categorical__channel_channel_a    \u001b[1;36m1.000000\u001b[0m\n",
       "\u001b[1;36m1\u001b[0m  categorical__product_product_a    \u001b[1;36m0.928851\u001b[0m\n",
       "\u001b[1;36m2\u001b[0m        numerical__days_to_churn    \u001b[1;36m0.882956\u001b[0m,\n",
       "    \u001b[32m'Cluster 1'\u001b[0m:                          Features  Importance\n",
       "\u001b[1;36m0\u001b[0m  categorical__channel_channel_b    \u001b[1;36m1.000000\u001b[0m\n",
       "\u001b[1;36m1\u001b[0m  categorical__product_product_a    \u001b[1;36m0.679914\u001b[0m\n",
       "\u001b[1;36m2\u001b[0m        numerical__days_to_churn   \u001b[1;36m-0.606998\u001b[0m,\n",
       "    \u001b[32m'Cluster 2'\u001b[0m:                          Features  Importance\n",
       "\u001b[1;36m0\u001b[0m            numerical__product_y    \u001b[1;36m9.153161\u001b[0m\n",
       "\u001b[1;36m1\u001b[0m  categorical__product_product_a    \u001b[1;36m0.752381\u001b[0m\n",
       "\u001b[1;36m2\u001b[0m  categorical__channel_channel_b    \u001b[1;36m0.725000\u001b[0m,\n",
       "    \u001b[32m'Cluster 3'\u001b[0m:                          Features  Importance\n",
       "\u001b[1;36m0\u001b[0m            numerical__product_x   \u001b[1;36m32.026589\u001b[0m\n",
       "\u001b[1;36m1\u001b[0m            numerical__product_y    \u001b[1;36m1.969594\u001b[0m\n",
       "\u001b[1;36m2\u001b[0m  categorical__product_product_a    \u001b[1;36m0.797468\u001b[0m,\n",
       "    \u001b[32m'Cluster 4'\u001b[0m:                          Features  Importance\n",
       "\u001b[1;36m0\u001b[0m        numerical__days_to_churn    \u001b[1;36m1.327859\u001b[0m\n",
       "\u001b[1;36m1\u001b[0m  categorical__channel_channel_b    \u001b[1;36m0.999928\u001b[0m\n",
       "\u001b[1;36m2\u001b[0m  categorical__product_product_a    \u001b[1;36m0.798517\u001b[0m,\n",
       "    \u001b[32m'Cluster 5'\u001b[0m:                          Features  Importance\n",
       "\u001b[1;36m0\u001b[0m  categorical__channel_channel_a    \u001b[1;36m1.000000\u001b[0m\n",
       "\u001b[1;36m1\u001b[0m  categorical__product_product_a    \u001b[1;36m0.875564\u001b[0m\n",
       "\u001b[1;36m2\u001b[0m        numerical__days_to_churn   \u001b[1;36m-0.687757\u001b[0m\n",
       "\u001b[1m}\u001b[0m"
      ]
     },
     "execution_count": 30,
     "metadata": {},
     "output_type": "execute_result"
    }
   ],
   "source": [
    "top_cluster_features(X_train, pipe)"
   ]
  },
  {
   "cell_type": "code",
   "execution_count": 31,
   "id": "0d0d7af9-1c2c-4374-8207-6641f2bff8ee",
   "metadata": {},
   "outputs": [
    {
     "data": {
      "text/html": [
       "<pre style=\"white-space:pre;overflow-x:auto;line-height:normal;font-family:Menlo,'DejaVu Sans Mono',consolas,'Courier New',monospace\"></pre>\n"
      ],
      "text/plain": []
     },
     "metadata": {},
     "output_type": "display_data"
    },
    {
     "data": {
      "text/html": [
       "<div>\n",
       "<style scoped>\n",
       "    .dataframe tbody tr th:only-of-type {\n",
       "        vertical-align: middle;\n",
       "    }\n",
       "\n",
       "    .dataframe tbody tr th {\n",
       "        vertical-align: top;\n",
       "    }\n",
       "\n",
       "    .dataframe thead th {\n",
       "        text-align: right;\n",
       "    }\n",
       "</style>\n",
       "<table border=\"1\" class=\"dataframe\">\n",
       "  <thead>\n",
       "    <tr style=\"text-align: right;\">\n",
       "      <th></th>\n",
       "      <th>product</th>\n",
       "      <th>channel</th>\n",
       "      <th>age_bucket</th>\n",
       "      <th>operating_system</th>\n",
       "      <th>days_to_churn</th>\n",
       "      <th>product_x</th>\n",
       "      <th>product_y</th>\n",
       "      <th>is_xs</th>\n",
       "      <th>Cluster</th>\n",
       "    </tr>\n",
       "  </thead>\n",
       "  <tbody>\n",
       "    <tr>\n",
       "      <th>0</th>\n",
       "      <td>product_a</td>\n",
       "      <td>channel_b</td>\n",
       "      <td>45-49</td>\n",
       "      <td>Android</td>\n",
       "      <td>730.0</td>\n",
       "      <td>0.0</td>\n",
       "      <td>0.0</td>\n",
       "      <td>0</td>\n",
       "      <td>1</td>\n",
       "    </tr>\n",
       "    <tr>\n",
       "      <th>1</th>\n",
       "      <td>product_a</td>\n",
       "      <td>channel_b</td>\n",
       "      <td>25-29</td>\n",
       "      <td>iOS</td>\n",
       "      <td>449.0</td>\n",
       "      <td>0.0</td>\n",
       "      <td>0.0</td>\n",
       "      <td>0</td>\n",
       "      <td>1</td>\n",
       "    </tr>\n",
       "    <tr>\n",
       "      <th>2</th>\n",
       "      <td>product_a</td>\n",
       "      <td>channel_b</td>\n",
       "      <td>25-29</td>\n",
       "      <td>Android</td>\n",
       "      <td>226.0</td>\n",
       "      <td>0.0</td>\n",
       "      <td>0.0</td>\n",
       "      <td>0</td>\n",
       "      <td>1</td>\n",
       "    </tr>\n",
       "    <tr>\n",
       "      <th>3</th>\n",
       "      <td>product_a</td>\n",
       "      <td>channel_a</td>\n",
       "      <td>30-34</td>\n",
       "      <td>iOS</td>\n",
       "      <td>2020.0</td>\n",
       "      <td>0.0</td>\n",
       "      <td>0.0</td>\n",
       "      <td>0</td>\n",
       "      <td>0</td>\n",
       "    </tr>\n",
       "    <tr>\n",
       "      <th>4</th>\n",
       "      <td>product_a</td>\n",
       "      <td>channel_b</td>\n",
       "      <td>25-29</td>\n",
       "      <td>iOS</td>\n",
       "      <td>1461.0</td>\n",
       "      <td>0.0</td>\n",
       "      <td>0.0</td>\n",
       "      <td>0</td>\n",
       "      <td>4</td>\n",
       "    </tr>\n",
       "    <tr>\n",
       "      <th>...</th>\n",
       "      <td>...</td>\n",
       "      <td>...</td>\n",
       "      <td>...</td>\n",
       "      <td>...</td>\n",
       "      <td>...</td>\n",
       "      <td>...</td>\n",
       "      <td>...</td>\n",
       "      <td>...</td>\n",
       "      <td>...</td>\n",
       "    </tr>\n",
       "    <tr>\n",
       "      <th>82093</th>\n",
       "      <td>product_a</td>\n",
       "      <td>channel_b</td>\n",
       "      <td>25-29</td>\n",
       "      <td>iOS</td>\n",
       "      <td>327.0</td>\n",
       "      <td>0.0</td>\n",
       "      <td>0.0</td>\n",
       "      <td>0</td>\n",
       "      <td>1</td>\n",
       "    </tr>\n",
       "    <tr>\n",
       "      <th>82094</th>\n",
       "      <td>product_a</td>\n",
       "      <td>channel_b</td>\n",
       "      <td>18-24</td>\n",
       "      <td>Android</td>\n",
       "      <td>791.0</td>\n",
       "      <td>0.0</td>\n",
       "      <td>0.0</td>\n",
       "      <td>0</td>\n",
       "      <td>1</td>\n",
       "    </tr>\n",
       "    <tr>\n",
       "      <th>82095</th>\n",
       "      <td>product_a</td>\n",
       "      <td>channel_a</td>\n",
       "      <td>25-29</td>\n",
       "      <td>iOS</td>\n",
       "      <td>507.0</td>\n",
       "      <td>0.0</td>\n",
       "      <td>0.0</td>\n",
       "      <td>0</td>\n",
       "      <td>5</td>\n",
       "    </tr>\n",
       "    <tr>\n",
       "      <th>82096</th>\n",
       "      <td>product_a</td>\n",
       "      <td>channel_b</td>\n",
       "      <td>35-39</td>\n",
       "      <td>iOS</td>\n",
       "      <td>1339.0</td>\n",
       "      <td>0.0</td>\n",
       "      <td>0.0</td>\n",
       "      <td>0</td>\n",
       "      <td>4</td>\n",
       "    </tr>\n",
       "    <tr>\n",
       "      <th>82097</th>\n",
       "      <td>product_a</td>\n",
       "      <td>channel_a</td>\n",
       "      <td>55+</td>\n",
       "      <td>iOS</td>\n",
       "      <td>918.0</td>\n",
       "      <td>0.0</td>\n",
       "      <td>0.0</td>\n",
       "      <td>0</td>\n",
       "      <td>0</td>\n",
       "    </tr>\n",
       "  </tbody>\n",
       "</table>\n",
       "<p>82098 rows × 9 columns</p>\n",
       "</div>"
      ],
      "text/plain": [
       "\n",
       "         product    channel age_bucket operating_system  days_to_churn  \\\n",
       "\u001b[1;36m0\u001b[0m      product_a  channel_b      \u001b[1;36m45\u001b[0m-\u001b[1;36m49\u001b[0m          Android          \u001b[1;36m730.0\u001b[0m   \n",
       "\u001b[1;36m1\u001b[0m      product_a  channel_b      \u001b[1;36m25\u001b[0m-\u001b[1;36m29\u001b[0m              iOS          \u001b[1;36m449.0\u001b[0m   \n",
       "\u001b[1;36m2\u001b[0m      product_a  channel_b      \u001b[1;36m25\u001b[0m-\u001b[1;36m29\u001b[0m          Android          \u001b[1;36m226.0\u001b[0m   \n",
       "\u001b[1;36m3\u001b[0m      product_a  channel_a      \u001b[1;36m30\u001b[0m-\u001b[1;36m34\u001b[0m              iOS         \u001b[1;36m2020.0\u001b[0m   \n",
       "\u001b[1;36m4\u001b[0m      product_a  channel_b      \u001b[1;36m25\u001b[0m-\u001b[1;36m29\u001b[0m              iOS         \u001b[1;36m1461.0\u001b[0m   \n",
       "\u001b[33m...\u001b[0m          \u001b[33m...\u001b[0m        \u001b[33m...\u001b[0m        \u001b[33m...\u001b[0m              \u001b[33m...\u001b[0m            \u001b[33m...\u001b[0m   \n",
       "\u001b[1;36m82093\u001b[0m  product_a  channel_b      \u001b[1;36m25\u001b[0m-\u001b[1;36m29\u001b[0m              iOS          \u001b[1;36m327.0\u001b[0m   \n",
       "\u001b[1;36m82094\u001b[0m  product_a  channel_b      \u001b[1;36m18\u001b[0m-\u001b[1;36m24\u001b[0m          Android          \u001b[1;36m791.0\u001b[0m   \n",
       "\u001b[1;36m82095\u001b[0m  product_a  channel_a      \u001b[1;36m25\u001b[0m-\u001b[1;36m29\u001b[0m              iOS          \u001b[1;36m507.0\u001b[0m   \n",
       "\u001b[1;36m82096\u001b[0m  product_a  channel_b      \u001b[1;36m35\u001b[0m-\u001b[1;36m39\u001b[0m              iOS         \u001b[1;36m1339.0\u001b[0m   \n",
       "\u001b[1;36m82097\u001b[0m  product_a  channel_a        \u001b[1;36m55\u001b[0m+              iOS          \u001b[1;36m918.0\u001b[0m   \n",
       "\n",
       "       product_x  product_y  is_xs  Cluster  \n",
       "\u001b[1;36m0\u001b[0m            \u001b[1;36m0.0\u001b[0m        \u001b[1;36m0.0\u001b[0m      \u001b[1;36m0\u001b[0m        \u001b[1;36m1\u001b[0m  \n",
       "\u001b[1;36m1\u001b[0m            \u001b[1;36m0.0\u001b[0m        \u001b[1;36m0.0\u001b[0m      \u001b[1;36m0\u001b[0m        \u001b[1;36m1\u001b[0m  \n",
       "\u001b[1;36m2\u001b[0m            \u001b[1;36m0.0\u001b[0m        \u001b[1;36m0.0\u001b[0m      \u001b[1;36m0\u001b[0m        \u001b[1;36m1\u001b[0m  \n",
       "\u001b[1;36m3\u001b[0m            \u001b[1;36m0.0\u001b[0m        \u001b[1;36m0.0\u001b[0m      \u001b[1;36m0\u001b[0m        \u001b[1;36m0\u001b[0m  \n",
       "\u001b[1;36m4\u001b[0m            \u001b[1;36m0.0\u001b[0m        \u001b[1;36m0.0\u001b[0m      \u001b[1;36m0\u001b[0m        \u001b[1;36m4\u001b[0m  \n",
       "\u001b[33m...\u001b[0m          \u001b[33m...\u001b[0m        \u001b[33m...\u001b[0m    \u001b[33m...\u001b[0m      \u001b[33m...\u001b[0m  \n",
       "\u001b[1;36m82093\u001b[0m        \u001b[1;36m0.0\u001b[0m        \u001b[1;36m0.0\u001b[0m      \u001b[1;36m0\u001b[0m        \u001b[1;36m1\u001b[0m  \n",
       "\u001b[1;36m82094\u001b[0m        \u001b[1;36m0.0\u001b[0m        \u001b[1;36m0.0\u001b[0m      \u001b[1;36m0\u001b[0m        \u001b[1;36m1\u001b[0m  \n",
       "\u001b[1;36m82095\u001b[0m        \u001b[1;36m0.0\u001b[0m        \u001b[1;36m0.0\u001b[0m      \u001b[1;36m0\u001b[0m        \u001b[1;36m5\u001b[0m  \n",
       "\u001b[1;36m82096\u001b[0m        \u001b[1;36m0.0\u001b[0m        \u001b[1;36m0.0\u001b[0m      \u001b[1;36m0\u001b[0m        \u001b[1;36m4\u001b[0m  \n",
       "\u001b[1;36m82097\u001b[0m        \u001b[1;36m0.0\u001b[0m        \u001b[1;36m0.0\u001b[0m      \u001b[1;36m0\u001b[0m        \u001b[1;36m0\u001b[0m  \n",
       "\n",
       "\u001b[1m[\u001b[0m\u001b[1;36m82098\u001b[0m rows x \u001b[1;36m9\u001b[0m columns\u001b[1m]\u001b[0m"
      ]
     },
     "execution_count": 31,
     "metadata": {},
     "output_type": "execute_result"
    }
   ],
   "source": [
    "X_train.drop(\"product_x\")"
   ]
  },
  {
   "cell_type": "code",
   "execution_count": 20,
   "id": "4eb11945-b343-4c12-b757-c062bd877587",
   "metadata": {},
   "outputs": [
    {
     "data": {
      "text/html": [
       "<pre style=\"white-space:pre;overflow-x:auto;line-height:normal;font-family:Menlo,'DejaVu Sans Mono',consolas,'Courier New',monospace\"></pre>\n"
      ],
      "text/plain": []
     },
     "metadata": {},
     "output_type": "display_data"
    },
    {
     "data": {
      "text/plain": [
       "\n",
       "\u001b[1;35marray\u001b[0m\u001b[1m(\u001b[0m\u001b[1m[\u001b[0m\u001b[32m'categorical__product_product_a'\u001b[0m, \u001b[32m'categorical__product_product_b'\u001b[0m,\n",
       "       \u001b[32m'categorical__product_product_c'\u001b[0m, \u001b[32m'categorical__channel_channel_a'\u001b[0m,\n",
       "       \u001b[32m'categorical__channel_channel_b'\u001b[0m, \u001b[32m'categorical__age_bucket_18-24'\u001b[0m,\n",
       "       \u001b[32m'categorical__age_bucket_25-29'\u001b[0m, \u001b[32m'categorical__age_bucket_30-34'\u001b[0m,\n",
       "       \u001b[32m'categorical__age_bucket_35-39'\u001b[0m, \u001b[32m'categorical__age_bucket_40-44'\u001b[0m,\n",
       "       \u001b[32m'categorical__age_bucket_45-49'\u001b[0m, \u001b[32m'categorical__age_bucket_50-54'\u001b[0m,\n",
       "       \u001b[32m'categorical__age_bucket_55+'\u001b[0m, \u001b[32m'categorical__age_bucket_undefined'\u001b[0m,\n",
       "       \u001b[32m'categorical__operating_system_Android'\u001b[0m,\n",
       "       \u001b[32m'categorical__operating_system_iOS'\u001b[0m,\n",
       "       \u001b[32m'categorical__operating_system_nan'\u001b[0m, \u001b[32m'numerical__days_to_churn'\u001b[0m,\n",
       "       \u001b[32m'numerical__product_x'\u001b[0m, \u001b[32m'numerical__product_y'\u001b[0m\u001b[1m]\u001b[0m, \u001b[33mdtype\u001b[0m=\u001b[35mobject\u001b[0m\u001b[1m)\u001b[0m"
      ]
     },
     "execution_count": 20,
     "metadata": {},
     "output_type": "execute_result"
    }
   ],
   "source": []
  },
  {
   "cell_type": "code",
   "execution_count": null,
   "id": "a0eda046-931c-4abd-98f3-378f1c9acc79",
   "metadata": {},
   "outputs": [],
   "source": []
  }
 ],
 "metadata": {
  "kernelspec": {
   "display_name": "Kedro (ltv_ml_project)",
   "language": "python",
   "name": "kedro_ltv_ml_project"
  },
  "language_info": {
   "codemirror_mode": {
    "name": "ipython",
    "version": 3
   },
   "file_extension": ".py",
   "mimetype": "text/x-python",
   "name": "python",
   "nbconvert_exporter": "python",
   "pygments_lexer": "ipython3",
   "version": "3.10.12"
  }
 },
 "nbformat": 4,
 "nbformat_minor": 5
}
